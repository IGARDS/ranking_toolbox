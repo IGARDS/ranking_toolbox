{
 "cells": [
  {
   "cell_type": "code",
   "execution_count": 43,
   "metadata": {},
   "outputs": [],
   "source": [
    "%matplotlib inline"
   ]
  },
  {
   "cell_type": "code",
   "execution_count": 42,
   "metadata": {},
   "outputs": [],
   "source": [
    "import pandas as pd\n",
    "import numpy as np\n",
    "\n",
    "import networkx as nx\n",
    "from networkx.drawing.nx_agraph import graphviz_layout, to_agraph\n",
    "import pygraphviz as pgv\n",
    "\n",
    "from IPython.display import Image\n",
    "def draw(A):\n",
    "    return Image(A.draw(format='png', prog='dot'))"
   ]
  },
  {
   "cell_type": "code",
   "execution_count": 56,
   "metadata": {},
   "outputs": [
    {
     "data": {
      "text/html": [
       "<div>\n",
       "<style scoped>\n",
       "    .dataframe tbody tr th:only-of-type {\n",
       "        vertical-align: middle;\n",
       "    }\n",
       "\n",
       "    .dataframe tbody tr th {\n",
       "        vertical-align: top;\n",
       "    }\n",
       "\n",
       "    .dataframe thead th {\n",
       "        text-align: right;\n",
       "    }\n",
       "</style>\n",
       "<table border=\"1\" class=\"dataframe\">\n",
       "  <thead>\n",
       "    <tr style=\"text-align: right;\">\n",
       "      <th></th>\n",
       "      <th>Team 1</th>\n",
       "      <th>Team 2</th>\n",
       "      <th>Team 1 Score</th>\n",
       "      <th>Team 2 Score</th>\n",
       "    </tr>\n",
       "  </thead>\n",
       "  <tbody>\n",
       "    <tr>\n",
       "      <th>0</th>\n",
       "      <td>UCLA</td>\n",
       "      <td>Arizona</td>\n",
       "      <td>80</td>\n",
       "      <td>79</td>\n",
       "    </tr>\n",
       "    <tr>\n",
       "      <th>1</th>\n",
       "      <td>UCLA</td>\n",
       "      <td>Arizona</td>\n",
       "      <td>81</td>\n",
       "      <td>70</td>\n",
       "    </tr>\n",
       "    <tr>\n",
       "      <th>2</th>\n",
       "      <td>Arizona</td>\n",
       "      <td>Delaware_St</td>\n",
       "      <td>82</td>\n",
       "      <td>74</td>\n",
       "    </tr>\n",
       "    <tr>\n",
       "      <th>3</th>\n",
       "      <td>Arizona</td>\n",
       "      <td>Delaware_St</td>\n",
       "      <td>83</td>\n",
       "      <td>81</td>\n",
       "    </tr>\n",
       "    <tr>\n",
       "      <th>4</th>\n",
       "      <td>Howard</td>\n",
       "      <td>Delaware_St</td>\n",
       "      <td>93</td>\n",
       "      <td>84</td>\n",
       "    </tr>\n",
       "    <tr>\n",
       "      <th>5</th>\n",
       "      <td>Howard</td>\n",
       "      <td>Delaware_St</td>\n",
       "      <td>80</td>\n",
       "      <td>85</td>\n",
       "    </tr>\n",
       "    <tr>\n",
       "      <th>6</th>\n",
       "      <td>Howard</td>\n",
       "      <td>Arizona</td>\n",
       "      <td>79</td>\n",
       "      <td>78</td>\n",
       "    </tr>\n",
       "  </tbody>\n",
       "</table>\n",
       "</div>"
      ],
      "text/plain": [
       "    Team 1       Team 2  Team 1 Score  Team 2 Score\n",
       "0     UCLA      Arizona            80            79\n",
       "1     UCLA      Arizona            81            70\n",
       "2  Arizona  Delaware_St            82            74\n",
       "3  Arizona  Delaware_St            83            81\n",
       "4   Howard  Delaware_St            93            84\n",
       "5   Howard  Delaware_St            80            85\n",
       "6   Howard      Arizona            79            78"
      ]
     },
     "execution_count": 56,
     "metadata": {},
     "output_type": "execute_result"
    }
   ],
   "source": [
    "X = pd.DataFrame([\n",
    "    [\"UCLA\",\"Arizona\",80,79],\n",
    "    [\"UCLA\",\"Arizona\",81,70],\n",
    "    [\"Arizona\",\"Delaware_St\",82,74],\n",
    "    [\"Arizona\",\"Delaware_St\",83,81],\n",
    "    [\"Howard\",\"Delaware_St\",93,84],\n",
    "    [\"Howard\",\"Delaware_St\",80,85],\n",
    "    [\"Howard\",\"Arizona\",79,78]\n",
    "],columns=[\"Team 1\",\"Team 2\", \"Team 1 Score\", \"Team 2 Score\"])\n",
    "X"
   ]
  },
  {
   "cell_type": "code",
   "execution_count": 57,
   "metadata": {},
   "outputs": [
    {
     "name": "stdout",
     "output_type": "stream",
     "text": [
      "\\begin{tabular}{lllrr}\n",
      "\\toprule\n",
      "{} &   Team 1 &       Team 2 &  Team 1 Score &  Team 2 Score \\\\\n",
      "\\midrule\n",
      "0 &     UCLA &      Arizona &            80 &            79 \\\\\n",
      "1 &     UCLA &      Arizona &            81 &            70 \\\\\n",
      "2 &  Arizona &  Delaware\\_St &            82 &            74 \\\\\n",
      "3 &  Arizona &  Delaware\\_St &            83 &            81 \\\\\n",
      "4 &   Howard &  Delaware\\_St &            93 &            84 \\\\\n",
      "5 &   Howard &  Delaware\\_St &            80 &            85 \\\\\n",
      "6 &   Howard &      Arizona &            79 &            78 \\\\\n",
      "\\bottomrule\n",
      "\\end{tabular}\n",
      "\n"
     ]
    }
   ],
   "source": [
    "print(X.to_latex())"
   ]
  },
  {
   "cell_type": "code",
   "execution_count": 58,
   "metadata": {},
   "outputs": [
    {
     "data": {
      "text/html": [
       "<div>\n",
       "<style scoped>\n",
       "    .dataframe tbody tr th:only-of-type {\n",
       "        vertical-align: middle;\n",
       "    }\n",
       "\n",
       "    .dataframe tbody tr th {\n",
       "        vertical-align: top;\n",
       "    }\n",
       "\n",
       "    .dataframe thead th {\n",
       "        text-align: right;\n",
       "    }\n",
       "</style>\n",
       "<table border=\"1\" class=\"dataframe\">\n",
       "  <thead>\n",
       "    <tr style=\"text-align: right;\">\n",
       "      <th></th>\n",
       "      <th>Arizona</th>\n",
       "      <th>Delaware_St</th>\n",
       "      <th>Howard</th>\n",
       "      <th>UCLA</th>\n",
       "    </tr>\n",
       "  </thead>\n",
       "  <tbody>\n",
       "    <tr>\n",
       "      <th>Arizona</th>\n",
       "      <td>0</td>\n",
       "      <td>10</td>\n",
       "      <td>0</td>\n",
       "      <td>0</td>\n",
       "    </tr>\n",
       "    <tr>\n",
       "      <th>Delaware_St</th>\n",
       "      <td>0</td>\n",
       "      <td>0</td>\n",
       "      <td>5</td>\n",
       "      <td>0</td>\n",
       "    </tr>\n",
       "    <tr>\n",
       "      <th>Howard</th>\n",
       "      <td>1</td>\n",
       "      <td>9</td>\n",
       "      <td>0</td>\n",
       "      <td>0</td>\n",
       "    </tr>\n",
       "    <tr>\n",
       "      <th>UCLA</th>\n",
       "      <td>12</td>\n",
       "      <td>0</td>\n",
       "      <td>0</td>\n",
       "      <td>0</td>\n",
       "    </tr>\n",
       "  </tbody>\n",
       "</table>\n",
       "</div>"
      ],
      "text/plain": [
       "             Arizona  Delaware_St  Howard  UCLA\n",
       "Arizona            0           10       0     0\n",
       "Delaware_St        0            0       5     0\n",
       "Howard             1            9       0     0\n",
       "UCLA              12            0       0     0"
      ]
     },
     "execution_count": 58,
     "metadata": {},
     "output_type": "execute_result"
    }
   ],
   "source": [
    "teams = np.unique(list(X[\"Team 1\"])+list(X[\"Team 2\"]))\n",
    "D=pd.DataFrame(np.zeros((len(teams),len(teams))),columns=teams,index=teams)\n",
    "for index,row in X.iterrows():\n",
    "    diff = row.loc[\"Team 1 Score\"] - row.loc[\"Team 2 Score\"]\n",
    "    if diff > 0:\n",
    "        D.loc[row.loc[\"Team 1\"],row.loc[\"Team 2\"]] += diff\n",
    "    elif diff < 0:\n",
    "        D.loc[row.loc[\"Team 2\"],row.loc[\"Team 1\"]] += abs(diff)\n",
    "D = D.astype(int)\n",
    "D"
   ]
  },
  {
   "cell_type": "code",
   "execution_count": 59,
   "metadata": {},
   "outputs": [],
   "source": [
    "G = nx.DiGraph()\n",
    "for i in D.index:\n",
    "    for j in D.columns:\n",
    "        if D.loc[i,j] != 0:\n",
    "            G.add_edge(i,j,width=D.loc[i,j],label=D.loc[i,j])"
   ]
  },
  {
   "cell_type": "code",
   "execution_count": 60,
   "metadata": {},
   "outputs": [
    {
     "name": "stdout",
     "output_type": "stream",
     "text": [
      "strict digraph \"\" {\n",
      "\tArizona -> Delaware_St\t [label=10,\n",
      "\t\twidth=10];\n",
      "\tDelaware_St -> Howard\t [label=5,\n",
      "\t\twidth=5];\n",
      "\tHoward -> Arizona\t [label=1,\n",
      "\t\twidth=1];\n",
      "\tHoward -> Delaware_St\t [label=9,\n",
      "\t\twidth=9];\n",
      "\tUCLA -> Arizona\t [label=12,\n",
      "\t\twidth=12];\n",
      "}\n",
      "\n"
     ]
    },
    {
     "data": {
      "image/png": "[encoded data removed]",
      "text/plain": [
       "<IPython.core.display.Image object>"
      ]
     },
     "execution_count": 60,
     "metadata": {},
     "output_type": "execute_result"
    }
   ],
   "source": [
    "A = to_agraph(G)\n",
    "print(A)\n",
    "A.layout('dot')\n",
    "A.draw('NCAA_Example.png')\n",
    "draw(A)"
   ]
  },
  {
   "cell_type": "code",
   "execution_count": null,
   "metadata": {},
   "outputs": [],
   "source": []
  }
 ],
 "metadata": {
  "kernelspec": {
   "display_name": "Python 3",
   "language": "python",
   "name": "python3"
  },
  "language_info": {
   "codemirror_mode": {
    "name": "ipython",
    "version": 3
   },
   "file_extension": ".py",
   "mimetype": "text/x-python",
   "name": "python",
   "nbconvert_exporter": "python",
   "pygments_lexer": "ipython3",
   "version": "3.7.3"
  }
 },
 "nbformat": 4,
 "nbformat_minor": 4
}
