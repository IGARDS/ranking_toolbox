{
 "cells": [
  {
   "cell_type": "markdown",
   "id": "similar-shade",
   "metadata": {},
   "source": [
    "# Example Usage"
   ]
  },
  {
   "cell_type": "code",
   "execution_count": 1,
   "id": "patient-bouquet",
   "metadata": {},
   "outputs": [],
   "source": [
    "%load_ext autoreload\n",
    "%autoreload 2"
   ]
  },
  {
   "cell_type": "code",
   "execution_count": 2,
   "id": "interested-movement",
   "metadata": {},
   "outputs": [],
   "source": [
    "import sys\n",
    "from pathlib import Path\n",
    "\n",
    "home = str(Path.home())"
   ]
  },
  {
   "cell_type": "code",
   "execution_count": 3,
   "id": "consecutive-continent",
   "metadata": {},
   "outputs": [],
   "source": [
    "import pandas as pd\n",
    "import numpy as np"
   ]
  },
  {
   "cell_type": "code",
   "execution_count": 4,
   "id": "circular-yahoo",
   "metadata": {},
   "outputs": [
    {
     "name": "stdout",
     "output_type": "stream",
     "text": [
      "Looking for packages in home directory\n"
     ]
    }
   ],
   "source": [
    "try:\n",
    "    import pyrankability\n",
    "except:\n",
    "    print('Looking for packages in home directory')\n",
    "    sys.path.insert(0,f\"{home}/ranking_toolbox\") # Add the home directory relevant paths to the PYTHONPATH\n",
    "    import pyrankability"
   ]
  },
  {
   "cell_type": "markdown",
   "id": "recognized-tradition",
   "metadata": {},
   "source": [
    "## SCIP Verification\n",
    "\n",
    "Please see the README.md for more details"
   ]
  },
  {
   "cell_type": "code",
   "execution_count": 5,
   "id": "genetic-boundary",
   "metadata": {},
   "outputs": [
    {
     "data": {
      "text/plain": [
       "'/opt/tljh/user/bin:/usr/local/sbin:/usr/local/bin:/usr/sbin:/usr/bin:/sbin:/bin:/snap/bin'"
      ]
     },
     "execution_count": 5,
     "metadata": {},
     "output_type": "execute_result"
    }
   ],
   "source": [
    "import os\n",
    "os.environ['PATH']"
   ]
  },
  {
   "cell_type": "code",
   "execution_count": 6,
   "id": "contained-diagnosis",
   "metadata": {},
   "outputs": [],
   "source": [
    "os.environ['PATH']=os.environ['PATH']+\":/usr/local/SCIPOptSuite/bin\"\n",
    "os.environ['PATH']=os.environ['PATH']+\":\"+os.path.expanduser('~/ranking_toolbox/scip')"
   ]
  },
  {
   "cell_type": "code",
   "execution_count": 7,
   "id": "accessible-channel",
   "metadata": {},
   "outputs": [
    {
     "name": "stdout",
     "output_type": "stream",
     "text": [
      "/home/jupyter-pander14/ranking_toolbox/scip/scip_collect.sh\n",
      "/home/jupyter-pander14/ranking_toolbox/scip/scip_count.sh\n",
      "/usr/local/SCIPOptSuite/bin/scip\n"
     ]
    }
   ],
   "source": [
    "%%bash\n",
    "which scip_collect.sh\n",
    "which scip_count.sh\n",
    "which scip"
   ]
  },
  {
   "cell_type": "markdown",
   "id": "pharmaceutical-drunk",
   "metadata": {},
   "source": [
    "## Create dataset"
   ]
  },
  {
   "cell_type": "code",
   "execution_count": 8,
   "id": "increased-while",
   "metadata": {},
   "outputs": [
    {
     "data": {
      "text/html": [
       "<div>\n",
       "<style scoped>\n",
       "    .dataframe tbody tr th:only-of-type {\n",
       "        vertical-align: middle;\n",
       "    }\n",
       "\n",
       "    .dataframe tbody tr th {\n",
       "        vertical-align: top;\n",
       "    }\n",
       "\n",
       "    .dataframe thead th {\n",
       "        text-align: right;\n",
       "    }\n",
       "</style>\n",
       "<table border=\"1\" class=\"dataframe\">\n",
       "  <thead>\n",
       "    <tr style=\"text-align: right;\">\n",
       "      <th></th>\n",
       "      <th>0</th>\n",
       "      <th>1</th>\n",
       "      <th>2</th>\n",
       "      <th>3</th>\n",
       "      <th>4</th>\n",
       "      <th>5</th>\n",
       "      <th>6</th>\n",
       "      <th>7</th>\n",
       "    </tr>\n",
       "  </thead>\n",
       "  <tbody>\n",
       "    <tr>\n",
       "      <th>0</th>\n",
       "      <td>0</td>\n",
       "      <td>1</td>\n",
       "      <td>1</td>\n",
       "      <td>1</td>\n",
       "      <td>1</td>\n",
       "      <td>1</td>\n",
       "      <td>1</td>\n",
       "      <td>1</td>\n",
       "    </tr>\n",
       "    <tr>\n",
       "      <th>1</th>\n",
       "      <td>0</td>\n",
       "      <td>0</td>\n",
       "      <td>1</td>\n",
       "      <td>1</td>\n",
       "      <td>1</td>\n",
       "      <td>1</td>\n",
       "      <td>1</td>\n",
       "      <td>1</td>\n",
       "    </tr>\n",
       "    <tr>\n",
       "      <th>2</th>\n",
       "      <td>0</td>\n",
       "      <td>0</td>\n",
       "      <td>0</td>\n",
       "      <td>1</td>\n",
       "      <td>1</td>\n",
       "      <td>1</td>\n",
       "      <td>1</td>\n",
       "      <td>1</td>\n",
       "    </tr>\n",
       "    <tr>\n",
       "      <th>3</th>\n",
       "      <td>1</td>\n",
       "      <td>1</td>\n",
       "      <td>1</td>\n",
       "      <td>1</td>\n",
       "      <td>0</td>\n",
       "      <td>0</td>\n",
       "      <td>0</td>\n",
       "      <td>0</td>\n",
       "    </tr>\n",
       "    <tr>\n",
       "      <th>4</th>\n",
       "      <td>0</td>\n",
       "      <td>0</td>\n",
       "      <td>0</td>\n",
       "      <td>0</td>\n",
       "      <td>0</td>\n",
       "      <td>1</td>\n",
       "      <td>1</td>\n",
       "      <td>1</td>\n",
       "    </tr>\n",
       "    <tr>\n",
       "      <th>5</th>\n",
       "      <td>1</td>\n",
       "      <td>1</td>\n",
       "      <td>1</td>\n",
       "      <td>1</td>\n",
       "      <td>1</td>\n",
       "      <td>1</td>\n",
       "      <td>0</td>\n",
       "      <td>0</td>\n",
       "    </tr>\n",
       "    <tr>\n",
       "      <th>6</th>\n",
       "      <td>0</td>\n",
       "      <td>0</td>\n",
       "      <td>0</td>\n",
       "      <td>0</td>\n",
       "      <td>0</td>\n",
       "      <td>0</td>\n",
       "      <td>0</td>\n",
       "      <td>1</td>\n",
       "    </tr>\n",
       "    <tr>\n",
       "      <th>7</th>\n",
       "      <td>1</td>\n",
       "      <td>1</td>\n",
       "      <td>1</td>\n",
       "      <td>1</td>\n",
       "      <td>1</td>\n",
       "      <td>1</td>\n",
       "      <td>1</td>\n",
       "      <td>1</td>\n",
       "    </tr>\n",
       "  </tbody>\n",
       "</table>\n",
       "</div>"
      ],
      "text/plain": [
       "   0  1  2  3  4  5  6  7\n",
       "0  0  1  1  1  1  1  1  1\n",
       "1  0  0  1  1  1  1  1  1\n",
       "2  0  0  0  1  1  1  1  1\n",
       "3  1  1  1  1  0  0  0  0\n",
       "4  0  0  0  0  0  1  1  1\n",
       "5  1  1  1  1  1  1  0  0\n",
       "6  0  0  0  0  0  0  0  1\n",
       "7  1  1  1  1  1  1  1  1"
      ]
     },
     "execution_count": 8,
     "metadata": {},
     "output_type": "execute_result"
    }
   ],
   "source": [
    "n=8\n",
    "D=np.zeros((n,n))\n",
    "D[np.triu_indices(n,1)]=1\n",
    "D[[5,3,7]] = 1-D[[5,3,7]]\n",
    "D=pd.DataFrame(D,dtype=int)\n",
    "D"
   ]
  },
  {
   "cell_type": "markdown",
   "id": "excessive-cooperative",
   "metadata": {},
   "source": [
    "### Solve the problem first with the include_model flag"
   ]
  },
  {
   "cell_type": "code",
   "execution_count": 21,
   "id": "employed-prevention",
   "metadata": {},
   "outputs": [
    {
     "name": "stdout",
     "output_type": "stream",
     "text": [
      "here\n"
     ]
    }
   ],
   "source": [
    "obj_lop,details_lop = pyrankability.rank.solve(D,method='lop',include_model=True)"
   ]
  },
  {
   "cell_type": "code",
   "execution_count": 13,
   "id": "coral-analyst",
   "metadata": {},
   "outputs": [
    {
     "name": "stdout",
     "output_type": "stream",
     "text": [
      "Objective values: 12 25.0\n"
     ]
    }
   ],
   "source": [
    "print('Objective values:',obj_lop,details_lop['obj'])"
   ]
  },
  {
   "cell_type": "markdown",
   "id": "antique-hepatitis",
   "metadata": {},
   "source": [
    "### Collect solutions"
   ]
  },
  {
   "cell_type": "code",
   "execution_count": 36,
   "id": "beginning-soundtrack",
   "metadata": {},
   "outputs": [
    {
     "name": "stdout",
     "output_type": "stream",
     "text": [
      "Running: scip_collect.sh /tmp/tmpbf1pfsr1/model.mps.fixed.mps /tmp/tmpguwvrc59/model.solutions\n",
      "STDOUT:\n",
      "Model file: /tmp/tmpbf1pfsr1/model.mps.fixed.mps\n",
      "Solutions file: /tmp/tmpguwvrc59/model.solutions\n",
      "SCIP version 7.0.0 [precision: 8 byte] [memory: block] [mode: optimized] [LP solver: SoPlex 5.0.0] [GitHash: 0bc4dc9c65]\n",
      "Copyright (C) 2002-2020 Konrad-Zuse-Zentrum fuer Informationstechnik Berlin (ZIB)\n",
      "\n",
      "External codes: \n",
      "  SoPlex 5.0.0         Linear Programming Solver developed at Zuse Institute Berlin (soplex.zib.de) [GitHash: 6535a3c8]\n",
      "  CppAD 20180000.0     Algorithmic Differentiation of C++ algorithms developed by B. Bell (www.coin-or.org/CppAD)\n",
      "  ZLIB 1.2.11          General purpose compression library by J. Gailly and M. Adler (zlib.net)\n",
      "  GMP 6.2.0            GNU Multiple Precision Arithmetic Library developed by T. Granlund (gmplib.org)\n",
      "  ZIMPL 3.3.9          Zuse Institute Mathematical Programming Language developed by T. Koch (zimpl.zib.de)\n",
      "  PaPILO 1.0.0         parallel presolve for integer and linear optimization (https://github.com/lgottwald/PaPILO) [GitHash: 471d13d]\n",
      "  bliss 0.73p          Computing Graph Automorphism Groups by T. Junttila and P. Kaski (http://www.tcs.hut.fi/Software/bliss/)\n",
      "  Ipopt 3.12.13        Interior Point Optimizer developed by A. Waechter et.al. (www.coin-or.org/Ipopt)\n",
      "\n",
      "user parameter file <scip.set> not found - using default parameters\n",
      "\n",
      "SCIP> \n",
      "read problem </tmp/tmpbf1pfsr1/model.mps.fixed.mps>\n",
      "============\n",
      "\n",
      "original problem has 28 variables (28 bin, 0 int, 0 impl, 0 cont) and 114 constraints\n",
      "SCIP> presolving/maxrounds = 0\n",
      "SCIP> constraints/countsols/sollimit = 500000\n",
      "SCIP> constraints/countsols/collect = TRUE\n",
      "SCIP> \n",
      "presolving:\n",
      "presolving (0 rounds: 0 fast, 0 medium, 0 exhaustive):\n",
      " 0 deleted vars, 0 deleted constraints, 0 added constraints, 0 tightened bounds, 0 added holes, 0 changed sides, 0 changed coefficients\n",
      " 0 implications, 0 cliques\n",
      "presolved problem has 28 variables (28 bin, 0 int, 0 impl, 0 cont) and 114 constraints\n",
      "    114 constraints of type <linear>\n",
      "transformed objective value is always integral (scale: 1)\n",
      "Presolving Time: 0.00\n",
      "\n",
      " time | node  | left  |LP iter|LP it/n|mem/heur|mdpt |frac |vars |cons |cols |rows |cuts |confs|strbr|  dualbound   | compl. | sols  |feasST\n",
      "  0.0s|     1 |     0 |     3 |     - |   845k |   0 |   0 |  28 |  45 |  28 |  45 |   0 |   0 |   0 |-5.000000e+00 | unknown|     0 |    0 \n",
      "  0.0s|     1 |     2 |     3 |     - |   845k |   0 |   0 |  28 |  45 |  28 |  45 |   0 |   0 |   0 |-5.000000e+00 | unknown|     0 |    0 \n",
      "\n",
      "SCIP Status        : problem is solved [infeasible]\n",
      "Solving Time (sec) : 0.09\n",
      "Solving Nodes      : 57\n",
      "Primal Bound       : +1.00000000000000e+20 (0 solutions)\n",
      "Dual Bound         : +1.00000000000000e+20\n",
      "Gap                : 0.00 %\n",
      "Feasible Solutions : 56 (19 non-trivial feasible subtrees)\n",
      "\n",
      "SCIP> saving 56 (29) feasible solutions\n",
      "written solutions information to file </tmp/tmpguwvrc59/model.solutions>\n",
      "SCIP> \n",
      "STDERR:\n",
      "WARNING: counting forces parameter <presolving/maxrestarts> to 0.\n",
      "WARNING: Symmetry handling has been deactivated since it is not compatible with counting.\n",
      "WARNING: => counting forces parameter <misc/usesymmetry> to 0.\n",
      "WARNING: a solution comes in over <SCIP_DECL_CONSCHECK(consCheckCountsols)>; currently these solutions are ignored.\n",
      "\n"
     ]
    },
    {
     "name": "stderr",
     "output_type": "stream",
     "text": [
      "/home/jupyter-pander14/ranking_toolbox/pyrankability/search.py:733: ParserWarning: Falling back to the 'python' engine because the 'c' engine does not support regex separators (separators > 1 char and different from '\\s+' are interpreted as regex); you can avoid this warning by specifying engine='python'.\n",
      "  solutions = pd.read_csv(solution_file,sep=', ')\n"
     ]
    }
   ],
   "source": [
    "model = details_lop['model']\n",
    "model_file = pyrankability.common.write_model(model)\n",
    "results = pyrankability.search.scip_collect(D,model_file)"
   ]
  },
  {
   "cell_type": "code",
   "execution_count": 37,
   "id": "cloudy-alignment",
   "metadata": {},
   "outputs": [
    {
     "name": "stdout",
     "output_type": "stream",
     "text": [
      "Number of solutions found: 56\n"
     ]
    }
   ],
   "source": [
    "print('Number of solutions found:',len(results['xs']))"
   ]
  },
  {
   "cell_type": "code",
   "execution_count": 38,
   "id": "diverse-disclaimer",
   "metadata": {},
   "outputs": [
    {
     "name": "stdout",
     "output_type": "stream",
     "text": [
      "X*\n"
     ]
    },
    {
     "data": {
      "text/html": [
       "<div>\n",
       "<style scoped>\n",
       "    .dataframe tbody tr th:only-of-type {\n",
       "        vertical-align: middle;\n",
       "    }\n",
       "\n",
       "    .dataframe tbody tr th {\n",
       "        vertical-align: top;\n",
       "    }\n",
       "\n",
       "    .dataframe thead th {\n",
       "        text-align: right;\n",
       "    }\n",
       "</style>\n",
       "<table border=\"1\" class=\"dataframe\">\n",
       "  <thead>\n",
       "    <tr style=\"text-align: right;\">\n",
       "      <th></th>\n",
       "      <th>0</th>\n",
       "      <th>1</th>\n",
       "      <th>2</th>\n",
       "      <th>3</th>\n",
       "      <th>4</th>\n",
       "      <th>5</th>\n",
       "      <th>6</th>\n",
       "      <th>7</th>\n",
       "    </tr>\n",
       "  </thead>\n",
       "  <tbody>\n",
       "    <tr>\n",
       "      <th>0</th>\n",
       "      <td>0.000000</td>\n",
       "      <td>1.000000</td>\n",
       "      <td>1.000000</td>\n",
       "      <td>0.982143</td>\n",
       "      <td>1.000000</td>\n",
       "      <td>0.892857</td>\n",
       "      <td>1.000000</td>\n",
       "      <td>0.625000</td>\n",
       "    </tr>\n",
       "    <tr>\n",
       "      <th>1</th>\n",
       "      <td>0.000000</td>\n",
       "      <td>0.000000</td>\n",
       "      <td>1.000000</td>\n",
       "      <td>0.928571</td>\n",
       "      <td>1.000000</td>\n",
       "      <td>0.714286</td>\n",
       "      <td>1.000000</td>\n",
       "      <td>0.357143</td>\n",
       "    </tr>\n",
       "    <tr>\n",
       "      <th>2</th>\n",
       "      <td>0.000000</td>\n",
       "      <td>0.000000</td>\n",
       "      <td>0.000000</td>\n",
       "      <td>0.821429</td>\n",
       "      <td>1.000000</td>\n",
       "      <td>0.500000</td>\n",
       "      <td>1.000000</td>\n",
       "      <td>0.178571</td>\n",
       "    </tr>\n",
       "    <tr>\n",
       "      <th>3</th>\n",
       "      <td>0.017857</td>\n",
       "      <td>0.071429</td>\n",
       "      <td>0.178571</td>\n",
       "      <td>0.000000</td>\n",
       "      <td>0.357143</td>\n",
       "      <td>0.000000</td>\n",
       "      <td>0.625000</td>\n",
       "      <td>0.000000</td>\n",
       "    </tr>\n",
       "    <tr>\n",
       "      <th>4</th>\n",
       "      <td>0.000000</td>\n",
       "      <td>0.000000</td>\n",
       "      <td>0.000000</td>\n",
       "      <td>0.642857</td>\n",
       "      <td>0.000000</td>\n",
       "      <td>0.285714</td>\n",
       "      <td>1.000000</td>\n",
       "      <td>0.071429</td>\n",
       "    </tr>\n",
       "    <tr>\n",
       "      <th>5</th>\n",
       "      <td>0.107143</td>\n",
       "      <td>0.285714</td>\n",
       "      <td>0.500000</td>\n",
       "      <td>1.000000</td>\n",
       "      <td>0.714286</td>\n",
       "      <td>0.000000</td>\n",
       "      <td>0.892857</td>\n",
       "      <td>0.000000</td>\n",
       "    </tr>\n",
       "    <tr>\n",
       "      <th>6</th>\n",
       "      <td>0.000000</td>\n",
       "      <td>0.000000</td>\n",
       "      <td>0.000000</td>\n",
       "      <td>0.375000</td>\n",
       "      <td>0.000000</td>\n",
       "      <td>0.107143</td>\n",
       "      <td>0.000000</td>\n",
       "      <td>0.017857</td>\n",
       "    </tr>\n",
       "    <tr>\n",
       "      <th>7</th>\n",
       "      <td>0.375000</td>\n",
       "      <td>0.642857</td>\n",
       "      <td>0.821429</td>\n",
       "      <td>1.000000</td>\n",
       "      <td>0.928571</td>\n",
       "      <td>1.000000</td>\n",
       "      <td>0.982143</td>\n",
       "      <td>0.000000</td>\n",
       "    </tr>\n",
       "  </tbody>\n",
       "</table>\n",
       "</div>"
      ],
      "text/plain": [
       "          0         1         2         3         4         5         6  \\\n",
       "0  0.000000  1.000000  1.000000  0.982143  1.000000  0.892857  1.000000   \n",
       "1  0.000000  0.000000  1.000000  0.928571  1.000000  0.714286  1.000000   \n",
       "2  0.000000  0.000000  0.000000  0.821429  1.000000  0.500000  1.000000   \n",
       "3  0.017857  0.071429  0.178571  0.000000  0.357143  0.000000  0.625000   \n",
       "4  0.000000  0.000000  0.000000  0.642857  0.000000  0.285714  1.000000   \n",
       "5  0.107143  0.285714  0.500000  1.000000  0.714286  0.000000  0.892857   \n",
       "6  0.000000  0.000000  0.000000  0.375000  0.000000  0.107143  0.000000   \n",
       "7  0.375000  0.642857  0.821429  1.000000  0.928571  1.000000  0.982143   \n",
       "\n",
       "          7  \n",
       "0  0.625000  \n",
       "1  0.357143  \n",
       "2  0.178571  \n",
       "3  0.000000  \n",
       "4  0.071429  \n",
       "5  0.000000  \n",
       "6  0.017857  \n",
       "7  0.000000  "
      ]
     },
     "execution_count": 38,
     "metadata": {},
     "output_type": "execute_result"
    }
   ],
   "source": [
    "print('X*')\n",
    "results['xstar']"
   ]
  },
  {
   "cell_type": "code",
   "execution_count": 39,
   "id": "unnecessary-wellington",
   "metadata": {},
   "outputs": [
    {
     "name": "stdout",
     "output_type": "stream",
     "text": [
      "Objective values:\n"
     ]
    },
    {
     "data": {
      "text/plain": [
       "0     25.0\n",
       "1     25.0\n",
       "2     25.0\n",
       "3     25.0\n",
       "4     25.0\n",
       "5     25.0\n",
       "6     25.0\n",
       "7     25.0\n",
       "8     25.0\n",
       "9     25.0\n",
       "10    25.0\n",
       "11    25.0\n",
       "12    25.0\n",
       "13    25.0\n",
       "14    25.0\n",
       "15    25.0\n",
       "16    25.0\n",
       "17    25.0\n",
       "18    25.0\n",
       "19    25.0\n",
       "20    25.0\n",
       "21    25.0\n",
       "22    25.0\n",
       "23    25.0\n",
       "24    25.0\n",
       "25    25.0\n",
       "26    25.0\n",
       "27    25.0\n",
       "28    25.0\n",
       "29    25.0\n",
       "30    25.0\n",
       "31    25.0\n",
       "32    25.0\n",
       "33    25.0\n",
       "34    25.0\n",
       "35    25.0\n",
       "36    25.0\n",
       "37    25.0\n",
       "38    25.0\n",
       "39    25.0\n",
       "40    25.0\n",
       "41    25.0\n",
       "42    25.0\n",
       "43    25.0\n",
       "44    25.0\n",
       "45    25.0\n",
       "46    25.0\n",
       "47    25.0\n",
       "48    25.0\n",
       "49    25.0\n",
       "50    25.0\n",
       "51    25.0\n",
       "52    25.0\n",
       "53    25.0\n",
       "54    25.0\n",
       "55    25.0\n",
       "dtype: float64"
      ]
     },
     "execution_count": 39,
     "metadata": {},
     "output_type": "execute_result"
    }
   ],
   "source": [
    "print('Objective values:')\n",
    "pd.Series(results['objs'])"
   ]
  },
  {
   "cell_type": "code",
   "execution_count": null,
   "id": "boring-rating",
   "metadata": {},
   "outputs": [],
   "source": []
  }
 ],
 "metadata": {
  "kernelspec": {
   "display_name": "Python 3",
   "language": "python",
   "name": "python3"
  },
  "language_info": {
   "codemirror_mode": {
    "name": "ipython",
    "version": 3
   },
   "file_extension": ".py",
   "mimetype": "text/x-python",
   "name": "python",
   "nbconvert_exporter": "python",
   "pygments_lexer": "ipython3",
   "version": "3.7.3"
  }
 },
 "nbformat": 4,
 "nbformat_minor": 5
}
