{
 "cells": [
  {
   "cell_type": "markdown",
   "id": "german-amber",
   "metadata": {},
   "source": [
    "# Example Usage"
   ]
  },
  {
   "cell_type": "code",
   "execution_count": 1,
   "id": "plain-display",
   "metadata": {},
   "outputs": [],
   "source": [
    "%load_ext autoreload\n",
    "%autoreload 2"
   ]
  },
  {
   "cell_type": "code",
   "execution_count": 2,
   "id": "impaired-christian",
   "metadata": {},
   "outputs": [],
   "source": [
    "import sys\n",
    "from pathlib import Path\n",
    "\n",
    "home = str(Path.home())"
   ]
  },
  {
   "cell_type": "code",
   "execution_count": 3,
   "id": "altered-stereo",
   "metadata": {},
   "outputs": [],
   "source": [
    "import pandas as pd\n",
    "import numpy as np"
   ]
  },
  {
   "cell_type": "code",
   "execution_count": 4,
   "id": "daily-serve",
   "metadata": {},
   "outputs": [
    {
     "name": "stdout",
     "output_type": "stream",
     "text": [
      "Looking for packages in home directory\n"
     ]
    }
   ],
   "source": [
    "try:\n",
    "    import pyrankability\n",
    "except:\n",
    "    print('Looking for packages in home directory')\n",
    "    sys.path.insert(0,f\"{home}/ranking_toolbox\") # Add the home directory relevant paths to the PYTHONPATH\n",
    "    import pyrankability"
   ]
  },
  {
   "cell_type": "markdown",
   "id": "optional-truth",
   "metadata": {},
   "source": [
    "## SCIP Verification\n",
    "\n",
    "Please see the README.md for more details"
   ]
  },
  {
   "cell_type": "code",
   "execution_count": 5,
   "id": "protective-state",
   "metadata": {},
   "outputs": [
    {
     "data": {
      "text/plain": [
       "'/opt/tljh/user/bin:/usr/local/sbin:/usr/local/bin:/usr/sbin:/usr/bin:/sbin:/bin:/snap/bin'"
      ]
     },
     "execution_count": 5,
     "metadata": {},
     "output_type": "execute_result"
    }
   ],
   "source": [
    "import os\n",
    "os.environ['PATH']"
   ]
  },
  {
   "cell_type": "code",
   "execution_count": 6,
   "id": "cardiovascular-cycling",
   "metadata": {},
   "outputs": [],
   "source": [
    "os.environ['PATH']=os.environ['PATH']+\":/usr/local/SCIPOptSuite/bin\"\n",
    "os.environ['PATH']=os.environ['PATH']+\":\"+os.path.expanduser('~/ranking_toolbox/scip')"
   ]
  },
  {
   "cell_type": "code",
   "execution_count": 7,
   "id": "occupied-while",
   "metadata": {},
   "outputs": [
    {
     "name": "stdout",
     "output_type": "stream",
     "text": [
      "/home/jupyter-pander14/ranking_toolbox/scip/scip_collect.sh\n",
      "/home/jupyter-pander14/ranking_toolbox/scip/scip_count.sh\n",
      "/usr/local/SCIPOptSuite/bin/scip\n"
     ]
    }
   ],
   "source": [
    "%%bash\n",
    "which scip_collect.sh\n",
    "which scip_count.sh\n",
    "which scip"
   ]
  },
  {
   "cell_type": "markdown",
   "id": "union-fleet",
   "metadata": {},
   "source": [
    "## Create dataset"
   ]
  },
  {
   "cell_type": "code",
   "execution_count": 8,
   "id": "above-rating",
   "metadata": {},
   "outputs": [
    {
     "data": {
      "text/html": [
       "<div>\n",
       "<style scoped>\n",
       "    .dataframe tbody tr th:only-of-type {\n",
       "        vertical-align: middle;\n",
       "    }\n",
       "\n",
       "    .dataframe tbody tr th {\n",
       "        vertical-align: top;\n",
       "    }\n",
       "\n",
       "    .dataframe thead th {\n",
       "        text-align: right;\n",
       "    }\n",
       "</style>\n",
       "<table border=\"1\" class=\"dataframe\">\n",
       "  <thead>\n",
       "    <tr style=\"text-align: right;\">\n",
       "      <th></th>\n",
       "      <th>0</th>\n",
       "      <th>1</th>\n",
       "      <th>2</th>\n",
       "      <th>3</th>\n",
       "      <th>4</th>\n",
       "      <th>5</th>\n",
       "      <th>6</th>\n",
       "      <th>7</th>\n",
       "    </tr>\n",
       "  </thead>\n",
       "  <tbody>\n",
       "    <tr>\n",
       "      <th>0</th>\n",
       "      <td>0</td>\n",
       "      <td>1</td>\n",
       "      <td>1</td>\n",
       "      <td>1</td>\n",
       "      <td>1</td>\n",
       "      <td>1</td>\n",
       "      <td>1</td>\n",
       "      <td>1</td>\n",
       "    </tr>\n",
       "    <tr>\n",
       "      <th>1</th>\n",
       "      <td>0</td>\n",
       "      <td>0</td>\n",
       "      <td>1</td>\n",
       "      <td>1</td>\n",
       "      <td>1</td>\n",
       "      <td>1</td>\n",
       "      <td>1</td>\n",
       "      <td>1</td>\n",
       "    </tr>\n",
       "    <tr>\n",
       "      <th>2</th>\n",
       "      <td>0</td>\n",
       "      <td>0</td>\n",
       "      <td>0</td>\n",
       "      <td>1</td>\n",
       "      <td>1</td>\n",
       "      <td>1</td>\n",
       "      <td>1</td>\n",
       "      <td>1</td>\n",
       "    </tr>\n",
       "    <tr>\n",
       "      <th>3</th>\n",
       "      <td>1</td>\n",
       "      <td>1</td>\n",
       "      <td>1</td>\n",
       "      <td>1</td>\n",
       "      <td>0</td>\n",
       "      <td>0</td>\n",
       "      <td>0</td>\n",
       "      <td>0</td>\n",
       "    </tr>\n",
       "    <tr>\n",
       "      <th>4</th>\n",
       "      <td>0</td>\n",
       "      <td>0</td>\n",
       "      <td>0</td>\n",
       "      <td>0</td>\n",
       "      <td>0</td>\n",
       "      <td>1</td>\n",
       "      <td>1</td>\n",
       "      <td>1</td>\n",
       "    </tr>\n",
       "    <tr>\n",
       "      <th>5</th>\n",
       "      <td>1</td>\n",
       "      <td>1</td>\n",
       "      <td>1</td>\n",
       "      <td>1</td>\n",
       "      <td>1</td>\n",
       "      <td>1</td>\n",
       "      <td>0</td>\n",
       "      <td>0</td>\n",
       "    </tr>\n",
       "    <tr>\n",
       "      <th>6</th>\n",
       "      <td>0</td>\n",
       "      <td>0</td>\n",
       "      <td>0</td>\n",
       "      <td>0</td>\n",
       "      <td>0</td>\n",
       "      <td>0</td>\n",
       "      <td>0</td>\n",
       "      <td>1</td>\n",
       "    </tr>\n",
       "    <tr>\n",
       "      <th>7</th>\n",
       "      <td>1</td>\n",
       "      <td>1</td>\n",
       "      <td>1</td>\n",
       "      <td>1</td>\n",
       "      <td>1</td>\n",
       "      <td>1</td>\n",
       "      <td>1</td>\n",
       "      <td>1</td>\n",
       "    </tr>\n",
       "  </tbody>\n",
       "</table>\n",
       "</div>"
      ],
      "text/plain": [
       "   0  1  2  3  4  5  6  7\n",
       "0  0  1  1  1  1  1  1  1\n",
       "1  0  0  1  1  1  1  1  1\n",
       "2  0  0  0  1  1  1  1  1\n",
       "3  1  1  1  1  0  0  0  0\n",
       "4  0  0  0  0  0  1  1  1\n",
       "5  1  1  1  1  1  1  0  0\n",
       "6  0  0  0  0  0  0  0  1\n",
       "7  1  1  1  1  1  1  1  1"
      ]
     },
     "execution_count": 8,
     "metadata": {},
     "output_type": "execute_result"
    }
   ],
   "source": [
    "n=8\n",
    "D=np.zeros((n,n))\n",
    "D[np.triu_indices(n,1)]=1\n",
    "D[[5,3,7]] = 1-D[[5,3,7]]\n",
    "D=pd.DataFrame(D,dtype=int)\n",
    "D"
   ]
  },
  {
   "cell_type": "markdown",
   "id": "racial-counter",
   "metadata": {},
   "source": [
    "### Solve the problem first with the include_model flag"
   ]
  },
  {
   "cell_type": "code",
   "execution_count": 21,
   "id": "incredible-tribute",
   "metadata": {},
   "outputs": [
    {
     "name": "stdout",
     "output_type": "stream",
     "text": [
      "here\n"
     ]
    }
   ],
   "source": [
    "obj_lop,details_lop = pyrankability.rank.solve(D,method='lop',include_model=True)"
   ]
  },
  {
   "cell_type": "code",
   "execution_count": 13,
   "id": "ruled-locking",
   "metadata": {},
   "outputs": [
    {
     "name": "stdout",
     "output_type": "stream",
     "text": [
      "Objective values: 12 25.0\n"
     ]
    }
   ],
   "source": [
    "print('Objective values:',obj_lop,details_lop['obj'])"
   ]
  },
  {
   "cell_type": "markdown",
   "id": "hairy-geneva",
   "metadata": {},
   "source": [
    "### Collect solutions"
   ]
  },
  {
   "cell_type": "code",
   "execution_count": 54,
   "id": "soviet-shelter",
   "metadata": {},
   "outputs": [
    {
     "name": "stdout",
     "output_type": "stream",
     "text": [
      "Running: scip_collect.sh /tmp/tmp3jla3hai/model.mps.fixed.mps /tmp/tmpxveoi6nk/model.solutions 10\n",
      "STDOUT:\n",
      "Model file: /tmp/tmp3jla3hai/model.mps.fixed.mps\n",
      "Solutions file: /tmp/tmpxveoi6nk/model.solutions\n",
      "SCIP version 7.0.0 [precision: 8 byte] [memory: block] [mode: optimized] [LP solver: SoPlex 5.0.0] [GitHash: 0bc4dc9c65]\n",
      "Copyright (C) 2002-2020 Konrad-Zuse-Zentrum fuer Informationstechnik Berlin (ZIB)\n",
      "\n",
      "External codes: \n",
      "  SoPlex 5.0.0         Linear Programming Solver developed at Zuse Institute Berlin (soplex.zib.de) [GitHash: 6535a3c8]\n",
      "  CppAD 20180000.0     Algorithmic Differentiation of C++ algorithms developed by B. Bell (www.coin-or.org/CppAD)\n",
      "  ZLIB 1.2.11          General purpose compression library by J. Gailly and M. Adler (zlib.net)\n",
      "  GMP 6.2.0            GNU Multiple Precision Arithmetic Library developed by T. Granlund (gmplib.org)\n",
      "  ZIMPL 3.3.9          Zuse Institute Mathematical Programming Language developed by T. Koch (zimpl.zib.de)\n",
      "  PaPILO 1.0.0         parallel presolve for integer and linear optimization (https://github.com/lgottwald/PaPILO) [GitHash: 471d13d]\n",
      "  bliss 0.73p          Computing Graph Automorphism Groups by T. Junttila and P. Kaski (http://www.tcs.hut.fi/Software/bliss/)\n",
      "  Ipopt 3.12.13        Interior Point Optimizer developed by A. Waechter et.al. (www.coin-or.org/Ipopt)\n",
      "\n",
      "user parameter file <scip.set> not found - using default parameters\n",
      "\n",
      "SCIP> \n",
      "read problem </tmp/tmp3jla3hai/model.mps.fixed.mps>\n",
      "============\n",
      "\n",
      "original problem has 28 variables (28 bin, 0 int, 0 impl, 0 cont) and 114 constraints\n",
      "SCIP> presolving/maxrounds = 0\n",
      "SCIP> constraints/countsols/sollimit = 10\n",
      "SCIP> constraints/countsols/collect = TRUE\n",
      "SCIP> \n",
      "presolving:\n",
      "presolving (0 rounds: 0 fast, 0 medium, 0 exhaustive):\n",
      " 0 deleted vars, 0 deleted constraints, 0 added constraints, 0 tightened bounds, 0 added holes, 0 changed sides, 0 changed coefficients\n",
      " 0 implications, 0 cliques\n",
      "presolved problem has 28 variables (28 bin, 0 int, 0 impl, 0 cont) and 114 constraints\n",
      "    114 constraints of type <linear>\n",
      "transformed objective value is always integral (scale: 1)\n",
      "Presolving Time: 0.00\n",
      "\n",
      " time | node  | left  |LP iter|LP it/n|mem/heur|mdpt |frac |vars |cons |cols |rows |cuts |confs|strbr|  dualbound   | compl. | sols  |feasST\n",
      "  0.0s|     1 |     0 |     3 |     - |   845k |   0 |   0 |  28 |  45 |  28 |  45 |   0 |   0 |   0 |-5.000000e+00 | unknown|     0 |    0 \n",
      "  0.0s|     1 |     2 |     3 |     - |   845k |   0 |   0 |  28 |  45 |  28 |  45 |   0 |   0 |   0 |-5.000000e+00 | unknown|     0 |    0 \n",
      "\n",
      "SCIP Status        : solving was interrupted [user interrupt]\n",
      "Solving Time (sec) : 0.04\n",
      "Solving Nodes      : 15\n",
      "Primal Bound       : +1.00000000000000e+20 (0 solutions)\n",
      "Dual Bound         : -5.00000000000000e+00\n",
      "Gap                : infinite\n",
      "Feasible Solutions : 10 (3 non-trivial feasible subtrees)\n",
      "\n",
      "SCIP> saving 10 (5) feasible solutions\n",
      "written solutions information to file </tmp/tmpxveoi6nk/model.solutions>\n",
      "SCIP> \n",
      "STDERR:\n",
      "WARNING: counting forces parameter <presolving/maxrestarts> to 0.\n",
      "WARNING: Symmetry handling has been deactivated since it is not compatible with counting.\n",
      "WARNING: => counting forces parameter <misc/usesymmetry> to 0.\n",
      "WARNING: a solution comes in over <SCIP_DECL_CONSCHECK(consCheckCountsols)>; currently these solutions are ignored.\n",
      "\n"
     ]
    },
    {
     "name": "stderr",
     "output_type": "stream",
     "text": [
      "/home/jupyter-pander14/ranking_toolbox/pyrankability/search.py:740: ParserWarning: Falling back to the 'python' engine because the 'c' engine does not support regex separators (separators > 1 char and different from '\\s+' are interpreted as regex); you can avoid this warning by specifying engine='python'.\n",
      "  n = int((-b + np.sqrt(b**2 - 4*a*c))/(2*a) + 1)\n"
     ]
    }
   ],
   "source": [
    "model = details_lop['model']\n",
    "model_file = pyrankability.common.write_model(model)\n",
    "results = pyrankability.search.scip_collect(D,model_file,max_num_solutions=10)"
   ]
  },
  {
   "cell_type": "code",
   "execution_count": 56,
   "id": "guided-bosnia",
   "metadata": {},
   "outputs": [
    {
     "data": {
      "text/plain": [
       "[(7, 5, 3, 0, 1, 2, 4, 6),\n",
       " (7, 5, 0, 3, 1, 2, 4, 6),\n",
       " (7, 0, 5, 3, 1, 2, 4, 6),\n",
       " (7, 5, 0, 1, 3, 2, 4, 6),\n",
       " (7, 0, 5, 1, 3, 2, 4, 6),\n",
       " (0, 7, 5, 3, 1, 2, 4, 6),\n",
       " (0, 7, 5, 1, 3, 2, 4, 6),\n",
       " (0, 1, 2, 4, 6, 7, 5, 3),\n",
       " (7, 0, 1, 2, 5, 4, 6, 3),\n",
       " (7, 0, 1, 2, 5, 4, 3, 6)]"
      ]
     },
     "execution_count": 56,
     "metadata": {},
     "output_type": "execute_result"
    }
   ],
   "source": [
    "results['perms']"
   ]
  },
  {
   "cell_type": "code",
   "execution_count": 59,
   "id": "liked-democracy",
   "metadata": {},
   "outputs": [
    {
     "data": {
      "text/html": [
       "<div>\n",
       "<style scoped>\n",
       "    .dataframe tbody tr th:only-of-type {\n",
       "        vertical-align: middle;\n",
       "    }\n",
       "\n",
       "    .dataframe tbody tr th {\n",
       "        vertical-align: top;\n",
       "    }\n",
       "\n",
       "    .dataframe thead th {\n",
       "        text-align: right;\n",
       "    }\n",
       "</style>\n",
       "<table border=\"1\" class=\"dataframe\">\n",
       "  <thead>\n",
       "    <tr style=\"text-align: right;\">\n",
       "      <th></th>\n",
       "      <th>0</th>\n",
       "      <th>1</th>\n",
       "      <th>2</th>\n",
       "      <th>3</th>\n",
       "      <th>4</th>\n",
       "      <th>5</th>\n",
       "      <th>6</th>\n",
       "      <th>7</th>\n",
       "    </tr>\n",
       "  </thead>\n",
       "  <tbody>\n",
       "    <tr>\n",
       "      <th>0</th>\n",
       "      <td>3</td>\n",
       "      <td>4</td>\n",
       "      <td>5</td>\n",
       "      <td>2</td>\n",
       "      <td>6</td>\n",
       "      <td>1</td>\n",
       "      <td>7</td>\n",
       "      <td>0</td>\n",
       "    </tr>\n",
       "    <tr>\n",
       "      <th>1</th>\n",
       "      <td>2</td>\n",
       "      <td>4</td>\n",
       "      <td>5</td>\n",
       "      <td>3</td>\n",
       "      <td>6</td>\n",
       "      <td>1</td>\n",
       "      <td>7</td>\n",
       "      <td>0</td>\n",
       "    </tr>\n",
       "    <tr>\n",
       "      <th>2</th>\n",
       "      <td>1</td>\n",
       "      <td>4</td>\n",
       "      <td>5</td>\n",
       "      <td>3</td>\n",
       "      <td>6</td>\n",
       "      <td>2</td>\n",
       "      <td>7</td>\n",
       "      <td>0</td>\n",
       "    </tr>\n",
       "    <tr>\n",
       "      <th>3</th>\n",
       "      <td>2</td>\n",
       "      <td>3</td>\n",
       "      <td>5</td>\n",
       "      <td>4</td>\n",
       "      <td>6</td>\n",
       "      <td>1</td>\n",
       "      <td>7</td>\n",
       "      <td>0</td>\n",
       "    </tr>\n",
       "    <tr>\n",
       "      <th>4</th>\n",
       "      <td>1</td>\n",
       "      <td>3</td>\n",
       "      <td>5</td>\n",
       "      <td>4</td>\n",
       "      <td>6</td>\n",
       "      <td>2</td>\n",
       "      <td>7</td>\n",
       "      <td>0</td>\n",
       "    </tr>\n",
       "    <tr>\n",
       "      <th>5</th>\n",
       "      <td>0</td>\n",
       "      <td>4</td>\n",
       "      <td>5</td>\n",
       "      <td>3</td>\n",
       "      <td>6</td>\n",
       "      <td>2</td>\n",
       "      <td>7</td>\n",
       "      <td>1</td>\n",
       "    </tr>\n",
       "    <tr>\n",
       "      <th>6</th>\n",
       "      <td>0</td>\n",
       "      <td>3</td>\n",
       "      <td>5</td>\n",
       "      <td>4</td>\n",
       "      <td>6</td>\n",
       "      <td>2</td>\n",
       "      <td>7</td>\n",
       "      <td>1</td>\n",
       "    </tr>\n",
       "    <tr>\n",
       "      <th>7</th>\n",
       "      <td>0</td>\n",
       "      <td>1</td>\n",
       "      <td>2</td>\n",
       "      <td>7</td>\n",
       "      <td>3</td>\n",
       "      <td>6</td>\n",
       "      <td>4</td>\n",
       "      <td>5</td>\n",
       "    </tr>\n",
       "    <tr>\n",
       "      <th>8</th>\n",
       "      <td>1</td>\n",
       "      <td>2</td>\n",
       "      <td>3</td>\n",
       "      <td>7</td>\n",
       "      <td>5</td>\n",
       "      <td>4</td>\n",
       "      <td>6</td>\n",
       "      <td>0</td>\n",
       "    </tr>\n",
       "    <tr>\n",
       "      <th>9</th>\n",
       "      <td>1</td>\n",
       "      <td>2</td>\n",
       "      <td>3</td>\n",
       "      <td>6</td>\n",
       "      <td>5</td>\n",
       "      <td>4</td>\n",
       "      <td>7</td>\n",
       "      <td>0</td>\n",
       "    </tr>\n",
       "  </tbody>\n",
       "</table>\n",
       "</div>"
      ],
      "text/plain": [
       "   0  1  2  3  4  5  6  7\n",
       "0  3  4  5  2  6  1  7  0\n",
       "1  2  4  5  3  6  1  7  0\n",
       "2  1  4  5  3  6  2  7  0\n",
       "3  2  3  5  4  6  1  7  0\n",
       "4  1  3  5  4  6  2  7  0\n",
       "5  0  4  5  3  6  2  7  1\n",
       "6  0  3  5  4  6  2  7  1\n",
       "7  0  1  2  7  3  6  4  5\n",
       "8  1  2  3  7  5  4  6  0\n",
       "9  1  2  3  6  5  4  7  0"
      ]
     },
     "execution_count": 59,
     "metadata": {},
     "output_type": "execute_result"
    }
   ],
   "source": [
    "pd.DataFrame(results['rankings'],dtype=int)"
   ]
  },
  {
   "cell_type": "code",
   "execution_count": 47,
   "id": "distributed-portsmouth",
   "metadata": {},
   "outputs": [
    {
     "name": "stdout",
     "output_type": "stream",
     "text": [
      "Number of solutions found: 10\n"
     ]
    }
   ],
   "source": [
    "print('Number of solutions found:',len(results['xs']))"
   ]
  },
  {
   "cell_type": "code",
   "execution_count": 48,
   "id": "metric-lobby",
   "metadata": {},
   "outputs": [
    {
     "name": "stdout",
     "output_type": "stream",
     "text": [
      "X*\n"
     ]
    },
    {
     "data": {
      "text/html": [
       "<div>\n",
       "<style scoped>\n",
       "    .dataframe tbody tr th:only-of-type {\n",
       "        vertical-align: middle;\n",
       "    }\n",
       "\n",
       "    .dataframe tbody tr th {\n",
       "        vertical-align: top;\n",
       "    }\n",
       "\n",
       "    .dataframe thead th {\n",
       "        text-align: right;\n",
       "    }\n",
       "</style>\n",
       "<table border=\"1\" class=\"dataframe\">\n",
       "  <thead>\n",
       "    <tr style=\"text-align: right;\">\n",
       "      <th></th>\n",
       "      <th>0</th>\n",
       "      <th>1</th>\n",
       "      <th>2</th>\n",
       "      <th>3</th>\n",
       "      <th>4</th>\n",
       "      <th>5</th>\n",
       "      <th>6</th>\n",
       "      <th>7</th>\n",
       "    </tr>\n",
       "  </thead>\n",
       "  <tbody>\n",
       "    <tr>\n",
       "      <th>0</th>\n",
       "      <td>0.0</td>\n",
       "      <td>1.0</td>\n",
       "      <td>1.0</td>\n",
       "      <td>0.9</td>\n",
       "      <td>1.0</td>\n",
       "      <td>0.7</td>\n",
       "      <td>1.0</td>\n",
       "      <td>0.3</td>\n",
       "    </tr>\n",
       "    <tr>\n",
       "      <th>1</th>\n",
       "      <td>0.0</td>\n",
       "      <td>0.0</td>\n",
       "      <td>1.0</td>\n",
       "      <td>0.6</td>\n",
       "      <td>1.0</td>\n",
       "      <td>0.3</td>\n",
       "      <td>1.0</td>\n",
       "      <td>0.1</td>\n",
       "    </tr>\n",
       "    <tr>\n",
       "      <th>2</th>\n",
       "      <td>0.0</td>\n",
       "      <td>0.0</td>\n",
       "      <td>0.0</td>\n",
       "      <td>0.3</td>\n",
       "      <td>1.0</td>\n",
       "      <td>0.3</td>\n",
       "      <td>1.0</td>\n",
       "      <td>0.1</td>\n",
       "    </tr>\n",
       "    <tr>\n",
       "      <th>3</th>\n",
       "      <td>0.1</td>\n",
       "      <td>0.4</td>\n",
       "      <td>0.7</td>\n",
       "      <td>0.0</td>\n",
       "      <td>0.7</td>\n",
       "      <td>0.0</td>\n",
       "      <td>0.8</td>\n",
       "      <td>0.0</td>\n",
       "    </tr>\n",
       "    <tr>\n",
       "      <th>4</th>\n",
       "      <td>0.0</td>\n",
       "      <td>0.0</td>\n",
       "      <td>0.0</td>\n",
       "      <td>0.3</td>\n",
       "      <td>0.0</td>\n",
       "      <td>0.1</td>\n",
       "      <td>1.0</td>\n",
       "      <td>0.1</td>\n",
       "    </tr>\n",
       "    <tr>\n",
       "      <th>5</th>\n",
       "      <td>0.3</td>\n",
       "      <td>0.7</td>\n",
       "      <td>0.7</td>\n",
       "      <td>1.0</td>\n",
       "      <td>0.9</td>\n",
       "      <td>0.0</td>\n",
       "      <td>0.9</td>\n",
       "      <td>0.0</td>\n",
       "    </tr>\n",
       "    <tr>\n",
       "      <th>6</th>\n",
       "      <td>0.0</td>\n",
       "      <td>0.0</td>\n",
       "      <td>0.0</td>\n",
       "      <td>0.2</td>\n",
       "      <td>0.0</td>\n",
       "      <td>0.1</td>\n",
       "      <td>0.0</td>\n",
       "      <td>0.1</td>\n",
       "    </tr>\n",
       "    <tr>\n",
       "      <th>7</th>\n",
       "      <td>0.7</td>\n",
       "      <td>0.9</td>\n",
       "      <td>0.9</td>\n",
       "      <td>1.0</td>\n",
       "      <td>0.9</td>\n",
       "      <td>1.0</td>\n",
       "      <td>0.9</td>\n",
       "      <td>0.0</td>\n",
       "    </tr>\n",
       "  </tbody>\n",
       "</table>\n",
       "</div>"
      ],
      "text/plain": [
       "     0    1    2    3    4    5    6    7\n",
       "0  0.0  1.0  1.0  0.9  1.0  0.7  1.0  0.3\n",
       "1  0.0  0.0  1.0  0.6  1.0  0.3  1.0  0.1\n",
       "2  0.0  0.0  0.0  0.3  1.0  0.3  1.0  0.1\n",
       "3  0.1  0.4  0.7  0.0  0.7  0.0  0.8  0.0\n",
       "4  0.0  0.0  0.0  0.3  0.0  0.1  1.0  0.1\n",
       "5  0.3  0.7  0.7  1.0  0.9  0.0  0.9  0.0\n",
       "6  0.0  0.0  0.0  0.2  0.0  0.1  0.0  0.1\n",
       "7  0.7  0.9  0.9  1.0  0.9  1.0  0.9  0.0"
      ]
     },
     "execution_count": 48,
     "metadata": {},
     "output_type": "execute_result"
    }
   ],
   "source": [
    "print('X*')\n",
    "results['xstar']"
   ]
  },
  {
   "cell_type": "code",
   "execution_count": 49,
   "id": "interior-purse",
   "metadata": {},
   "outputs": [
    {
     "name": "stdout",
     "output_type": "stream",
     "text": [
      "Objective values:\n"
     ]
    },
    {
     "data": {
      "text/plain": [
       "0    25.0\n",
       "1    25.0\n",
       "2    25.0\n",
       "3    25.0\n",
       "4    25.0\n",
       "5    25.0\n",
       "6    25.0\n",
       "7    25.0\n",
       "8    25.0\n",
       "9    25.0\n",
       "dtype: float64"
      ]
     },
     "execution_count": 49,
     "metadata": {},
     "output_type": "execute_result"
    }
   ],
   "source": [
    "print('Objective values:')\n",
    "pd.Series(results['objs'])"
   ]
  },
  {
   "cell_type": "code",
   "execution_count": null,
   "id": "played-thailand",
   "metadata": {},
   "outputs": [],
   "source": []
  }
 ],
 "metadata": {
  "kernelspec": {
   "display_name": "Python 3",
   "language": "python",
   "name": "python3"
  },
  "language_info": {
   "codemirror_mode": {
    "name": "ipython",
    "version": 3
   },
   "file_extension": ".py",
   "mimetype": "text/x-python",
   "name": "python",
   "nbconvert_exporter": "python",
   "pygments_lexer": "ipython3",
   "version": "3.7.3"
  }
 },
 "nbformat": 4,
 "nbformat_minor": 5
}
