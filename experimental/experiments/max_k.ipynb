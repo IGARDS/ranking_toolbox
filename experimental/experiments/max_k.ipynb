{
 "cells": [
  {
   "cell_type": "code",
   "execution_count": 2,
   "metadata": {},
   "outputs": [],
   "source": [
    "%load_ext autoreload\n",
    "%autoreload 2\n",
    "%matplotlib inline"
   ]
  },
  {
   "cell_type": "code",
   "execution_count": 3,
   "metadata": {},
   "outputs": [],
   "source": [
    "import pandas as pd\n",
    "import numpy as np"
   ]
  },
  {
   "cell_type": "code",
   "execution_count": 4,
   "metadata": {},
   "outputs": [],
   "source": [
    "from pathlib import Path\n",
    "home = str(Path.home())"
   ]
  },
  {
   "cell_type": "code",
   "execution_count": 5,
   "metadata": {},
   "outputs": [],
   "source": [
    "import sys\n",
    "sys.path.insert(0,\"%s/rankability_toolbox_dev\"%home)"
   ]
  },
  {
   "cell_type": "code",
   "execution_count": 6,
   "metadata": {},
   "outputs": [],
   "source": [
    "import pyrankability"
   ]
  },
  {
   "cell_type": "code",
   "execution_count": null,
   "metadata": {},
   "outputs": [],
   "source": []
  },
  {
   "cell_type": "code",
   "execution_count": 7,
   "metadata": {},
   "outputs": [
    {
     "name": "stdout",
     "output_type": "stream",
     "text": [
      "[[0.  1.1 1.2 2.6]\n",
      " [1.  0.  2.4 1.3]\n",
      " [1.4 2.8 0.  nan]\n",
      " [3.  1.5 nan 0. ]]\n",
      "[[0.  1.1 1.2 2.6]\n",
      " [1.  0.  2.4 1.3]\n",
      " [1.4 2.8 0.  2.2]\n",
      " [3.  1.5 2.7 0. ]]\n",
      "[[0.  1.1 1.2 2.6]\n",
      " [1.  0.  2.4 1.3]\n",
      " [1.4 2.8 0.  2.2]\n",
      " [3.  1.5 2.7 0. ]]\n",
      "[[0.  1.1 1.2 2.6]\n",
      " [1.  0.  2.4 1.3]\n",
      " [1.4 2.8 0.  2.2]\n",
      " [3.  1.5 2.7 0. ]]\n",
      "[[0.  1.1 1.2 2.6]\n",
      " [1.  0.  2.4 1.3]\n",
      " [1.4 2.8 0.  2.2]\n",
      " [3.  1.5 2.7 0. ]]\n",
      "[[0.  1.1 1.2 2.6]\n",
      " [1.  0.  2.4 1.3]\n",
      " [1.4 2.8 0.  2.2]\n",
      " [3.  1.5 2.7 0. ]]\n",
      "[[0.  1.1 1.2 2.6]\n",
      " [1.  0.  2.4 1.3]\n",
      " [1.4 2.8 0.  2.2]\n",
      " [3.  1.5 2.7 0. ]]\n",
      "[[0.  1.1 1.2 2.6]\n",
      " [1.  0.  2.4 1.3]\n",
      " [1.4 2.8 0.  2.2]\n",
      " [3.  1.5 2.7 0. ]]\n",
      "[[0.  1.1 1.2 2.6]\n",
      " [1.  0.  2.4 1.3]\n",
      " [1.4 2.8 0.  2.2]\n",
      " [3.  1.5 2.7 0. ]]\n",
      "[[0.  1.1 1.2 2.6]\n",
      " [1.  0.  2.4 1.3]\n",
      " [1.4 2.8 0.  2.2]\n",
      " [3.  1.5 2.7 0. ]]\n",
      "[[0.  1.1 1.2 2.6]\n",
      " [1.  0.  2.4 1.3]\n",
      " [1.4 2.8 0.  2.2]\n",
      " [3.  1.5 2.7 0. ]]\n",
      "[[0.  1.1 1.2 2.6]\n",
      " [1.  0.  2.4 1.3]\n",
      " [1.4 2.8 0.  2.2]\n",
      " [3.  1.5 2.7 0. ]]\n"
     ]
    },
    {
     "data": {
      "text/plain": [
       "array([[0. , 1.1, 1.2, 2.6],\n",
       "       [1. , 0. , 2.4, 1.3],\n",
       "       [1.4, 2.8, 0. , 2.2],\n",
       "       [3. , 1.5, 2.7, 0. ]])"
      ]
     },
     "execution_count": 7,
     "metadata": {},
     "output_type": "execute_result"
    }
   ],
   "source": [
    "import copy\n",
    "n = 4\n",
    "D = np.ones((n,n))*np.NaN\n",
    "for i in range(n):\n",
    "    D[i,i]=0\n",
    "offset = 0.\n",
    "for i in range(n):\n",
    "    for j in range(n):\n",
    "        if i == j:\n",
    "            continue\n",
    "        def do_first(offset):\n",
    "            missing_first = np.where(np.isnan(D[:,j]-D[:,i]))[0]\n",
    "            for ix in missing_first:\n",
    "                Dcopy = copy.copy(D)\n",
    "                #Dcopy[j,j] = np.nan\n",
    "                #Dcopy[i,i] = np.nan\n",
    "                first = np.where(Dcopy[:,j]-Dcopy[:,i]<0)[0]\n",
    "                not_first = np.where(Dcopy[:,j]-Dcopy[:,i]>0)[0]\n",
    "                if len(not_first) > len(first):                    \n",
    "                    if np.isnan(D[ix,j]) and np.isnan(D[ix,i]):\n",
    "                        D[ix,j] = 1+offset\n",
    "                        D[ix,i] = D[ix,j]+1+offset\n",
    "                    elif np.isnan(D[ix,j]):\n",
    "                        D[ix,j] = D[ix,i]-1+offset\n",
    "                    else:\n",
    "                        D[ix,i] = D[ix,j]+1+offset\n",
    "                else:\n",
    "                    if np.isnan(D[ix,i]) and np.isnan(D[ix,j]):\n",
    "                        D[ix,i] = 1+offset\n",
    "                        D[ix,j] = D[ix,i]+1+offset\n",
    "                    elif np.isnan(D[ix,i]):\n",
    "                        D[ix,i] = D[ix,j]-1+offset\n",
    "                    else:\n",
    "                        D[ix,j] = D[ix,i]+1+offset\n",
    "                offset+=0.1\n",
    "            return offset\n",
    "        def do_second(offset):\n",
    "            missing_second = np.where(np.isnan(D[i,:]-D[j,:]))[0]\n",
    "            for ix in missing_second:\n",
    "                Dcopy = copy.copy(D)\n",
    "                #Dcopy[j,j] = np.nan\n",
    "                #Dcopy[i,i] = np.nan\n",
    "                second = np.where(Dcopy[i,:]-Dcopy[j,:]<0)[0]\n",
    "                not_second = np.where(Dcopy[i,:]-Dcopy[j,:]>0)[0]\n",
    "                if len(second) > len(not_second):                    \n",
    "                    if np.isnan(D[j,ix]) and np.isnan(D[i,ix]):\n",
    "                        D[j,ix] = 1+offset\n",
    "                        D[i,ix] = D[j,ix]+1+offset\n",
    "                    elif np.isnan(D[j,ix]):\n",
    "                        D[j,ix] = D[i,ix]-1+offset\n",
    "                    else:\n",
    "                        D[i,ix] = D[j,ix]+1+offset\n",
    "                else:\n",
    "                    if np.isnan(D[i,ix]) and np.isnan(D[j,ix]):\n",
    "                        D[i,ix] = 1+offset\n",
    "                        D[j,ix] = D[i,ix]+1+offset\n",
    "                    elif np.isnan(D[i,ix]):\n",
    "                        D[i,ix] = D[j,ix]-1+offset\n",
    "                    else:\n",
    "                        D[j,ix] = D[i,ix]+1+offset  \n",
    "                offset+=0.1\n",
    "            return offset\n",
    "        if len(np.where(np.isnan(D[i,:]-D[j,:]))[0]) < len(np.where(np.isnan(D[:,j]-D[:,i]))[0]):\n",
    "            offset = do_first(offset)\n",
    "            offset = do_second(offset)\n",
    "        else:\n",
    "            offset = do_second(offset)\n",
    "            offset = do_first(offset)\n",
    "        print(D)\n",
    "D"
   ]
  },
  {
   "cell_type": "code",
   "execution_count": 26,
   "metadata": {},
   "outputs": [],
   "source": [
    "D = np.array([\n",
    "    [0. , 1.1, 1.2, 2.6],\n",
    "    [1. , 0. , 2.4, 1.3],\n",
    "    [1.4, 2.8, 0. , 2.2],\n",
    "    [3. , 1.5, 2.2, 0. ]])"
   ]
  },
  {
   "cell_type": "code",
   "execution_count": 29,
   "metadata": {},
   "outputs": [
    {
     "data": {
      "text/html": [
       "<div>\n",
       "<style scoped>\n",
       "    .dataframe tbody tr th:only-of-type {\n",
       "        vertical-align: middle;\n",
       "    }\n",
       "\n",
       "    .dataframe tbody tr th {\n",
       "        vertical-align: top;\n",
       "    }\n",
       "\n",
       "    .dataframe thead th {\n",
       "        text-align: right;\n",
       "    }\n",
       "</style>\n",
       "<table border=\"1\" class=\"dataframe\">\n",
       "  <thead>\n",
       "    <tr style=\"text-align: right;\">\n",
       "      <th></th>\n",
       "      <th>0</th>\n",
       "      <th>1</th>\n",
       "      <th>2</th>\n",
       "      <th>3</th>\n",
       "    </tr>\n",
       "  </thead>\n",
       "  <tbody>\n",
       "    <tr>\n",
       "      <th>0</th>\n",
       "      <td>0.0</td>\n",
       "      <td>1.1</td>\n",
       "      <td>1.2</td>\n",
       "      <td>2.6</td>\n",
       "    </tr>\n",
       "    <tr>\n",
       "      <th>1</th>\n",
       "      <td>1.0</td>\n",
       "      <td>0.0</td>\n",
       "      <td>2.4</td>\n",
       "      <td>1.3</td>\n",
       "    </tr>\n",
       "    <tr>\n",
       "      <th>2</th>\n",
       "      <td>1.4</td>\n",
       "      <td>2.8</td>\n",
       "      <td>0.0</td>\n",
       "      <td>2.2</td>\n",
       "    </tr>\n",
       "    <tr>\n",
       "      <th>3</th>\n",
       "      <td>3.0</td>\n",
       "      <td>1.5</td>\n",
       "      <td>2.2</td>\n",
       "      <td>0.0</td>\n",
       "    </tr>\n",
       "  </tbody>\n",
       "</table>\n",
       "</div>"
      ],
      "text/plain": [
       "     0    1    2    3\n",
       "0  0.0  1.1  1.2  2.6\n",
       "1  1.0  0.0  2.4  1.3\n",
       "2  1.4  2.8  0.0  2.2\n",
       "3  3.0  1.5  2.2  0.0"
      ]
     },
     "execution_count": 29,
     "metadata": {},
     "output_type": "execute_result"
    }
   ],
   "source": [
    "pd.DataFrame(D)"
   ]
  },
  {
   "cell_type": "code",
   "execution_count": 32,
   "metadata": {},
   "outputs": [
    {
     "data": {
      "text/html": [
       "<div>\n",
       "<style scoped>\n",
       "    .dataframe tbody tr th:only-of-type {\n",
       "        vertical-align: middle;\n",
       "    }\n",
       "\n",
       "    .dataframe tbody tr th {\n",
       "        vertical-align: top;\n",
       "    }\n",
       "\n",
       "    .dataframe thead th {\n",
       "        text-align: right;\n",
       "    }\n",
       "</style>\n",
       "<table border=\"1\" class=\"dataframe\">\n",
       "  <thead>\n",
       "    <tr style=\"text-align: right;\">\n",
       "      <th></th>\n",
       "      <th>0</th>\n",
       "      <th>1</th>\n",
       "      <th>2</th>\n",
       "      <th>3</th>\n",
       "    </tr>\n",
       "  </thead>\n",
       "  <tbody>\n",
       "    <tr>\n",
       "      <th>0</th>\n",
       "      <td>0.0</td>\n",
       "      <td>4.0</td>\n",
       "      <td>4.0</td>\n",
       "      <td>4.0</td>\n",
       "    </tr>\n",
       "    <tr>\n",
       "      <th>1</th>\n",
       "      <td>4.0</td>\n",
       "      <td>0.0</td>\n",
       "      <td>4.0</td>\n",
       "      <td>4.0</td>\n",
       "    </tr>\n",
       "    <tr>\n",
       "      <th>2</th>\n",
       "      <td>4.0</td>\n",
       "      <td>4.0</td>\n",
       "      <td>0.0</td>\n",
       "      <td>4.0</td>\n",
       "    </tr>\n",
       "    <tr>\n",
       "      <th>3</th>\n",
       "      <td>4.0</td>\n",
       "      <td>4.0</td>\n",
       "      <td>4.0</td>\n",
       "      <td>0.0</td>\n",
       "    </tr>\n",
       "  </tbody>\n",
       "</table>\n",
       "</div>"
      ],
      "text/plain": [
       "     0    1    2    3\n",
       "0  0.0  4.0  4.0  4.0\n",
       "1  4.0  0.0  4.0  4.0\n",
       "2  4.0  4.0  0.0  4.0\n",
       "3  4.0  4.0  4.0  0.0"
      ]
     },
     "execution_count": 32,
     "metadata": {},
     "output_type": "execute_result"
    }
   ],
   "source": [
    "C = pyrankability.construct.C_count(pd.DataFrame(D))\n",
    "pd.DataFrame(C)"
   ]
  },
  {
   "cell_type": "code",
   "execution_count": 31,
   "metadata": {},
   "outputs": [
    {
     "name": "stdout",
     "output_type": "stream",
     "text": [
      "Using license file /opt/tljh/user/lib/python3.7/site-packages/gurobipy/.libs/gurobi.lic\n",
      "Restricted license - for non-production use only - expires 2022-01-13\n"
     ]
    },
    {
     "data": {
      "text/plain": [
       "(24.0, array([3, 2, 1, 0]))"
      ]
     },
     "execution_count": 31,
     "metadata": {},
     "output_type": "execute_result"
    }
   ],
   "source": [
    "k,details = pyrankability.rank.solve(pd.DataFrame(D),method='hillside')\n",
    "P = np.array(details['P'][0])\n",
    "k,P"
   ]
  },
  {
   "cell_type": "code",
   "execution_count": 140,
   "metadata": {},
   "outputs": [
    {
     "data": {
      "text/html": [
       "<div>\n",
       "<style scoped>\n",
       "    .dataframe tbody tr th:only-of-type {\n",
       "        vertical-align: middle;\n",
       "    }\n",
       "\n",
       "    .dataframe tbody tr th {\n",
       "        vertical-align: top;\n",
       "    }\n",
       "\n",
       "    .dataframe thead th {\n",
       "        text-align: right;\n",
       "    }\n",
       "</style>\n",
       "<table border=\"1\" class=\"dataframe\">\n",
       "  <thead>\n",
       "    <tr style=\"text-align: right;\">\n",
       "      <th></th>\n",
       "      <th>3</th>\n",
       "      <th>2</th>\n",
       "      <th>1</th>\n",
       "      <th>0</th>\n",
       "    </tr>\n",
       "  </thead>\n",
       "  <tbody>\n",
       "    <tr>\n",
       "      <th>3</th>\n",
       "      <td>0.0</td>\n",
       "      <td>4.0</td>\n",
       "      <td>3.0</td>\n",
       "      <td>4.0</td>\n",
       "    </tr>\n",
       "    <tr>\n",
       "      <th>2</th>\n",
       "      <td>4.0</td>\n",
       "      <td>0.0</td>\n",
       "      <td>4.0</td>\n",
       "      <td>4.0</td>\n",
       "    </tr>\n",
       "    <tr>\n",
       "      <th>1</th>\n",
       "      <td>5.0</td>\n",
       "      <td>4.0</td>\n",
       "      <td>0.0</td>\n",
       "      <td>4.0</td>\n",
       "    </tr>\n",
       "    <tr>\n",
       "      <th>0</th>\n",
       "      <td>4.0</td>\n",
       "      <td>4.0</td>\n",
       "      <td>4.0</td>\n",
       "      <td>0.0</td>\n",
       "    </tr>\n",
       "  </tbody>\n",
       "</table>\n",
       "</div>"
      ],
      "text/plain": [
       "     3    2    1    0\n",
       "3  0.0  4.0  3.0  4.0\n",
       "2  4.0  0.0  4.0  4.0\n",
       "1  5.0  4.0  0.0  4.0\n",
       "0  4.0  4.0  4.0  0.0"
      ]
     },
     "execution_count": 140,
     "metadata": {},
     "output_type": "execute_result"
    }
   ],
   "source": [
    "C.iloc[P,:].iloc[:,P]"
   ]
  },
  {
   "cell_type": "code",
   "execution_count": 143,
   "metadata": {},
   "outputs": [
    {
     "data": {
      "text/html": [
       "<div>\n",
       "<style scoped>\n",
       "    .dataframe tbody tr th:only-of-type {\n",
       "        vertical-align: middle;\n",
       "    }\n",
       "\n",
       "    .dataframe tbody tr th {\n",
       "        vertical-align: top;\n",
       "    }\n",
       "\n",
       "    .dataframe thead th {\n",
       "        text-align: right;\n",
       "    }\n",
       "</style>\n",
       "<table border=\"1\" class=\"dataframe\">\n",
       "  <thead>\n",
       "    <tr style=\"text-align: right;\">\n",
       "      <th></th>\n",
       "      <th>3</th>\n",
       "      <th>2</th>\n",
       "      <th>1</th>\n",
       "      <th>0</th>\n",
       "    </tr>\n",
       "  </thead>\n",
       "  <tbody>\n",
       "    <tr>\n",
       "      <th>3</th>\n",
       "      <td>0.0</td>\n",
       "      <td>2.7</td>\n",
       "      <td>1.5</td>\n",
       "      <td>3.0</td>\n",
       "    </tr>\n",
       "    <tr>\n",
       "      <th>2</th>\n",
       "      <td>2.2</td>\n",
       "      <td>0.0</td>\n",
       "      <td>2.8</td>\n",
       "      <td>1.4</td>\n",
       "    </tr>\n",
       "    <tr>\n",
       "      <th>1</th>\n",
       "      <td>1.3</td>\n",
       "      <td>2.4</td>\n",
       "      <td>0.0</td>\n",
       "      <td>1.0</td>\n",
       "    </tr>\n",
       "    <tr>\n",
       "      <th>0</th>\n",
       "      <td>2.6</td>\n",
       "      <td>1.2</td>\n",
       "      <td>1.1</td>\n",
       "      <td>0.0</td>\n",
       "    </tr>\n",
       "  </tbody>\n",
       "</table>\n",
       "</div>"
      ],
      "text/plain": [
       "     3    2    1    0\n",
       "3  0.0  2.7  1.5  3.0\n",
       "2  2.2  0.0  2.8  1.4\n",
       "1  1.3  2.4  0.0  1.0\n",
       "0  2.6  1.2  1.1  0.0"
      ]
     },
     "execution_count": 143,
     "metadata": {},
     "output_type": "execute_result"
    }
   ],
   "source": [
    "pd.DataFrame(D).iloc[P,:].iloc[:,P]"
   ]
  },
  {
   "cell_type": "code",
   "execution_count": 10,
   "metadata": {},
   "outputs": [
    {
     "data": {
      "text/html": [
       "<div>\n",
       "<style scoped>\n",
       "    .dataframe tbody tr th:only-of-type {\n",
       "        vertical-align: middle;\n",
       "    }\n",
       "\n",
       "    .dataframe tbody tr th {\n",
       "        vertical-align: top;\n",
       "    }\n",
       "\n",
       "    .dataframe thead th {\n",
       "        text-align: right;\n",
       "    }\n",
       "</style>\n",
       "<table border=\"1\" class=\"dataframe\">\n",
       "  <thead>\n",
       "    <tr style=\"text-align: right;\">\n",
       "      <th></th>\n",
       "      <th>0</th>\n",
       "      <th>1</th>\n",
       "      <th>2</th>\n",
       "      <th>3</th>\n",
       "    </tr>\n",
       "  </thead>\n",
       "  <tbody>\n",
       "    <tr>\n",
       "      <th>0</th>\n",
       "      <td>1.0</td>\n",
       "      <td>2.0</td>\n",
       "      <td>3.0</td>\n",
       "      <td>4.0</td>\n",
       "    </tr>\n",
       "    <tr>\n",
       "      <th>1</th>\n",
       "      <td>0.9</td>\n",
       "      <td>1.9</td>\n",
       "      <td>2.9</td>\n",
       "      <td>3.9</td>\n",
       "    </tr>\n",
       "    <tr>\n",
       "      <th>2</th>\n",
       "      <td>0.8</td>\n",
       "      <td>1.8</td>\n",
       "      <td>2.8</td>\n",
       "      <td>3.8</td>\n",
       "    </tr>\n",
       "    <tr>\n",
       "      <th>3</th>\n",
       "      <td>0.7</td>\n",
       "      <td>1.7</td>\n",
       "      <td>2.7</td>\n",
       "      <td>3.7</td>\n",
       "    </tr>\n",
       "  </tbody>\n",
       "</table>\n",
       "</div>"
      ],
      "text/plain": [
       "     0    1    2    3\n",
       "0  1.0  2.0  3.0  4.0\n",
       "1  0.9  1.9  2.9  3.9\n",
       "2  0.8  1.8  2.8  3.8\n",
       "3  0.7  1.7  2.7  3.7"
      ]
     },
     "execution_count": 10,
     "metadata": {},
     "output_type": "execute_result"
    }
   ],
   "source": [
    "D_str = \"\"\"\n",
    "1.0,2.0,3.0,4.0\n",
    "0.9,1.9,2.9,3.9\n",
    "0.8,1.8,2.8,3.8\n",
    "0.7,1.7,2.7,3.7\n",
    "\"\"\"\n",
    "D = []\n",
    "for line in D_str.strip().split(\"\\n\"):\n",
    "    D.append([float(v) for v in line.split(\",\")])\n",
    "D = pd.DataFrame(D)\n",
    "D"
   ]
  },
  {
   "cell_type": "code",
   "execution_count": 15,
   "metadata": {},
   "outputs": [
    {
     "data": {
      "text/plain": [
       "array([0, 1, 2, 3])"
      ]
     },
     "execution_count": 15,
     "metadata": {},
     "output_type": "execute_result"
    }
   ],
   "source": [
    "k,details = pyrankability.rank.solve(D,method='hillside')\n",
    "P = np.array(details['P'][0])\n",
    "P\n"
   ]
  },
  {
   "cell_type": "code",
   "execution_count": 27,
   "metadata": {},
   "outputs": [
    {
     "data": {
      "text/html": [
       "<div>\n",
       "<style scoped>\n",
       "    .dataframe tbody tr th:only-of-type {\n",
       "        vertical-align: middle;\n",
       "    }\n",
       "\n",
       "    .dataframe tbody tr th {\n",
       "        vertical-align: top;\n",
       "    }\n",
       "\n",
       "    .dataframe thead th {\n",
       "        text-align: right;\n",
       "    }\n",
       "</style>\n",
       "<table border=\"1\" class=\"dataframe\">\n",
       "  <thead>\n",
       "    <tr style=\"text-align: right;\">\n",
       "      <th></th>\n",
       "      <th>0</th>\n",
       "      <th>1</th>\n",
       "      <th>2</th>\n",
       "      <th>3</th>\n",
       "    </tr>\n",
       "  </thead>\n",
       "  <tbody>\n",
       "    <tr>\n",
       "      <th>0</th>\n",
       "      <td>0.0</td>\n",
       "      <td>0.0</td>\n",
       "      <td>0.0</td>\n",
       "      <td>0.0</td>\n",
       "    </tr>\n",
       "    <tr>\n",
       "      <th>1</th>\n",
       "      <td>8.0</td>\n",
       "      <td>0.0</td>\n",
       "      <td>0.0</td>\n",
       "      <td>0.0</td>\n",
       "    </tr>\n",
       "    <tr>\n",
       "      <th>2</th>\n",
       "      <td>8.0</td>\n",
       "      <td>8.0</td>\n",
       "      <td>0.0</td>\n",
       "      <td>0.0</td>\n",
       "    </tr>\n",
       "    <tr>\n",
       "      <th>3</th>\n",
       "      <td>8.0</td>\n",
       "      <td>8.0</td>\n",
       "      <td>8.0</td>\n",
       "      <td>0.0</td>\n",
       "    </tr>\n",
       "  </tbody>\n",
       "</table>\n",
       "</div>"
      ],
      "text/plain": [
       "     0    1    2    3\n",
       "0  0.0  0.0  0.0  0.0\n",
       "1  8.0  0.0  0.0  0.0\n",
       "2  8.0  8.0  0.0  0.0\n",
       "3  8.0  8.0  8.0  0.0"
      ]
     },
     "execution_count": 27,
     "metadata": {},
     "output_type": "execute_result"
    }
   ],
   "source": [
    "C = pyrankability.common.compute_C(D.values)\n",
    "pd.DataFrame(C)"
   ]
  },
  {
   "cell_type": "code",
   "execution_count": 26,
   "metadata": {},
   "outputs": [
    {
     "data": {
      "text/plain": [
       "48.0"
      ]
     },
     "execution_count": 26,
     "metadata": {},
     "output_type": "execute_result"
    }
   ],
   "source": [
    "np.sum(C)"
   ]
  },
  {
   "cell_type": "code",
   "execution_count": 25,
   "metadata": {},
   "outputs": [
    {
     "data": {
      "text/plain": [
       "48.0"
      ]
     },
     "execution_count": 25,
     "metadata": {},
     "output_type": "execute_result"
    }
   ],
   "source": [
    "n = len(D)\n",
    "(n*n-n)/2 * 2*n"
   ]
  },
  {
   "cell_type": "code",
   "execution_count": 17,
   "metadata": {},
   "outputs": [],
   "source": [
    "direct_thres = 2\n",
    "spread_thres = 2\n",
    "weight_indirect = 0\n",
    "\n",
    "map_func = lambda linked: pyrankability.construct.support_map_vectorized_direct_indirect_weighted(linked,direct_thres=direct_thres,spread_thres=spread_thres,weight_indirect=weight_indirect)\n",
    "D = pyrankability.construct.V_count_vectorized(game_df,map_func)\n",
    "\n",
    "assert sum(D.stack()) < len(game_df)"
   ]
  },
  {
   "cell_type": "code",
   "execution_count": 19,
   "metadata": {},
   "outputs": [],
   "source": [
    "direct_thres = 2\n",
    "spread_thres = 2\n",
    "weight_indirect = 0.5\n",
    "\n",
    "map_func = lambda linked: pyrankability.construct.support_map_vectorized_direct_indirect_weighted(linked,direct_thres=direct_thres,spread_thres=spread_thres,weight_indirect=weight_indirect)\n",
    "D3 = pyrankability.construct.V_count_vectorized(game_df,map_func)\n",
    "\n",
    "assert sum(D3.stack()) < sum(D2.stack())"
   ]
  },
  {
   "cell_type": "code",
   "execution_count": null,
   "metadata": {},
   "outputs": [],
   "source": []
  }
 ],
 "metadata": {
  "kernelspec": {
   "display_name": "Python 3",
   "language": "python",
   "name": "python3"
  },
  "language_info": {
   "codemirror_mode": {
    "name": "ipython",
    "version": 3
   },
   "file_extension": ".py",
   "mimetype": "text/x-python",
   "name": "python",
   "nbconvert_exporter": "python",
   "pygments_lexer": "ipython3",
   "version": "3.7.3"
  }
 },
 "nbformat": 4,
 "nbformat_minor": 4
}
