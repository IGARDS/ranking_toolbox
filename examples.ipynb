{
 "cells": [
  {
   "cell_type": "markdown",
   "metadata": {},
   "source": [
    "# Examples of the pyrankability package"
   ]
  },
  {
   "cell_type": "code",
   "execution_count": 1,
   "metadata": {},
   "outputs": [],
   "source": [
    "%load_ext autoreload\n",
    "%autoreload 2"
   ]
  },
  {
   "cell_type": "code",
   "execution_count": 2,
   "metadata": {},
   "outputs": [],
   "source": [
    "from IPython.core.display import display, HTML\n",
    "import pandas as pd\n",
    "import numpy as np\n",
    "import copy\n",
    "import os"
   ]
  },
  {
   "cell_type": "code",
   "execution_count": 3,
   "metadata": {},
   "outputs": [],
   "source": [
    "import sys\n",
    "sys.path.insert(0,\".\")"
   ]
  },
  {
   "cell_type": "code",
   "execution_count": 4,
   "metadata": {},
   "outputs": [],
   "source": [
    "import pyrankability"
   ]
  },
  {
   "cell_type": "markdown",
   "metadata": {},
   "source": [
    "## Simple examples"
   ]
  },
  {
   "cell_type": "code",
   "execution_count": 5,
   "metadata": {},
   "outputs": [
    {
     "data": {
      "text/plain": [
       "array([[0., 1., 1., 1., 1., 1., 1., 1.],\n",
       "       [0., 0., 1., 1., 1., 1., 1., 1.],\n",
       "       [0., 0., 0., 1., 1., 1., 1., 1.],\n",
       "       [1., 1., 1., 1., 0., 0., 0., 0.],\n",
       "       [0., 0., 0., 0., 0., 1., 1., 1.],\n",
       "       [1., 1., 1., 1., 1., 1., 0., 0.],\n",
       "       [0., 0., 0., 0., 0., 0., 0., 1.],\n",
       "       [1., 1., 1., 1., 1., 1., 1., 1.]])"
      ]
     },
     "execution_count": 5,
     "metadata": {},
     "output_type": "execute_result"
    }
   ],
   "source": [
    "n=8\n",
    "D=np.zeros((n,n))\n",
    "D[np.triu_indices(n,1)]=1\n",
    "D[[5,3,7]] = 1-D[[5,3,7]]\n",
    "D"
   ]
  },
  {
   "cell_type": "markdown",
   "metadata": {},
   "source": [
    "### Hillside"
   ]
  },
  {
   "cell_type": "code",
   "execution_count": 6,
   "metadata": {},
   "outputs": [
    {
     "name": "stdout",
     "output_type": "stream",
     "text": [
      "Academic license - for non-commercial use only\n"
     ]
    },
    {
     "data": {
      "text/plain": [
       "54"
      ]
     },
     "execution_count": 6,
     "metadata": {},
     "output_type": "execute_result"
    }
   ],
   "source": [
    "k_hillside,details_hillside = pyrankability.hillside.bilp(D)\n",
    "k_hillside"
   ]
  },
  {
   "cell_type": "code",
   "execution_count": 7,
   "metadata": {},
   "outputs": [
    {
     "data": {
      "text/plain": [
       "[(0, 7, 1, 5, 2, 4, 3, 6)]"
      ]
     },
     "execution_count": 7,
     "metadata": {},
     "output_type": "execute_result"
    }
   ],
   "source": [
    "details_hillside['P']"
   ]
  },
  {
   "cell_type": "markdown",
   "metadata": {},
   "source": [
    "### LOP"
   ]
  },
  {
   "cell_type": "code",
   "execution_count": 8,
   "metadata": {},
   "outputs": [
    {
     "data": {
      "text/plain": [
       "25.0"
      ]
     },
     "execution_count": 8,
     "metadata": {},
     "output_type": "execute_result"
    }
   ],
   "source": [
    "k_lop,details_lop = pyrankability.lop.bilp(D)\n",
    "k_lop"
   ]
  },
  {
   "cell_type": "code",
   "execution_count": 9,
   "metadata": {},
   "outputs": [
    {
     "data": {
      "text/plain": [
       "[(7, 0, 1, 2, 4, 6, 5, 3)]"
      ]
     },
     "execution_count": 9,
     "metadata": {},
     "output_type": "execute_result"
    }
   ],
   "source": [
    "details_lop['P']"
   ]
  },
  {
   "cell_type": "markdown",
   "metadata": {},
   "source": [
    "### Multiple solutions with random restarts"
   ]
  },
  {
   "cell_type": "code",
   "execution_count": 10,
   "metadata": {},
   "outputs": [
    {
     "name": "stdout",
     "output_type": "stream",
     "text": [
      "Read MPS format model from file /tmp/tmpx0iww074/model.mps\n",
      "Reading time = 0.00 seconds\n",
      "lop: 400 rows, 64 columns, 1128 nonzeros\n",
      "Read MPS format model from file /tmp/tmpx0iww074/model.mps\n",
      "Reading time = 0.00 seconds\n",
      "lop: 400 rows, 64 columns, 1128 nonzeros\n",
      "Read MPS format model from file /tmp/tmpx0iww074/model.mps\n",
      "Reading time = 0.00 seconds\n",
      "lop: 400 rows, 64 columns, 1128 nonzeros\n",
      "Read MPS format model from file /tmp/tmpx0iww074/model.mps\n",
      "Reading time = 0.00 seconds\n",
      "lop: 400 rows, 64 columns, 1128 nonzeros\n",
      "Read MPS format model from file /tmp/tmpx0iww074/model.mps\n",
      "Reading time = 0.00 seconds\n",
      "lop: 400 rows, 64 columns, 1128 nonzeros\n",
      "Read MPS format model from file /tmp/tmpx0iww074/model.mps\n",
      "Reading time = 0.00 seconds\n",
      "lop: 400 rows, 64 columns, 1128 nonzeros\n",
      "Read MPS format model from file /tmp/tmpx0iww074/model.mps\n",
      "Reading time = 0.00 seconds\n",
      "lop: 400 rows, 64 columns, 1128 nonzeros\n",
      "Read MPS format model from file /tmp/tmpx0iww074/model.mps\n",
      "Reading time = 0.00 seconds\n",
      "lop: 400 rows, 64 columns, 1128 nonzeros\n",
      "Read MPS format model from file /tmp/tmpx0iww074/model.mps\n",
      "Reading time = 0.00 seconds\n",
      "lop: 400 rows, 64 columns, 1128 nonzeros\n",
      "Read MPS format model from file /tmp/tmpx0iww074/model.mps\n",
      "Reading time = 0.00 seconds\n",
      "lop: 400 rows, 64 columns, 1128 nonzeros\n"
     ]
    },
    {
     "data": {
      "text/plain": [
       "54"
      ]
     },
     "execution_count": 10,
     "metadata": {},
     "output_type": "execute_result"
    }
   ],
   "source": [
    "k_hillside_10,details_hillside_10 = pyrankability.hillside.bilp(D,num_random_restarts=10)\n",
    "k_hillside_10"
   ]
  },
  {
   "cell_type": "code",
   "execution_count": 11,
   "metadata": {},
   "outputs": [
    {
     "data": {
      "text/plain": [
       "[(0, 7, 1, 5, 2, 4, 3, 6),\n",
       " (0, 1, 7, 2, 5, 3, 4, 6),\n",
       " (0, 1, 7, 5, 2, 3, 4, 6),\n",
       " (0, 7, 1, 5, 2, 3, 4, 6),\n",
       " (0, 1, 7, 2, 5, 3, 4, 6),\n",
       " (0, 1, 7, 5, 2, 4, 3, 6),\n",
       " (0, 1, 7, 2, 5, 3, 4, 6),\n",
       " (0, 7, 1, 5, 2, 4, 3, 6),\n",
       " (0, 7, 1, 5, 2, 3, 4, 6),\n",
       " (0, 7, 1, 5, 2, 3, 4, 6),\n",
       " (0, 7, 1, 2, 5, 4, 3, 6)]"
      ]
     },
     "execution_count": 11,
     "metadata": {},
     "output_type": "execute_result"
    }
   ],
   "source": [
    "details_hillside_10['P']"
   ]
  },
  {
   "cell_type": "code",
   "execution_count": 12,
   "metadata": {},
   "outputs": [
    {
     "name": "stdout",
     "output_type": "stream",
     "text": [
      "Read MPS format model from file /tmp/tmp66yj840q/model.mps\n",
      "Reading time = 0.00 seconds\n",
      "lop: 112 rows, 28 columns, 336 nonzeros\n",
      "Read MPS format model from file /tmp/tmp66yj840q/model.mps\n",
      "Reading time = 0.00 seconds\n",
      "lop: 112 rows, 28 columns, 336 nonzeros\n",
      "Read MPS format model from file /tmp/tmp66yj840q/model.mps\n",
      "Reading time = 0.00 seconds\n",
      "lop: 112 rows, 28 columns, 336 nonzeros\n",
      "Read MPS format model from file /tmp/tmp66yj840q/model.mps\n",
      "Reading time = 0.00 seconds\n",
      "lop: 112 rows, 28 columns, 336 nonzeros\n",
      "Read MPS format model from file /tmp/tmp66yj840q/model.mps\n",
      "Reading time = 0.00 seconds\n",
      "lop: 112 rows, 28 columns, 336 nonzeros\n",
      "Read MPS format model from file /tmp/tmp66yj840q/model.mps\n",
      "Reading time = 0.00 seconds\n",
      "lop: 112 rows, 28 columns, 336 nonzeros\n",
      "Read MPS format model from file /tmp/tmp66yj840q/model.mps\n",
      "Reading time = 0.00 seconds\n",
      "lop: 112 rows, 28 columns, 336 nonzeros\n",
      "Read MPS format model from file /tmp/tmp66yj840q/model.mps\n",
      "Reading time = 0.00 seconds\n",
      "lop: 112 rows, 28 columns, 336 nonzeros\n",
      "Read MPS format model from file /tmp/tmp66yj840q/model.mps\n",
      "Reading time = 0.00 seconds\n",
      "lop: 112 rows, 28 columns, 336 nonzeros\n",
      "Read MPS format model from file /tmp/tmp66yj840q/model.mps\n",
      "Reading time = 0.00 seconds\n",
      "lop: 112 rows, 28 columns, 336 nonzeros\n"
     ]
    },
    {
     "data": {
      "text/plain": [
       "25.0"
      ]
     },
     "execution_count": 12,
     "metadata": {},
     "output_type": "execute_result"
    }
   ],
   "source": [
    "k_lop_10,details_lop_10 = pyrankability.lop.bilp(D,num_random_restarts=10)\n",
    "k_lop_10"
   ]
  },
  {
   "cell_type": "code",
   "execution_count": 13,
   "metadata": {},
   "outputs": [
    {
     "data": {
      "text/plain": [
       "[(7, 0, 1, 2, 4, 6, 5, 3),\n",
       " (0, 1, 7, 2, 4, 6, 5, 3),\n",
       " (7, 0, 1, 2, 5, 3, 4, 6),\n",
       " (7, 5, 3, 0, 1, 2, 4, 6),\n",
       " (7, 5, 3, 0, 1, 2, 4, 6),\n",
       " (7, 5, 0, 1, 2, 4, 3, 6),\n",
       " (0, 7, 5, 1, 2, 4, 6, 3),\n",
       " (0, 1, 2, 7, 5, 4, 6, 3),\n",
       " (0, 1, 2, 4, 6, 7, 5, 3),\n",
       " (0, 1, 2, 4, 7, 5, 3, 6),\n",
       " (7, 5, 0, 1, 2, 4, 6, 3)]"
      ]
     },
     "execution_count": 13,
     "metadata": {},
     "output_type": "execute_result"
    }
   ],
   "source": [
    "details_lop_10['P']"
   ]
  },
  {
   "cell_type": "markdown",
   "metadata": {},
   "source": [
    "### Multiple solutions with pairs"
   ]
  },
  {
   "cell_type": "code",
   "execution_count": 14,
   "metadata": {},
   "outputs": [
    {
     "name": "stdout",
     "output_type": "stream",
     "text": [
      "Read MPS format model from file /tmp/tmpnrfh36kq/model.mps\n",
      "Reading time = 0.00 seconds\n",
      "lop: 400 rows, 64 columns, 1128 nonzeros\n",
      "Read MPS format model from file /tmp/tmpnrfh36kq/model.mps\n",
      "Reading time = 0.00 seconds\n",
      "lop: 400 rows, 64 columns, 1128 nonzeros\n",
      "Read MPS format model from file /tmp/tmpnrfh36kq/model.mps\n",
      "Reading time = 0.00 seconds\n",
      "lop: 400 rows, 64 columns, 1128 nonzeros\n",
      "Read MPS format model from file /tmp/tmpnrfh36kq/model.mps\n",
      "Reading time = 0.00 seconds\n",
      "lop: 400 rows, 64 columns, 1128 nonzeros\n",
      "Read MPS format model from file /tmp/tmpnrfh36kq/model.mps\n",
      "Reading time = 0.00 seconds\n",
      "lop: 400 rows, 64 columns, 1128 nonzeros\n",
      "Read MPS format model from file /tmp/tmpnrfh36kq/model.mps\n",
      "Reading time = 0.00 seconds\n",
      "lop: 400 rows, 64 columns, 1128 nonzeros\n",
      "Read MPS format model from file /tmp/tmpnrfh36kq/model.mps\n",
      "Reading time = 0.00 seconds\n",
      "lop: 400 rows, 64 columns, 1128 nonzeros\n",
      "Read MPS format model from file /tmp/tmpnrfh36kq/model.mps\n",
      "Reading time = 0.00 seconds\n",
      "lop: 400 rows, 64 columns, 1128 nonzeros\n",
      "Read MPS format model from file /tmp/tmpnrfh36kq/model.mps\n",
      "Reading time = 0.00 seconds\n",
      "lop: 400 rows, 64 columns, 1128 nonzeros\n",
      "Read MPS format model from file /tmp/tmpnrfh36kq/model.mps\n",
      "Reading time = 0.00 seconds\n",
      "lop: 400 rows, 64 columns, 1128 nonzeros\n",
      "Read MPS format model from file /tmp/tmpnrfh36kq/model.mps\n",
      "Reading time = 0.00 seconds\n",
      "lop: 400 rows, 64 columns, 1128 nonzeros\n",
      "Read MPS format model from file /tmp/tmpnrfh36kq/model.mps\n",
      "Reading time = 0.00 seconds\n",
      "lop: 400 rows, 64 columns, 1128 nonzeros\n",
      "Read MPS format model from file /tmp/tmpnrfh36kq/model.mps\n",
      "Reading time = 0.00 seconds\n",
      "lop: 400 rows, 64 columns, 1128 nonzeros\n",
      "Read MPS format model from file /tmp/tmpnrfh36kq/model.mps\n",
      "Reading time = 0.00 seconds\n",
      "lop: 400 rows, 64 columns, 1128 nonzeros\n",
      "Read MPS format model from file /tmp/tmpnrfh36kq/model.mps\n",
      "Reading time = 0.00 seconds\n",
      "lop: 400 rows, 64 columns, 1128 nonzeros\n",
      "Read MPS format model from file /tmp/tmpnrfh36kq/model.mps\n",
      "Reading time = 0.00 seconds\n",
      "lop: 400 rows, 64 columns, 1128 nonzeros\n",
      "Read MPS format model from file /tmp/tmpnrfh36kq/model.mps\n",
      "Reading time = 0.00 seconds\n",
      "lop: 400 rows, 64 columns, 1128 nonzeros\n",
      "Read MPS format model from file /tmp/tmpnrfh36kq/model.mps\n",
      "Reading time = 0.00 seconds\n",
      "lop: 400 rows, 64 columns, 1128 nonzeros\n",
      "Read MPS format model from file /tmp/tmpnrfh36kq/model.mps\n",
      "Reading time = 0.00 seconds\n",
      "lop: 400 rows, 64 columns, 1128 nonzeros\n",
      "Read MPS format model from file /tmp/tmpnrfh36kq/model.mps\n",
      "Reading time = 0.00 seconds\n",
      "lop: 400 rows, 64 columns, 1128 nonzeros\n",
      "Read MPS format model from file /tmp/tmpnrfh36kq/model.mps\n",
      "Reading time = 0.00 seconds\n",
      "lop: 400 rows, 64 columns, 1128 nonzeros\n"
     ]
    },
    {
     "data": {
      "text/plain": [
       "54.0"
      ]
     },
     "execution_count": 14,
     "metadata": {},
     "output_type": "execute_result"
    }
   ],
   "source": [
    "k_hillside_10_paired,details_hillside_10_paired = pyrankability.hillside.bilp(D,num_random_restarts=10,find_pair=True)\n",
    "k_hillside_10_paired"
   ]
  },
  {
   "cell_type": "code",
   "execution_count": 15,
   "metadata": {},
   "outputs": [
    {
     "data": {
      "text/plain": [
       "dict_keys(['Pfirst', 'P', 'x', 'objs', 'xs', 'pair_details'])"
      ]
     },
     "execution_count": 15,
     "metadata": {},
     "output_type": "execute_result"
    }
   ],
   "source": [
    "details_hillside_10_paired.keys()"
   ]
  },
  {
   "cell_type": "markdown",
   "metadata": {},
   "source": [
    "If you want to check out the second pair:"
   ]
  },
  {
   "cell_type": "code",
   "execution_count": 16,
   "metadata": {},
   "outputs": [
    {
     "data": {
      "text/plain": [
       "((0, 1, 7, 2, 5, 4, 3, 6), (0, 7, 1, 5, 2, 3, 4, 6))"
      ]
     },
     "execution_count": 16,
     "metadata": {},
     "output_type": "execute_result"
    }
   ],
   "source": [
    "details_hillside_10_paired['P'][1],details_hillside_10_paired['pair_details']['P'][1]"
   ]
  },
  {
   "cell_type": "markdown",
   "metadata": {},
   "source": [
    "Visualize it"
   ]
  },
  {
   "cell_type": "code",
   "execution_count": 17,
   "metadata": {},
   "outputs": [
    {
     "name": "stderr",
     "output_type": "stream",
     "text": [
      "/data/env/lib/python3.6/site-packages/networkx/drawing/nx_pylab.py:579: MatplotlibDeprecationWarning: \n",
      "The iterable function was deprecated in Matplotlib 3.1 and will be removed in 3.3. Use np.iterable instead.\n",
      "  if not cb.iterable(width):\n"
     ]
    },
    {
     "data": {
      "image/png": "[encoded data removed]",
      "text/plain": [
       "<Figure size 360x720 with 1 Axes>"
      ]
     },
     "metadata": {},
     "output_type": "display_data"
    }
   ],
   "source": [
    "pyrankability.plot.spider(pyrankability.plot.AB_to_P2(details_hillside_10_paired['P'][1],details_hillside_10_paired['pair_details']['P'][1]))"
   ]
  },
  {
   "cell_type": "code",
   "execution_count": 18,
   "metadata": {},
   "outputs": [
    {
     "name": "stdout",
     "output_type": "stream",
     "text": [
      "Read MPS format model from file /tmp/tmp8m_dm45a/model.mps\n",
      "Reading time = 0.00 seconds\n",
      "lop: 112 rows, 28 columns, 336 nonzeros\n",
      "Read MPS format model from file /tmp/tmp8m_dm45a/model.mps\n",
      "Reading time = 0.00 seconds\n",
      "lop: 112 rows, 28 columns, 336 nonzeros\n",
      "Read MPS format model from file /tmp/tmp8m_dm45a/model.mps\n",
      "Reading time = 0.00 seconds\n",
      "lop: 112 rows, 28 columns, 336 nonzeros\n",
      "Read MPS format model from file /tmp/tmp8m_dm45a/model.mps\n",
      "Reading time = 0.00 seconds\n",
      "lop: 112 rows, 28 columns, 336 nonzeros\n",
      "Read MPS format model from file /tmp/tmp8m_dm45a/model.mps\n",
      "Reading time = 0.00 seconds\n",
      "lop: 112 rows, 28 columns, 336 nonzeros\n",
      "Read MPS format model from file /tmp/tmp8m_dm45a/model.mps\n",
      "Reading time = 0.00 seconds\n",
      "lop: 112 rows, 28 columns, 336 nonzeros\n",
      "Read MPS format model from file /tmp/tmp8m_dm45a/model.mps\n",
      "Reading time = 0.00 seconds\n",
      "lop: 112 rows, 28 columns, 336 nonzeros\n",
      "Read MPS format model from file /tmp/tmp8m_dm45a/model.mps\n",
      "Reading time = 0.00 seconds\n",
      "lop: 112 rows, 28 columns, 336 nonzeros\n",
      "Read MPS format model from file /tmp/tmp8m_dm45a/model.mps\n",
      "Reading time = 0.00 seconds\n",
      "lop: 112 rows, 28 columns, 336 nonzeros\n",
      "Read MPS format model from file /tmp/tmp8m_dm45a/model.mps\n",
      "Reading time = 0.00 seconds\n",
      "lop: 112 rows, 28 columns, 336 nonzeros\n",
      "Read MPS format model from file /tmp/tmp8m_dm45a/model.mps\n",
      "Reading time = 0.00 seconds\n",
      "lop: 112 rows, 28 columns, 336 nonzeros\n",
      "Read MPS format model from file /tmp/tmp8m_dm45a/model.mps\n",
      "Reading time = 0.00 seconds\n",
      "lop: 112 rows, 28 columns, 336 nonzeros\n",
      "Read MPS format model from file /tmp/tmp8m_dm45a/model.mps\n",
      "Reading time = 0.00 seconds\n",
      "lop: 112 rows, 28 columns, 336 nonzeros\n",
      "Read MPS format model from file /tmp/tmp8m_dm45a/model.mps\n",
      "Reading time = 0.00 seconds\n",
      "lop: 112 rows, 28 columns, 336 nonzeros\n",
      "Read MPS format model from file /tmp/tmp8m_dm45a/model.mps\n",
      "Reading time = 0.00 seconds\n",
      "lop: 112 rows, 28 columns, 336 nonzeros\n",
      "Read MPS format model from file /tmp/tmp8m_dm45a/model.mps\n",
      "Reading time = 0.00 seconds\n",
      "lop: 112 rows, 28 columns, 336 nonzeros\n",
      "Read MPS format model from file /tmp/tmp8m_dm45a/model.mps\n",
      "Reading time = 0.00 seconds\n",
      "lop: 112 rows, 28 columns, 336 nonzeros\n",
      "Read MPS format model from file /tmp/tmp8m_dm45a/model.mps\n",
      "Reading time = 0.00 seconds\n",
      "lop: 112 rows, 28 columns, 336 nonzeros\n",
      "Read MPS format model from file /tmp/tmp8m_dm45a/model.mps\n",
      "Reading time = 0.00 seconds\n",
      "lop: 112 rows, 28 columns, 336 nonzeros\n",
      "Read MPS format model from file /tmp/tmp8m_dm45a/model.mps\n",
      "Reading time = 0.00 seconds\n",
      "lop: 112 rows, 28 columns, 336 nonzeros\n",
      "Read MPS format model from file /tmp/tmp8m_dm45a/model.mps\n",
      "Reading time = 0.00 seconds\n",
      "lop: 112 rows, 28 columns, 336 nonzeros\n"
     ]
    },
    {
     "data": {
      "text/plain": [
       "25.0"
      ]
     },
     "execution_count": 18,
     "metadata": {},
     "output_type": "execute_result"
    }
   ],
   "source": [
    "k_lop_10_paired,details_lop_10_paired = pyrankability.lop.bilp(D,num_random_restarts=10,find_pair=True)\n",
    "k_lop_10_paired"
   ]
  },
  {
   "cell_type": "code",
   "execution_count": 19,
   "metadata": {},
   "outputs": [
    {
     "data": {
      "image/png": "[encoded data removed]",
      "text/plain": [
       "<Figure size 360x720 with 1 Axes>"
      ]
     },
     "metadata": {},
     "output_type": "display_data"
    }
   ],
   "source": [
    "pyrankability.plot.spider(pyrankability.plot.AB_to_P2(details_lop_10_paired['P'][1],details_lop_10_paired['pair_details']['P'][1]))"
   ]
  },
  {
   "cell_type": "markdown",
   "metadata": {},
   "source": [
    "### Find the two most distant"
   ]
  },
  {
   "cell_type": "code",
   "execution_count": 20,
   "metadata": {},
   "outputs": [
    {
     "name": "stdout",
     "output_type": "stream",
     "text": [
      "Parameter OutputFlag unchanged\n",
      "   Value: 1  Min: 0  Max: 1  Default: 1\n",
      "Updating opjective in 0.0025 seconds\n",
      "Start optimization 0\n",
      "Optimize a model with 112 rows, 28 columns and 336 nonzeros\n",
      "Variable types: 0 continuous, 28 integer (28 binary)\n",
      "Coefficient statistics:\n",
      "  Matrix range     [1e+00, 1e+00]\n",
      "  Objective range  [1e+00, 1e+00]\n",
      "  Bounds range     [1e+00, 1e+00]\n",
      "  RHS range        [1e+00, 1e+00]\n",
      "Found heuristic solution: objective 18.0000000\n",
      "Found heuristic solution: objective 22.0000000\n",
      "Presolve time: 0.00s\n",
      "Presolved: 112 rows, 28 columns, 336 nonzeros\n",
      "Variable types: 0 continuous, 28 integer (28 binary)\n",
      "\n",
      "Root relaxation: objective 2.500000e+01, 7 iterations, 0.00 seconds\n",
      "\n",
      "    Nodes    |    Current Node    |     Objective Bounds      |     Work\n",
      " Expl Unexpl |  Obj  Depth IntInf | Incumbent    BestBd   Gap | It/Node Time\n",
      "\n",
      "*    0     0               0      25.0000000   25.00000  0.00%     -    0s\n",
      "\n",
      "Explored 0 nodes (7 simplex iterations) in 0.01 seconds\n",
      "Thread count was 8 (of 8 available processors)\n",
      "\n",
      "Solution count 3: 25 22 18 \n",
      "\n",
      "Optimal solution found (tolerance 1.00e-04)\n",
      "Best objective 2.500000000000e+01, best bound 2.500000000000e+01, gap 0.0000%\n",
      "Optimization in 0.0159 seconds\n",
      "End optimization 0\n",
      "Finished first optimization. Obj: 25.0\n",
      "Parameter OutputFlag unchanged\n",
      "   Value: 1  Min: 0  Max: 1  Default: 1\n",
      "Start optimization\n",
      "Optimize a model with 282 rows, 112 columns and 866 nonzeros\n",
      "Variable types: 0 continuous, 112 integer (112 binary)\n",
      "Coefficient statistics:\n",
      "  Matrix range     [1e+00, 1e+00]\n",
      "  Objective range  [1e+00, 1e+00]\n",
      "  Bounds range     [1e+00, 1e+00]\n",
      "  RHS range        [1e+00, 1e+01]\n",
      "Found heuristic solution: objective -0.0000000\n",
      "Presolve removed 189 rows and 53 columns\n",
      "Presolve time: 0.00s\n",
      "Presolved: 93 rows, 59 columns, 218 nonzeros\n",
      "Variable types: 0 continuous, 59 integer (59 binary)\n",
      "\n",
      "Root relaxation: objective 1.500000e+01, 29 iterations, 0.00 seconds\n",
      "\n",
      "    Nodes    |    Current Node    |     Objective Bounds      |     Work\n",
      " Expl Unexpl |  Obj  Depth IntInf | Incumbent    BestBd   Gap | It/Node Time\n",
      "\n",
      "H    0     0                      15.0000000   30.00000   100%     -    0s\n",
      "     0     0          -    0        15.00000   15.00000  0.00%     -    0s\n",
      "\n",
      "Explored 0 nodes (52 simplex iterations) in 0.01 seconds\n",
      "Thread count was 8 (of 8 available processors)\n",
      "\n",
      "Solution count 2: 15 -0 \n",
      "\n",
      "Optimal solution found (tolerance 1.00e-04)\n",
      "Best objective 1.500000000000e+01, best bound 1.500000000000e+01, gap 0.0000%\n",
      "Optimization in 0.0170 seconds\n",
      "End optimization\n"
     ]
    },
    {
     "data": {
      "text/plain": [
       "25.0"
      ]
     },
     "execution_count": 20,
     "metadata": {},
     "output_type": "execute_result"
    }
   ],
   "source": [
    "k_two_distant,details_two_distant = pyrankability.lop.bilp_two_most_distant(D,verbose=True)\n",
    "k_two_distant"
   ]
  },
  {
   "cell_type": "code",
   "execution_count": 21,
   "metadata": {},
   "outputs": [
    {
     "data": {
      "text/plain": [
       "{'obj': 15.0,\n",
       " 'k_x': 25.0,\n",
       " 'k_y': 25.0,\n",
       " 'perm_x': (7, 5, 3, 0, 1, 2, 4, 6),\n",
       " 'perm_y': (0, 1, 2, 4, 6, 7, 5, 3),\n",
       " 'x': array([[0, 1, 1, 0, 1, 0, 1, 0],\n",
       "        [0, 0, 1, 0, 1, 0, 1, 0],\n",
       "        [0, 0, 0, 0, 1, 0, 1, 0],\n",
       "        [1, 1, 1, 0, 1, 0, 1, 0],\n",
       "        [0, 0, 0, 0, 0, 0, 1, 0],\n",
       "        [1, 1, 1, 1, 1, 0, 1, 0],\n",
       "        [0, 0, 0, 0, 0, 0, 0, 0],\n",
       "        [1, 1, 1, 1, 1, 1, 1, 0]]),\n",
       " 'y': array([[0, 1, 1, 1, 1, 1, 1, 1],\n",
       "        [0, 0, 1, 1, 1, 1, 1, 1],\n",
       "        [0, 0, 0, 1, 1, 1, 1, 1],\n",
       "        [0, 0, 0, 0, 0, 0, 0, 0],\n",
       "        [0, 0, 0, 1, 0, 1, 1, 1],\n",
       "        [0, 0, 0, 1, 0, 0, 0, 0],\n",
       "        [0, 0, 0, 1, 0, 1, 0, 1],\n",
       "        [0, 0, 0, 1, 0, 1, 0, 0]]),\n",
       " 'u': array([[0, 0, 0, 0, 0, 0, 0, 0],\n",
       "        [0, 0, 0, 0, 0, 0, 0, 0],\n",
       "        [0, 0, 0, 0, 0, 0, 0, 0],\n",
       "        [0, 0, 0, 0, 1, 0, 1, 0],\n",
       "        [0, 0, 0, 0, 0, 0, 0, 0],\n",
       "        [0, 0, 0, 0, 0, 0, 1, 0],\n",
       "        [0, 0, 0, 0, 0, 0, 0, 0],\n",
       "        [0, 0, 0, 0, 0, 0, 0, 0]]),\n",
       " 'v': array([[0, 0, 0, 1, 0, 1, 0, 1],\n",
       "        [0, 0, 0, 1, 0, 1, 0, 1],\n",
       "        [0, 0, 0, 1, 0, 1, 0, 1],\n",
       "        [0, 0, 0, 0, 0, 0, 0, 0],\n",
       "        [0, 0, 0, 0, 0, 1, 0, 1],\n",
       "        [0, 0, 0, 0, 0, 0, 0, 0],\n",
       "        [0, 0, 0, 0, 0, 0, 0, 1],\n",
       "        [0, 0, 0, 0, 0, 0, 0, 0]])}"
      ]
     },
     "execution_count": 21,
     "metadata": {},
     "output_type": "execute_result"
    }
   ],
   "source": [
    "details_two_distant"
   ]
  },
  {
   "cell_type": "code",
   "execution_count": 24,
   "metadata": {},
   "outputs": [
    {
     "name": "stdout",
     "output_type": "stream",
     "text": [
      "Updating opjective in 0.0027 seconds\n",
      "Start optimization 0\n",
      "Optimization in 0.0023 seconds\n",
      "End optimization 0\n",
      "Finished first optimization. Obj: 54\n",
      "Parameter OutputFlag unchanged\n",
      "   Value: 1  Min: 0  Max: 1  Default: 1\n",
      "Start optimization\n",
      "Optimize a model with 282 rows, 112 columns and 890 nonzeros\n",
      "Variable types: 0 continuous, 112 integer (112 binary)\n",
      "Coefficient statistics:\n",
      "  Matrix range     [1e+00, 8e+00]\n",
      "  Objective range  [1e+00, 1e+00]\n",
      "  Bounds range     [1e+00, 1e+00]\n",
      "  RHS range        [1e+00, 7e+01]\n",
      "Found heuristic solution: objective -0.0000000\n",
      "Presolve removed 282 rows and 112 columns\n",
      "Presolve time: 0.00s\n",
      "Presolve: All rows and columns removed\n",
      "\n",
      "Explored 0 nodes (0 simplex iterations) in 0.01 seconds\n",
      "Thread count was 1 (of 8 available processors)\n",
      "\n",
      "Solution count 2: 3 -0 \n",
      "\n",
      "Optimal solution found (tolerance 1.00e-04)\n",
      "Best objective 3.000000000000e+00, best bound 3.000000000000e+00, gap 0.0000%\n",
      "Optimization in 0.0104 seconds\n",
      "End optimization\n"
     ]
    },
    {
     "data": {
      "text/plain": [
       "54"
      ]
     },
     "execution_count": 24,
     "metadata": {},
     "output_type": "execute_result"
    }
   ],
   "source": [
    "k_two_distant,details_two_distant = pyrankability.hillside.bilp_two_most_distant(D,verbose=True)\n",
    "k_two_distant"
   ]
  },
  {
   "cell_type": "code",
   "execution_count": 25,
   "metadata": {},
   "outputs": [
    {
     "data": {
      "text/plain": [
       "{'obj': 3.0,\n",
       " 'k_x': 54.0,\n",
       " 'k_y': 54.0,\n",
       " 'perm_x': (0, 7, 1, 5, 2, 4, 3, 6),\n",
       " 'perm_y': (0, 1, 7, 2, 5, 3, 4, 6),\n",
       " 'x': array([[0, 1, 1, 1, 1, 1, 1, 1],\n",
       "        [0, 0, 1, 1, 1, 1, 1, 0],\n",
       "        [0, 0, 0, 1, 1, 0, 1, 0],\n",
       "        [0, 0, 0, 0, 0, 0, 1, 0],\n",
       "        [0, 0, 0, 1, 0, 0, 1, 0],\n",
       "        [0, 0, 1, 1, 1, 0, 1, 0],\n",
       "        [0, 0, 0, 0, 0, 0, 0, 0],\n",
       "        [0, 1, 1, 1, 1, 1, 1, 0]]),\n",
       " 'y': array([[0, 1, 1, 1, 1, 1, 1, 1],\n",
       "        [0, 0, 1, 1, 1, 1, 1, 1],\n",
       "        [0, 0, 0, 1, 1, 1, 1, 0],\n",
       "        [0, 0, 0, 0, 1, 0, 1, 0],\n",
       "        [0, 0, 0, 0, 0, 0, 1, 0],\n",
       "        [0, 0, 0, 1, 1, 0, 1, 0],\n",
       "        [0, 0, 0, 0, 0, 0, 0, 0],\n",
       "        [0, 0, 1, 1, 1, 1, 1, 0]]),\n",
       " 'u': array([[0, 0, 0, 0, 0, 0, 0, 0],\n",
       "        [0, 0, 0, 0, 0, 0, 0, 0],\n",
       "        [0, 0, 0, 0, 0, 0, 0, 0],\n",
       "        [0, 0, 0, 0, 0, 0, 0, 0],\n",
       "        [0, 0, 0, 0, 0, 0, 0, 0],\n",
       "        [0, 0, 0, 0, 0, 0, 0, 0],\n",
       "        [0, 0, 0, 0, 0, 0, 0, 0],\n",
       "        [0, 0, 0, 0, 0, 0, 0, 0]]),\n",
       " 'v': array([[0, 0, 0, 0, 0, 0, 0, 0],\n",
       "        [0, 0, 0, 0, 0, 0, 0, 1],\n",
       "        [0, 0, 0, 0, 0, 1, 0, 0],\n",
       "        [0, 0, 0, 0, 1, 0, 0, 0],\n",
       "        [0, 0, 0, 0, 0, 0, 0, 0],\n",
       "        [0, 0, 0, 0, 0, 0, 0, 0],\n",
       "        [0, 0, 0, 0, 0, 0, 0, 0],\n",
       "        [0, 0, 0, 0, 0, 0, 0, 0]])}"
      ]
     },
     "execution_count": 25,
     "metadata": {},
     "output_type": "execute_result"
    }
   ],
   "source": [
    "details_two_distant"
   ]
  },
  {
   "cell_type": "markdown",
   "metadata": {},
   "source": [
    "### N-pal 13 example"
   ]
  },
  {
   "cell_type": "code",
   "execution_count": 27,
   "metadata": {},
   "outputs": [
    {
     "data": {
      "text/html": [
       "<div>\n",
       "<style scoped>\n",
       "    .dataframe tbody tr th:only-of-type {\n",
       "        vertical-align: middle;\n",
       "    }\n",
       "\n",
       "    .dataframe tbody tr th {\n",
       "        vertical-align: top;\n",
       "    }\n",
       "\n",
       "    .dataframe thead th {\n",
       "        text-align: right;\n",
       "    }\n",
       "</style>\n",
       "<table border=\"1\" class=\"dataframe\">\n",
       "  <thead>\n",
       "    <tr style=\"text-align: right;\">\n",
       "      <th></th>\n",
       "      <th>0</th>\n",
       "      <th>1</th>\n",
       "      <th>2</th>\n",
       "      <th>3</th>\n",
       "      <th>4</th>\n",
       "      <th>5</th>\n",
       "      <th>6</th>\n",
       "      <th>7</th>\n",
       "      <th>8</th>\n",
       "      <th>9</th>\n",
       "      <th>10</th>\n",
       "      <th>11</th>\n",
       "      <th>12</th>\n",
       "    </tr>\n",
       "  </thead>\n",
       "  <tbody>\n",
       "    <tr>\n",
       "      <td>0</td>\n",
       "      <td>0</td>\n",
       "      <td>1</td>\n",
       "      <td>0</td>\n",
       "      <td>1</td>\n",
       "      <td>1</td>\n",
       "      <td>0</td>\n",
       "      <td>0</td>\n",
       "      <td>0</td>\n",
       "      <td>0</td>\n",
       "      <td>1</td>\n",
       "      <td>1</td>\n",
       "      <td>0</td>\n",
       "      <td>1</td>\n",
       "    </tr>\n",
       "    <tr>\n",
       "      <td>1</td>\n",
       "      <td>0</td>\n",
       "      <td>0</td>\n",
       "      <td>1</td>\n",
       "      <td>0</td>\n",
       "      <td>1</td>\n",
       "      <td>1</td>\n",
       "      <td>0</td>\n",
       "      <td>0</td>\n",
       "      <td>0</td>\n",
       "      <td>0</td>\n",
       "      <td>1</td>\n",
       "      <td>1</td>\n",
       "      <td>0</td>\n",
       "    </tr>\n",
       "    <tr>\n",
       "      <td>2</td>\n",
       "      <td>1</td>\n",
       "      <td>0</td>\n",
       "      <td>0</td>\n",
       "      <td>1</td>\n",
       "      <td>0</td>\n",
       "      <td>1</td>\n",
       "      <td>1</td>\n",
       "      <td>0</td>\n",
       "      <td>0</td>\n",
       "      <td>0</td>\n",
       "      <td>0</td>\n",
       "      <td>1</td>\n",
       "      <td>1</td>\n",
       "    </tr>\n",
       "    <tr>\n",
       "      <td>3</td>\n",
       "      <td>0</td>\n",
       "      <td>1</td>\n",
       "      <td>0</td>\n",
       "      <td>0</td>\n",
       "      <td>1</td>\n",
       "      <td>0</td>\n",
       "      <td>1</td>\n",
       "      <td>1</td>\n",
       "      <td>0</td>\n",
       "      <td>0</td>\n",
       "      <td>0</td>\n",
       "      <td>0</td>\n",
       "      <td>1</td>\n",
       "    </tr>\n",
       "    <tr>\n",
       "      <td>4</td>\n",
       "      <td>0</td>\n",
       "      <td>0</td>\n",
       "      <td>1</td>\n",
       "      <td>0</td>\n",
       "      <td>0</td>\n",
       "      <td>1</td>\n",
       "      <td>0</td>\n",
       "      <td>1</td>\n",
       "      <td>1</td>\n",
       "      <td>0</td>\n",
       "      <td>0</td>\n",
       "      <td>0</td>\n",
       "      <td>0</td>\n",
       "    </tr>\n",
       "    <tr>\n",
       "      <td>5</td>\n",
       "      <td>1</td>\n",
       "      <td>0</td>\n",
       "      <td>0</td>\n",
       "      <td>1</td>\n",
       "      <td>0</td>\n",
       "      <td>0</td>\n",
       "      <td>1</td>\n",
       "      <td>0</td>\n",
       "      <td>1</td>\n",
       "      <td>1</td>\n",
       "      <td>0</td>\n",
       "      <td>0</td>\n",
       "      <td>0</td>\n",
       "    </tr>\n",
       "    <tr>\n",
       "      <td>6</td>\n",
       "      <td>1</td>\n",
       "      <td>1</td>\n",
       "      <td>0</td>\n",
       "      <td>0</td>\n",
       "      <td>1</td>\n",
       "      <td>0</td>\n",
       "      <td>0</td>\n",
       "      <td>1</td>\n",
       "      <td>0</td>\n",
       "      <td>1</td>\n",
       "      <td>1</td>\n",
       "      <td>0</td>\n",
       "      <td>0</td>\n",
       "    </tr>\n",
       "    <tr>\n",
       "      <td>7</td>\n",
       "      <td>1</td>\n",
       "      <td>1</td>\n",
       "      <td>1</td>\n",
       "      <td>0</td>\n",
       "      <td>0</td>\n",
       "      <td>1</td>\n",
       "      <td>0</td>\n",
       "      <td>0</td>\n",
       "      <td>1</td>\n",
       "      <td>0</td>\n",
       "      <td>1</td>\n",
       "      <td>1</td>\n",
       "      <td>0</td>\n",
       "    </tr>\n",
       "    <tr>\n",
       "      <td>8</td>\n",
       "      <td>1</td>\n",
       "      <td>1</td>\n",
       "      <td>1</td>\n",
       "      <td>1</td>\n",
       "      <td>0</td>\n",
       "      <td>0</td>\n",
       "      <td>1</td>\n",
       "      <td>0</td>\n",
       "      <td>0</td>\n",
       "      <td>1</td>\n",
       "      <td>0</td>\n",
       "      <td>1</td>\n",
       "      <td>1</td>\n",
       "    </tr>\n",
       "    <tr>\n",
       "      <td>9</td>\n",
       "      <td>0</td>\n",
       "      <td>1</td>\n",
       "      <td>1</td>\n",
       "      <td>1</td>\n",
       "      <td>1</td>\n",
       "      <td>0</td>\n",
       "      <td>0</td>\n",
       "      <td>1</td>\n",
       "      <td>0</td>\n",
       "      <td>0</td>\n",
       "      <td>1</td>\n",
       "      <td>0</td>\n",
       "      <td>1</td>\n",
       "    </tr>\n",
       "    <tr>\n",
       "      <td>10</td>\n",
       "      <td>0</td>\n",
       "      <td>0</td>\n",
       "      <td>1</td>\n",
       "      <td>1</td>\n",
       "      <td>1</td>\n",
       "      <td>1</td>\n",
       "      <td>0</td>\n",
       "      <td>0</td>\n",
       "      <td>1</td>\n",
       "      <td>0</td>\n",
       "      <td>0</td>\n",
       "      <td>1</td>\n",
       "      <td>0</td>\n",
       "    </tr>\n",
       "    <tr>\n",
       "      <td>11</td>\n",
       "      <td>1</td>\n",
       "      <td>0</td>\n",
       "      <td>0</td>\n",
       "      <td>1</td>\n",
       "      <td>1</td>\n",
       "      <td>1</td>\n",
       "      <td>1</td>\n",
       "      <td>0</td>\n",
       "      <td>0</td>\n",
       "      <td>1</td>\n",
       "      <td>0</td>\n",
       "      <td>0</td>\n",
       "      <td>1</td>\n",
       "    </tr>\n",
       "    <tr>\n",
       "      <td>12</td>\n",
       "      <td>0</td>\n",
       "      <td>1</td>\n",
       "      <td>0</td>\n",
       "      <td>0</td>\n",
       "      <td>1</td>\n",
       "      <td>1</td>\n",
       "      <td>1</td>\n",
       "      <td>1</td>\n",
       "      <td>0</td>\n",
       "      <td>0</td>\n",
       "      <td>1</td>\n",
       "      <td>0</td>\n",
       "      <td>0</td>\n",
       "    </tr>\n",
       "  </tbody>\n",
       "</table>\n",
       "</div>"
      ],
      "text/plain": [
       "    0  1  2  3  4  5  6  7  8  9  10  11  12\n",
       "0   0  1  0  1  1  0  0  0  0  1   1   0   1\n",
       "1   0  0  1  0  1  1  0  0  0  0   1   1   0\n",
       "2   1  0  0  1  0  1  1  0  0  0   0   1   1\n",
       "3   0  1  0  0  1  0  1  1  0  0   0   0   1\n",
       "4   0  0  1  0  0  1  0  1  1  0   0   0   0\n",
       "5   1  0  0  1  0  0  1  0  1  1   0   0   0\n",
       "6   1  1  0  0  1  0  0  1  0  1   1   0   0\n",
       "7   1  1  1  0  0  1  0  0  1  0   1   1   0\n",
       "8   1  1  1  1  0  0  1  0  0  1   0   1   1\n",
       "9   0  1  1  1  1  0  0  1  0  0   1   0   1\n",
       "10  0  0  1  1  1  1  0  0  1  0   0   1   0\n",
       "11  1  0  0  1  1  1  1  0  0  1   0   0   1\n",
       "12  0  1  0  0  1  1  1  1  0  0   1   0   0"
      ]
     },
     "execution_count": 27,
     "metadata": {},
     "output_type": "execute_result"
    }
   ],
   "source": [
    "data=open(\"../N-pal13\").read().split(\"\\n\")\n",
    "data=data[1:-1]\n",
    "dt = []\n",
    "for line in data:\n",
    "    dt.append([int(k) for k in line.split()])\n",
    "D_N_pal13 = pd.DataFrame(dt)\n",
    "D_N_pal13"
   ]
  },
  {
   "cell_type": "code",
   "execution_count": 28,
   "metadata": {},
   "outputs": [
    {
     "name": "stdout",
     "output_type": "stream",
     "text": [
      "Parameter OutputFlag unchanged\n",
      "   Value: 1  Min: 0  Max: 1  Default: 1\n",
      "Updating opjective in 0.0049 seconds\n",
      "Start optimization 0\n",
      "Optimize a model with 572 rows, 78 columns and 1716 nonzeros\n",
      "Variable types: 0 continuous, 78 integer (78 binary)\n",
      "Coefficient statistics:\n",
      "  Matrix range     [1e+00, 1e+00]\n",
      "  Objective range  [1e+00, 1e+00]\n",
      "  Bounds range     [1e+00, 1e+00]\n",
      "  RHS range        [1e+00, 1e+00]\n",
      "Found heuristic solution: objective 45.0000000\n",
      "Found heuristic solution: objective 50.0000000\n",
      "Presolve time: 0.00s\n",
      "Presolved: 572 rows, 78 columns, 1716 nonzeros\n",
      "Variable types: 0 continuous, 78 integer (78 binary)\n",
      "\n",
      "Root relaxation: objective 5.700000e+01, 49 iterations, 0.00 seconds\n",
      "\n",
      "    Nodes    |    Current Node    |     Objective Bounds      |     Work\n",
      " Expl Unexpl |  Obj  Depth IntInf | Incumbent    BestBd   Gap | It/Node Time\n",
      "\n",
      "*    0     0               0      57.0000000   57.00000  0.00%     -    0s\n",
      "\n",
      "Explored 0 nodes (49 simplex iterations) in 0.02 seconds\n",
      "Thread count was 8 (of 8 available processors)\n",
      "\n",
      "Solution count 3: 57 50 45 \n",
      "\n",
      "Optimal solution found (tolerance 1.00e-04)\n",
      "Best objective 5.700000000000e+01, best bound 5.700000000000e+01, gap 0.0000%\n",
      "Optimization in 0.0206 seconds\n",
      "End optimization 0\n",
      "Finished first optimization. Obj: 57.0\n",
      "Parameter OutputFlag unchanged\n",
      "   Value: 1  Min: 0  Max: 1  Default: 1\n",
      "Start optimization\n",
      "Optimize a model with 1303 rows, 312 columns and 4212 nonzeros\n",
      "Variable types: 0 continuous, 312 integer (312 binary)\n",
      "Coefficient statistics:\n",
      "  Matrix range     [1e+00, 1e+00]\n",
      "  Objective range  [1e+00, 1e+00]\n",
      "  Bounds range     [1e+00, 1e+00]\n",
      "  RHS range        [1e+00, 2e+01]\n",
      "Presolve time: 0.00s\n",
      "Presolved: 1303 rows, 312 columns, 4212 nonzeros\n",
      "Variable types: 0 continuous, 312 integer (312 binary)\n",
      "\n",
      "Root relaxation: objective 1.000000e+00, 339 iterations, 0.01 seconds\n",
      "\n",
      "    Nodes    |    Current Node    |     Objective Bounds      |     Work\n",
      " Expl Unexpl |  Obj  Depth IntInf | Incumbent    BestBd   Gap | It/Node Time\n",
      "\n",
      "     0     0    1.00000    0    2          -    1.00000      -     -    0s\n",
      "     0     0    1.00000    0   34          -    1.00000      -     -    0s\n",
      "H    0     0                      10.0000000    1.00000  90.0%     -    0s\n",
      "     0     0    1.00000    0    2   10.00000    1.00000  90.0%     -    0s\n",
      "     0     0    1.00000    0    2   10.00000    1.00000  90.0%     -    0s\n",
      "     0     0    1.00000    0    2   10.00000    1.00000  90.0%     -    0s\n",
      "     0     0    1.00000    0    2   10.00000    1.00000  90.0%     -    0s\n",
      "     0     0    1.00000    0    2   10.00000    1.00000  90.0%     -    0s\n",
      "     0     0    1.00000    0    2   10.00000    1.00000  90.0%     -    0s\n",
      "     0     0    1.00000    0    2   10.00000    1.00000  90.0%     -    0s\n",
      "     0     0    1.00000    0    2   10.00000    1.00000  90.0%     -    0s\n",
      "H    0     0                       8.0000000    1.00000  87.5%     -    0s\n",
      "     0     2    1.00000    0    2    8.00000    1.00000  87.5%     -    0s\n",
      "H    3     2                       4.0000000    1.00000  75.0%  32.7    0s\n",
      "\n",
      "Cutting planes:\n",
      "  Gomory: 3\n",
      "  Clique: 7\n",
      "  Zero half: 1\n",
      "\n",
      "Explored 76 nodes (2297 simplex iterations) in 0.29 seconds\n",
      "Thread count was 8 (of 8 available processors)\n",
      "\n",
      "Solution count 3: 4 8 10 \n",
      "\n",
      "Optimal solution found (tolerance 1.00e-04)\n",
      "Best objective 4.000000000000e+00, best bound 4.000000000000e+00, gap 0.0000%\n",
      "Optimization in 0.2921 seconds\n",
      "End optimization\n"
     ]
    },
    {
     "data": {
      "text/plain": [
       "57.0"
      ]
     },
     "execution_count": 28,
     "metadata": {},
     "output_type": "execute_result"
    }
   ],
   "source": [
    "k_two_sim,details_two_sim = pyrankability.lop.bilp_two_most_similar(D_N_pal13.values,verbose=True)\n",
    "\n",
    "k_two_sim"
   ]
  },
  {
   "cell_type": "code",
   "execution_count": 29,
   "metadata": {},
   "outputs": [
    {
     "data": {
      "text/plain": [
       "{'obj': 4.0,\n",
       " 'k_x': 57,\n",
       " 'k_y': 57,\n",
       " 'perm_x': (8, 2, 11, 0, 9, 3, 12, 6, 7, 1, 10, 4, 5),\n",
       " 'perm_y': (8, 2, 11, 6, 0, 9, 3, 12, 7, 1, 10, 4, 5),\n",
       " 'x': array([[0, 1, 0, 1, 1, 1, 1, 1, 0, 1, 1, 0, 1],\n",
       "        [0, 0, 0, 0, 1, 1, 0, 0, 0, 0, 1, 0, 0],\n",
       "        [1, 1, 0, 1, 1, 1, 1, 1, 0, 1, 1, 1, 1],\n",
       "        [0, 1, 0, 0, 1, 1, 1, 1, 0, 0, 1, 0, 1],\n",
       "        [0, 0, 0, 0, 0, 1, 0, 0, 0, 0, 0, 0, 0],\n",
       "        [0, 0, 0, 0, 0, 0, 0, 0, 0, 0, 0, 0, 0],\n",
       "        [0, 1, 0, 0, 1, 1, 0, 1, 0, 0, 1, 0, 0],\n",
       "        [0, 1, 0, 0, 1, 1, 0, 0, 0, 0, 1, 0, 0],\n",
       "        [1, 1, 1, 1, 1, 1, 1, 1, 0, 1, 1, 1, 1],\n",
       "        [0, 1, 0, 1, 1, 1, 1, 1, 0, 0, 1, 0, 1],\n",
       "        [0, 0, 0, 0, 1, 1, 0, 0, 0, 0, 0, 0, 0],\n",
       "        [1, 1, 0, 1, 1, 1, 1, 1, 0, 1, 1, 0, 1],\n",
       "        [0, 1, 0, 0, 1, 1, 1, 1, 0, 0, 1, 0, 0]]),\n",
       " 'y': array([[0, 1, 0, 1, 1, 1, 0, 1, 0, 1, 1, 0, 1],\n",
       "        [0, 0, 0, 0, 1, 1, 0, 0, 0, 0, 1, 0, 0],\n",
       "        [1, 1, 0, 1, 1, 1, 1, 1, 0, 1, 1, 1, 1],\n",
       "        [0, 1, 0, 0, 1, 1, 0, 1, 0, 0, 1, 0, 1],\n",
       "        [0, 0, 0, 0, 0, 1, 0, 0, 0, 0, 0, 0, 0],\n",
       "        [0, 0, 0, 0, 0, 0, 0, 0, 0, 0, 0, 0, 0],\n",
       "        [1, 1, 0, 1, 1, 1, 0, 1, 0, 1, 1, 0, 1],\n",
       "        [0, 1, 0, 0, 1, 1, 0, 0, 0, 0, 1, 0, 0],\n",
       "        [1, 1, 1, 1, 1, 1, 1, 1, 0, 1, 1, 1, 1],\n",
       "        [0, 1, 0, 1, 1, 1, 0, 1, 0, 0, 1, 0, 1],\n",
       "        [0, 0, 0, 0, 1, 1, 0, 0, 0, 0, 0, 0, 0],\n",
       "        [1, 1, 0, 1, 1, 1, 1, 1, 0, 1, 1, 0, 1],\n",
       "        [0, 1, 0, 0, 1, 1, 0, 1, 0, 0, 1, 0, 0]]),\n",
       " 'u': array([[0, 0, 0, 0, 0, 0, 1, 0, 0, 0, 0, 0, 0],\n",
       "        [0, 0, 0, 0, 0, 0, 0, 0, 0, 0, 0, 0, 0],\n",
       "        [0, 0, 0, 0, 0, 0, 0, 0, 0, 0, 0, 0, 0],\n",
       "        [0, 0, 0, 0, 0, 0, 1, 0, 0, 0, 0, 0, 0],\n",
       "        [0, 0, 0, 0, 0, 0, 0, 0, 0, 0, 0, 0, 0],\n",
       "        [0, 0, 0, 0, 0, 0, 0, 0, 0, 0, 0, 0, 0],\n",
       "        [0, 0, 0, 0, 0, 0, 0, 0, 0, 0, 0, 0, 0],\n",
       "        [0, 0, 0, 0, 0, 0, 0, 0, 0, 0, 0, 0, 0],\n",
       "        [0, 0, 0, 0, 0, 0, 0, 0, 0, 0, 0, 0, 0],\n",
       "        [0, 0, 0, 0, 0, 0, 0, 0, 0, 0, 0, 0, 0],\n",
       "        [0, 0, 0, 0, 0, 0, 0, 0, 0, 0, 0, 0, 0],\n",
       "        [0, 0, 0, 0, 0, 0, 0, 0, 0, 0, 0, 0, 0],\n",
       "        [0, 0, 0, 0, 0, 0, 0, 0, 0, 0, 0, 0, 0]]),\n",
       " 'v': array([[0, 0, 0, 0, 0, 0, 0, 0, 0, 0, 0, 0, 0],\n",
       "        [0, 0, 0, 0, 0, 0, 0, 0, 0, 0, 0, 0, 0],\n",
       "        [0, 0, 0, 0, 0, 0, 0, 0, 0, 0, 0, 0, 0],\n",
       "        [0, 0, 0, 0, 0, 0, 0, 0, 0, 0, 0, 0, 0],\n",
       "        [0, 0, 0, 0, 0, 0, 0, 0, 0, 0, 0, 0, 0],\n",
       "        [0, 0, 0, 0, 0, 0, 0, 0, 0, 0, 0, 0, 0],\n",
       "        [0, 0, 0, 0, 0, 0, 0, 0, 0, 1, 0, 0, 1],\n",
       "        [0, 0, 0, 0, 0, 0, 0, 0, 0, 0, 0, 0, 0],\n",
       "        [0, 0, 0, 0, 0, 0, 0, 0, 0, 0, 0, 0, 0],\n",
       "        [0, 0, 0, 0, 0, 0, 0, 0, 0, 0, 0, 0, 0],\n",
       "        [0, 0, 0, 0, 0, 0, 0, 0, 0, 0, 0, 0, 0],\n",
       "        [0, 0, 0, 0, 0, 0, 0, 0, 0, 0, 0, 0, 0],\n",
       "        [0, 0, 0, 0, 0, 0, 0, 0, 0, 0, 0, 0, 0]])}"
      ]
     },
     "execution_count": 29,
     "metadata": {},
     "output_type": "execute_result"
    }
   ],
   "source": [
    "details_two_sim"
   ]
  },
  {
   "cell_type": "code",
   "execution_count": 30,
   "metadata": {},
   "outputs": [
    {
     "data": {
      "text/plain": [
       "((8, 2, 11, 0, 9, 3, 12, 6, 7, 1, 10, 4, 5),\n",
       " (8, 2, 11, 6, 0, 9, 3, 12, 7, 1, 10, 4, 5))"
      ]
     },
     "execution_count": 30,
     "metadata": {},
     "output_type": "execute_result"
    }
   ],
   "source": [
    "details_two_sim['perm_x'],details_two_sim['perm_y']"
   ]
  },
  {
   "cell_type": "code",
   "execution_count": 31,
   "metadata": {},
   "outputs": [
    {
     "name": "stdout",
     "output_type": "stream",
     "text": [
      "Parameter OutputFlag unchanged\n",
      "   Value: 1  Min: 0  Max: 1  Default: 1\n",
      "Updating opjective in 0.0047 seconds\n",
      "Start optimization 0\n",
      "Optimize a model with 572 rows, 78 columns and 1716 nonzeros\n",
      "Variable types: 0 continuous, 78 integer (78 binary)\n",
      "Coefficient statistics:\n",
      "  Matrix range     [1e+00, 1e+00]\n",
      "  Objective range  [1e+00, 1e+00]\n",
      "  Bounds range     [1e+00, 1e+00]\n",
      "  RHS range        [1e+00, 1e+00]\n",
      "Found heuristic solution: objective 45.0000000\n",
      "Found heuristic solution: objective 50.0000000\n",
      "Presolve time: 0.00s\n",
      "Presolved: 572 rows, 78 columns, 1716 nonzeros\n",
      "Variable types: 0 continuous, 78 integer (78 binary)\n",
      "\n",
      "Root relaxation: objective 5.700000e+01, 49 iterations, 0.00 seconds\n",
      "\n",
      "    Nodes    |    Current Node    |     Objective Bounds      |     Work\n",
      " Expl Unexpl |  Obj  Depth IntInf | Incumbent    BestBd   Gap | It/Node Time\n",
      "\n",
      "*    0     0               0      57.0000000   57.00000  0.00%     -    0s\n",
      "\n",
      "Explored 0 nodes (49 simplex iterations) in 0.02 seconds\n",
      "Thread count was 8 (of 8 available processors)\n",
      "\n",
      "Solution count 3: 57 50 45 \n",
      "\n",
      "Optimal solution found (tolerance 1.00e-04)\n",
      "Best objective 5.700000000000e+01, best bound 5.700000000000e+01, gap 0.0000%\n",
      "Optimization in 0.0205 seconds\n",
      "End optimization 0\n",
      "Finished first optimization. Obj: 57.0\n",
      "Parameter OutputFlag unchanged\n",
      "   Value: 1  Min: 0  Max: 1  Default: 1\n",
      "Start optimization\n",
      "Optimize a model with 1302 rows, 312 columns and 4056 nonzeros\n",
      "Variable types: 0 continuous, 312 integer (312 binary)\n",
      "Coefficient statistics:\n",
      "  Matrix range     [1e+00, 1e+00]\n",
      "  Objective range  [1e+00, 1e+00]\n",
      "  Bounds range     [1e+00, 1e+00]\n",
      "  RHS range        [1e+00, 2e+01]\n",
      "Presolve time: 0.00s\n",
      "Presolved: 1302 rows, 312 columns, 4056 nonzeros\n",
      "Variable types: 0 continuous, 312 integer (312 binary)\n",
      "\n",
      "Root relaxation: objective 7.800000e+01, 340 iterations, 0.01 seconds\n",
      "\n",
      "    Nodes    |    Current Node    |     Objective Bounds      |     Work\n",
      " Expl Unexpl |  Obj  Depth IntInf | Incumbent    BestBd   Gap | It/Node Time\n",
      "\n",
      "     0     0   78.00000    0  116          -   78.00000      -     -    0s\n",
      "H    0     0                      20.0000000   78.00000   290%     -    0s\n",
      "     0     0   36.00000    0   44   20.00000   36.00000  80.0%     -    0s\n",
      "H    0     0                      34.0000000   36.00000  5.88%     -    0s\n",
      "     0     0   35.00000    0    2   34.00000   35.00000  2.94%     -    0s\n",
      "     0     0   35.00000    0    6   34.00000   35.00000  2.94%     -    0s\n",
      "     0     0 infeasible    0        34.00000   34.00000  0.00%     -    0s\n",
      "\n",
      "Cutting planes:\n",
      "  Gomory: 3\n",
      "  Clique: 8\n",
      "  Zero half: 2\n",
      "\n",
      "Explored 1 nodes (902 simplex iterations) in 0.13 seconds\n",
      "Thread count was 8 (of 8 available processors)\n",
      "\n",
      "Solution count 2: 34 20 \n",
      "\n",
      "Optimal solution found (tolerance 1.00e-04)\n",
      "Best objective 3.400000000000e+01, best bound 3.400000000000e+01, gap 0.0000%\n",
      "Optimization in 0.1306 seconds\n",
      "End optimization\n"
     ]
    },
    {
     "data": {
      "text/plain": [
       "57.0"
      ]
     },
     "execution_count": 31,
     "metadata": {},
     "output_type": "execute_result"
    }
   ],
   "source": [
    "k_two_distant,details_two_distant = pyrankability.lop.bilp_two_most_distant(D_N_pal13.values,verbose=True)\n",
    "\n",
    "k_two_distant"
   ]
  },
  {
   "cell_type": "code",
   "execution_count": 32,
   "metadata": {},
   "outputs": [
    {
     "data": {
      "text/plain": [
       "{'obj': 34.0,\n",
       " 'k_x': 57,\n",
       " 'k_y': 57,\n",
       " 'perm_x': (8, 11, 0, 9, 3, 12, 6, 7, 1, 10, 4, 2, 5),\n",
       " 'perm_y': (7, 10, 8, 2, 11, 5, 6, 0, 9, 3, 12, 1, 4),\n",
       " 'x': array([[0, 1, 1, 1, 1, 1, 1, 1, 0, 1, 1, 0, 1],\n",
       "        [0, 0, 1, 0, 1, 1, 0, 0, 0, 0, 1, 0, 0],\n",
       "        [0, 0, 0, 0, 0, 1, 0, 0, 0, 0, 0, 0, 0],\n",
       "        [0, 1, 1, 0, 1, 1, 1, 1, 0, 0, 1, 0, 1],\n",
       "        [0, 0, 1, 0, 0, 1, 0, 0, 0, 0, 0, 0, 0],\n",
       "        [0, 0, 0, 0, 0, 0, 0, 0, 0, 0, 0, 0, 0],\n",
       "        [0, 1, 1, 0, 1, 1, 0, 1, 0, 0, 1, 0, 0],\n",
       "        [0, 1, 1, 0, 1, 1, 0, 0, 0, 0, 1, 0, 0],\n",
       "        [1, 1, 1, 1, 1, 1, 1, 1, 0, 1, 1, 1, 1],\n",
       "        [0, 1, 1, 1, 1, 1, 1, 1, 0, 0, 1, 0, 1],\n",
       "        [0, 0, 1, 0, 1, 1, 0, 0, 0, 0, 0, 0, 0],\n",
       "        [1, 1, 1, 1, 1, 1, 1, 1, 0, 1, 1, 0, 1],\n",
       "        [0, 1, 1, 0, 1, 1, 1, 1, 0, 0, 1, 0, 0]]),\n",
       " 'y': array([[0, 1, 0, 1, 1, 0, 0, 0, 0, 1, 0, 0, 1],\n",
       "        [0, 0, 0, 0, 1, 0, 0, 0, 0, 0, 0, 0, 0],\n",
       "        [1, 1, 0, 1, 1, 1, 1, 0, 0, 1, 0, 1, 1],\n",
       "        [0, 1, 0, 0, 1, 0, 0, 0, 0, 0, 0, 0, 1],\n",
       "        [0, 0, 0, 0, 0, 0, 0, 0, 0, 0, 0, 0, 0],\n",
       "        [1, 1, 0, 1, 1, 0, 1, 0, 0, 1, 0, 0, 1],\n",
       "        [1, 1, 0, 1, 1, 0, 0, 0, 0, 1, 0, 0, 1],\n",
       "        [1, 1, 1, 1, 1, 1, 1, 0, 1, 1, 1, 1, 1],\n",
       "        [1, 1, 1, 1, 1, 1, 1, 0, 0, 1, 0, 1, 1],\n",
       "        [0, 1, 0, 1, 1, 0, 0, 0, 0, 0, 0, 0, 1],\n",
       "        [1, 1, 1, 1, 1, 1, 1, 0, 1, 1, 0, 1, 1],\n",
       "        [1, 1, 0, 1, 1, 1, 1, 0, 0, 1, 0, 0, 1],\n",
       "        [0, 1, 0, 0, 1, 0, 0, 0, 0, 0, 0, 0, 0]]),\n",
       " 'u': array([[0, 0, 1, 0, 0, 1, 1, 1, 0, 0, 1, 0, 0],\n",
       "        [0, 0, 1, 0, 0, 1, 0, 0, 0, 0, 1, 0, 0],\n",
       "        [0, 0, 0, 0, 0, 0, 0, 0, 0, 0, 0, 0, 0],\n",
       "        [0, 0, 0, 0, 0, 1, 1, 1, 0, 0, 1, 0, 0],\n",
       "        [0, 0, 0, 0, 0, 1, 0, 0, 0, 0, 0, 0, 0],\n",
       "        [0, 0, 0, 0, 0, 0, 0, 0, 0, 0, 0, 0, 0],\n",
       "        [0, 0, 0, 0, 0, 0, 0, 1, 0, 0, 1, 0, 0],\n",
       "        [0, 0, 0, 0, 0, 0, 0, 0, 0, 0, 0, 0, 0],\n",
       "        [0, 0, 0, 0, 0, 0, 0, 0, 0, 0, 1, 0, 0],\n",
       "        [0, 0, 0, 0, 0, 0, 0, 0, 0, 0, 1, 0, 0],\n",
       "        [0, 0, 0, 0, 0, 0, 0, 0, 0, 0, 0, 0, 0],\n",
       "        [0, 0, 0, 0, 0, 0, 0, 0, 0, 0, 0, 0, 0],\n",
       "        [0, 0, 0, 0, 0, 0, 0, 0, 0, 0, 0, 0, 0]]),\n",
       " 'v': array([[0, 0, 0, 0, 0, 0, 0, 0, 0, 0, 0, 0, 0],\n",
       "        [0, 0, 0, 0, 0, 0, 0, 0, 0, 0, 0, 0, 0],\n",
       "        [0, 0, 0, 1, 1, 0, 1, 0, 0, 1, 0, 1, 1],\n",
       "        [0, 0, 0, 0, 0, 0, 0, 0, 0, 0, 0, 0, 0],\n",
       "        [0, 0, 0, 0, 0, 0, 0, 0, 0, 0, 0, 0, 0],\n",
       "        [0, 0, 0, 0, 0, 0, 1, 0, 0, 1, 0, 0, 1],\n",
       "        [0, 0, 0, 0, 0, 0, 0, 0, 0, 1, 0, 0, 1],\n",
       "        [0, 0, 0, 0, 0, 0, 0, 0, 1, 1, 0, 1, 1],\n",
       "        [0, 0, 0, 0, 0, 0, 0, 0, 0, 0, 0, 0, 0],\n",
       "        [0, 0, 0, 0, 0, 0, 0, 0, 0, 0, 0, 0, 0],\n",
       "        [0, 0, 0, 0, 0, 0, 0, 0, 0, 0, 0, 1, 1],\n",
       "        [0, 0, 0, 0, 0, 0, 0, 0, 0, 0, 0, 0, 0],\n",
       "        [0, 0, 0, 0, 0, 0, 0, 0, 0, 0, 0, 0, 0]])}"
      ]
     },
     "execution_count": 32,
     "metadata": {},
     "output_type": "execute_result"
    }
   ],
   "source": [
    "details_two_distant"
   ]
  },
  {
   "cell_type": "markdown",
   "metadata": {},
   "source": [
    "For this example we've found the full P set:"
   ]
  },
  {
   "cell_type": "code",
   "execution_count": 33,
   "metadata": {},
   "outputs": [
    {
     "data": {
      "text/plain": [
       "((8, 11, 0, 9, 3, 12, 6, 7, 1, 10, 4, 2, 5),\n",
       " (7, 10, 8, 2, 11, 5, 6, 0, 9, 3, 12, 1, 4))"
      ]
     },
     "execution_count": 33,
     "metadata": {},
     "output_type": "execute_result"
    }
   ],
   "source": [
    "details_two_distant['perm_x'],details_two_distant['perm_y']"
   ]
  },
  {
   "cell_type": "code",
   "execution_count": 34,
   "metadata": {},
   "outputs": [
    {
     "name": "stdout",
     "output_type": "stream",
     "text": [
      "Parameter OutputFlag unchanged\n",
      "   Value: 1  Min: 0  Max: 1  Default: 1\n",
      "Updating opjective in 0.0050 seconds\n",
      "Start optimization 0\n",
      "Optimize a model with 572 rows, 78 columns and 1716 nonzeros\n",
      "Variable types: 0 continuous, 78 integer (78 binary)\n",
      "Coefficient statistics:\n",
      "  Matrix range     [1e+00, 1e+00]\n",
      "  Objective range  [1e+00, 1e+00]\n",
      "  Bounds range     [1e+00, 1e+00]\n",
      "  RHS range        [1e+00, 1e+00]\n",
      "Found heuristic solution: objective 45.0000000\n",
      "Found heuristic solution: objective 50.0000000\n",
      "Presolve time: 0.00s\n",
      "Presolved: 572 rows, 78 columns, 1716 nonzeros\n",
      "Variable types: 0 continuous, 78 integer (78 binary)\n",
      "\n",
      "Root relaxation: objective 5.700000e+01, 49 iterations, 0.00 seconds\n",
      "\n",
      "    Nodes    |    Current Node    |     Objective Bounds      |     Work\n",
      " Expl Unexpl |  Obj  Depth IntInf | Incumbent    BestBd   Gap | It/Node Time\n",
      "\n",
      "*    0     0               0      57.0000000   57.00000  0.00%     -    0s\n",
      "\n",
      "Explored 0 nodes (49 simplex iterations) in 0.01 seconds\n",
      "Thread count was 8 (of 8 available processors)\n",
      "\n",
      "Solution count 3: 57 50 45 \n",
      "\n",
      "Optimal solution found (tolerance 1.00e-04)\n",
      "Best objective 5.700000000000e+01, best bound 5.700000000000e+01, gap 0.0000%\n",
      "Optimization in 0.0187 seconds\n",
      "End optimization 0\n",
      "Finished first optimization\n",
      "Parameter OutputFlag unchanged\n",
      "   Value: 1  Min: 0  Max: 1  Default: 1\n",
      "Start optimization\n",
      "Optimize a model with 1471 rows, 507 columns and 4381 nonzeros\n",
      "Variable types: 0 continuous, 507 integer (507 binary)\n",
      "Coefficient statistics:\n",
      "  Matrix range     [1e+00, 1e+00]\n",
      "  Objective range  [1e+00, 1e+00]\n",
      "  Bounds range     [1e+00, 1e+00]\n",
      "  RHS range        [1e+00, 6e+01]\n",
      "Presolve removed 169 rows and 195 columns\n",
      "Presolve time: 0.00s\n",
      "Presolved: 1302 rows, 312 columns, 4056 nonzeros\n",
      "Variable types: 0 continuous, 312 integer (312 binary)\n",
      "\n",
      "Root relaxation: objective 4.400000e+01, 974 iterations, 0.04 seconds\n",
      "\n",
      "    Nodes    |    Current Node    |     Objective Bounds      |     Work\n",
      " Expl Unexpl |  Obj  Depth IntInf | Incumbent    BestBd   Gap | It/Node Time\n",
      "\n",
      "*    0     0               0      44.0000000   44.00000  0.00%     -    0s\n",
      "\n",
      "Explored 0 nodes (974 simplex iterations) in 0.06 seconds\n",
      "Thread count was 8 (of 8 available processors)\n",
      "\n",
      "Solution count 1: 44 \n",
      "\n",
      "Optimal solution found (tolerance 1.00e-04)\n",
      "Best objective 4.400000000000e+01, best bound 4.400000000000e+01, gap 0.0000%\n",
      "Optimization in 0.0673 seconds\n",
      "End optimization\n"
     ]
    },
    {
     "data": {
      "text/plain": [
       "57.0"
      ]
     },
     "execution_count": 34,
     "metadata": {},
     "output_type": "execute_result"
    }
   ],
   "source": [
    "k_two_distant_jonad,details_two_distant_jonad = pyrankability.lop.bilp_two_most_distant_jonad(D_N_pal13.values,verbose=True)\n",
    "k_two_distant_jonad"
   ]
  },
  {
   "cell_type": "code",
   "execution_count": 35,
   "metadata": {},
   "outputs": [
    {
     "data": {
      "text/plain": [
       "((7, 10, 8, 2, 11, 5, 0, 9, 3, 12, 6, 1, 4),\n",
       " (8, 11, 6, 0, 9, 3, 12, 7, 1, 10, 4, 2, 5))"
      ]
     },
     "execution_count": 35,
     "metadata": {},
     "output_type": "execute_result"
    }
   ],
   "source": [
    "details_two_distant_jonad['perm_x'],details_two_distant_jonad['perm_y']"
   ]
  },
  {
   "cell_type": "code",
   "execution_count": 36,
   "metadata": {},
   "outputs": [],
   "source": [
    "def calc_con_dis(perm_x,perm_y):\n",
    "    ncon = 0\n",
    "    ndis = 0\n",
    "    for i in range(len(perm_x)): # i is an item\n",
    "        i_x = np.where(np.array(perm_x)==i)[0] # location of i in perm_x\n",
    "        i_y = np.where(np.array(perm_y)==i)[0] # location of i in perm_y\n",
    "        for j in range(i+1,len(perm_x)): # j is another item\n",
    "            j_x = np.where(np.array(perm_x)==j)[0] # location of j in perm_x\n",
    "            j_y = np.where(np.array(perm_y)==j)[0] # location of j in perm_y\n",
    "            if i_x-j_x > 0 and i_y-j_y < 0:\n",
    "                ndis += 1\n",
    "            elif i_x-j_x < 0 and i_y-j_y > 0:\n",
    "                ndis += 1\n",
    "            elif i_x-j_x > 0 and i_y-j_y > 0:\n",
    "                ncon += 1\n",
    "            elif i_x-j_x < 0 and i_y-j_y < 0:\n",
    "                ncon += 1\n",
    "    return ncon, ndis"
   ]
  },
  {
   "cell_type": "code",
   "execution_count": 37,
   "metadata": {},
   "outputs": [
    {
     "data": {
      "text/plain": [
       "(44, 34)"
      ]
     },
     "execution_count": 37,
     "metadata": {},
     "output_type": "execute_result"
    }
   ],
   "source": [
    "calc_con_dis(details_two_distant_jonad['perm_x'],details_two_distant_jonad['perm_y'])"
   ]
  },
  {
   "cell_type": "code",
   "execution_count": 38,
   "metadata": {},
   "outputs": [
    {
     "data": {
      "text/plain": [
       "(44, 34)"
      ]
     },
     "execution_count": 38,
     "metadata": {},
     "output_type": "execute_result"
    }
   ],
   "source": [
    "calc_con_dis(details_two_distant['perm_x'],details_two_distant['perm_y'])"
   ]
  },
  {
   "cell_type": "code",
   "execution_count": 39,
   "metadata": {},
   "outputs": [
    {
     "data": {
      "text/plain": [
       "[[7, 8, 2, 11, 5, 6, 0, 9, 3, 12, 1, 10, 4],\n",
       " [7, 10, 8, 2, 11, 5, 6, 0, 9, 3, 12, 1, 4],\n",
       " [7, 10, 8, 2, 11, 5, 0, 9, 3, 12, 6, 1, 4],\n",
       " [7, 8, 2, 11, 5, 0, 9, 3, 12, 6, 1, 10, 4],\n",
       " [7, 8, 2, 11, 0, 9, 3, 12, 6, 1, 10, 4, 5],\n",
       " [7, 8, 2, 11, 6, 0, 9, 3, 12, 1, 10, 4, 5],\n",
       " [8, 2, 11, 0, 9, 3, 12, 6, 7, 1, 10, 4, 5],\n",
       " [8, 2, 11, 6, 0, 9, 3, 12, 7, 1, 10, 4, 5],\n",
       " [8, 11, 6, 0, 9, 3, 12, 7, 1, 10, 4, 2, 5],\n",
       " [8, 11, 0, 9, 3, 12, 6, 7, 1, 10, 4, 2, 5]]"
      ]
     },
     "execution_count": 39,
     "metadata": {},
     "output_type": "execute_result"
    }
   ],
   "source": [
    "full_P = [[4, 10, 1, 12, 3, 9, 0, 6, 5, 11, 2, 8, 7],\n",
    "[4, 1, 12, 3, 9, 0, 6, 5, 11, 2, 8, 10, 7],\n",
    "[4, 1, 6, 12, 3, 9, 0, 5, 11, 2, 8, 10, 7],\n",
    "[4, 10, 1, 6, 12, 3, 9, 0, 5, 11, 2, 8, 7],\n",
    "[5, 4, 10, 1, 6, 12, 3, 9, 0, 11, 2, 8, 7],\n",
    "[5, 4, 10, 1, 12, 3, 9, 0, 6, 11, 2, 8, 7],\n",
    "[5, 4, 10, 1, 7, 6, 12, 3, 9, 0, 11, 2, 8],\n",
    "[5, 4, 10, 1, 7, 12, 3, 9, 0, 6, 11, 2, 8],\n",
    "[5, 2, 4, 10, 1, 7, 12, 3, 9, 0, 6, 11, 8],\n",
    "[5, 2, 4, 10, 1, 7, 6, 12, 3, 9, 0, 11, 8]]\n",
    "for i in range(len(full_P)):\n",
    "    full_P[i] = full_P[i][::-1]\n",
    "full_P"
   ]
  },
  {
   "cell_type": "code",
   "execution_count": 40,
   "metadata": {},
   "outputs": [
    {
     "data": {
      "text/plain": [
       "10"
      ]
     },
     "execution_count": 40,
     "metadata": {},
     "output_type": "execute_result"
    }
   ],
   "source": [
    "len(full_P)"
   ]
  },
  {
   "cell_type": "markdown",
   "metadata": {},
   "source": [
    "Find all concordant pairs and discordant pairs"
   ]
  },
  {
   "cell_type": "code",
   "execution_count": 41,
   "metadata": {},
   "outputs": [],
   "source": [
    "uc=np.zeros((n,n))\n",
    "vc=np.zeros((n,n))\n",
    "ncons = np.zeros((len(full_P),len(full_P)))\n",
    "ndiss = np.zeros((len(full_P),len(full_P)))\n",
    "for k,perm_x in enumerate(full_P):\n",
    "    for z,perm_y in enumerate(full_P):\n",
    "        ncon = 0\n",
    "        ndis = 0\n",
    "        for i in range(n): # i is an item\n",
    "            i_x = np.where(np.array(perm_x)==i)[0] # location of i in perm_x\n",
    "            i_y = np.where(np.array(perm_y)==i)[0] # location of i in perm_y\n",
    "            for j in range(i+1,n): # j is another item\n",
    "                j_x = np.where(np.array(perm_x)==j)[0] # location of j in perm_x\n",
    "                j_y = np.where(np.array(perm_y)==j)[0] # location of j in perm_y\n",
    "                if i_x-j_x > 0 and i_y-j_y < 0:\n",
    "                    vc[i,j] = 1\n",
    "                    ndis += 1\n",
    "                elif i_x-j_x < 0 and i_y-j_y > 0:\n",
    "                    uc[i,j] = 1\n",
    "                    ndis += 1\n",
    "                elif i_x-j_x > 0 and i_y-j_y > 0:\n",
    "                    ncon += 1\n",
    "                elif i_x-j_x < 0 and i_y-j_y < 0:\n",
    "                    ncon += 1\n",
    "        ncons[k,z] = ncon\n",
    "        ndiss[k,z] = ndis\n",
    "ncons = pd.DataFrame(ncons).astype(int)\n",
    "ndiss = pd.DataFrame(ndiss).astype(int)"
   ]
  },
  {
   "cell_type": "code",
   "execution_count": 42,
   "metadata": {},
   "outputs": [
    {
     "data": {
      "text/html": [
       "<div>\n",
       "<style scoped>\n",
       "    .dataframe tbody tr th:only-of-type {\n",
       "        vertical-align: middle;\n",
       "    }\n",
       "\n",
       "    .dataframe tbody tr th {\n",
       "        vertical-align: top;\n",
       "    }\n",
       "\n",
       "    .dataframe thead th {\n",
       "        text-align: right;\n",
       "    }\n",
       "</style>\n",
       "<table border=\"1\" class=\"dataframe\">\n",
       "  <thead>\n",
       "    <tr style=\"text-align: right;\">\n",
       "      <th></th>\n",
       "      <th>0</th>\n",
       "      <th>1</th>\n",
       "      <th>2</th>\n",
       "      <th>3</th>\n",
       "      <th>4</th>\n",
       "      <th>5</th>\n",
       "      <th>6</th>\n",
       "      <th>7</th>\n",
       "      <th>8</th>\n",
       "      <th>9</th>\n",
       "    </tr>\n",
       "  </thead>\n",
       "  <tbody>\n",
       "    <tr>\n",
       "      <td>0</td>\n",
       "      <td>28</td>\n",
       "      <td>28</td>\n",
       "      <td>26</td>\n",
       "      <td>26</td>\n",
       "      <td>21</td>\n",
       "      <td>23</td>\n",
       "      <td>17</td>\n",
       "      <td>19</td>\n",
       "      <td>15</td>\n",
       "      <td>13</td>\n",
       "    </tr>\n",
       "    <tr>\n",
       "      <td>1</td>\n",
       "      <td>28</td>\n",
       "      <td>28</td>\n",
       "      <td>26</td>\n",
       "      <td>26</td>\n",
       "      <td>21</td>\n",
       "      <td>23</td>\n",
       "      <td>17</td>\n",
       "      <td>19</td>\n",
       "      <td>15</td>\n",
       "      <td>13</td>\n",
       "    </tr>\n",
       "    <tr>\n",
       "      <td>2</td>\n",
       "      <td>26</td>\n",
       "      <td>26</td>\n",
       "      <td>28</td>\n",
       "      <td>28</td>\n",
       "      <td>23</td>\n",
       "      <td>21</td>\n",
       "      <td>19</td>\n",
       "      <td>17</td>\n",
       "      <td>13</td>\n",
       "      <td>15</td>\n",
       "    </tr>\n",
       "    <tr>\n",
       "      <td>3</td>\n",
       "      <td>26</td>\n",
       "      <td>26</td>\n",
       "      <td>28</td>\n",
       "      <td>28</td>\n",
       "      <td>23</td>\n",
       "      <td>21</td>\n",
       "      <td>19</td>\n",
       "      <td>17</td>\n",
       "      <td>13</td>\n",
       "      <td>15</td>\n",
       "    </tr>\n",
       "    <tr>\n",
       "      <td>4</td>\n",
       "      <td>21</td>\n",
       "      <td>21</td>\n",
       "      <td>23</td>\n",
       "      <td>23</td>\n",
       "      <td>28</td>\n",
       "      <td>26</td>\n",
       "      <td>24</td>\n",
       "      <td>22</td>\n",
       "      <td>18</td>\n",
       "      <td>20</td>\n",
       "    </tr>\n",
       "    <tr>\n",
       "      <td>5</td>\n",
       "      <td>23</td>\n",
       "      <td>23</td>\n",
       "      <td>21</td>\n",
       "      <td>21</td>\n",
       "      <td>26</td>\n",
       "      <td>28</td>\n",
       "      <td>22</td>\n",
       "      <td>24</td>\n",
       "      <td>20</td>\n",
       "      <td>18</td>\n",
       "    </tr>\n",
       "    <tr>\n",
       "      <td>6</td>\n",
       "      <td>17</td>\n",
       "      <td>17</td>\n",
       "      <td>19</td>\n",
       "      <td>19</td>\n",
       "      <td>24</td>\n",
       "      <td>22</td>\n",
       "      <td>28</td>\n",
       "      <td>26</td>\n",
       "      <td>20</td>\n",
       "      <td>22</td>\n",
       "    </tr>\n",
       "    <tr>\n",
       "      <td>7</td>\n",
       "      <td>19</td>\n",
       "      <td>19</td>\n",
       "      <td>17</td>\n",
       "      <td>17</td>\n",
       "      <td>22</td>\n",
       "      <td>24</td>\n",
       "      <td>26</td>\n",
       "      <td>28</td>\n",
       "      <td>22</td>\n",
       "      <td>20</td>\n",
       "    </tr>\n",
       "    <tr>\n",
       "      <td>8</td>\n",
       "      <td>15</td>\n",
       "      <td>15</td>\n",
       "      <td>13</td>\n",
       "      <td>13</td>\n",
       "      <td>18</td>\n",
       "      <td>20</td>\n",
       "      <td>20</td>\n",
       "      <td>22</td>\n",
       "      <td>28</td>\n",
       "      <td>26</td>\n",
       "    </tr>\n",
       "    <tr>\n",
       "      <td>9</td>\n",
       "      <td>13</td>\n",
       "      <td>13</td>\n",
       "      <td>15</td>\n",
       "      <td>15</td>\n",
       "      <td>20</td>\n",
       "      <td>18</td>\n",
       "      <td>22</td>\n",
       "      <td>20</td>\n",
       "      <td>26</td>\n",
       "      <td>28</td>\n",
       "    </tr>\n",
       "  </tbody>\n",
       "</table>\n",
       "</div>"
      ],
      "text/plain": [
       "    0   1   2   3   4   5   6   7   8   9\n",
       "0  28  28  26  26  21  23  17  19  15  13\n",
       "1  28  28  26  26  21  23  17  19  15  13\n",
       "2  26  26  28  28  23  21  19  17  13  15\n",
       "3  26  26  28  28  23  21  19  17  13  15\n",
       "4  21  21  23  23  28  26  24  22  18  20\n",
       "5  23  23  21  21  26  28  22  24  20  18\n",
       "6  17  17  19  19  24  22  28  26  20  22\n",
       "7  19  19  17  17  22  24  26  28  22  20\n",
       "8  15  15  13  13  18  20  20  22  28  26\n",
       "9  13  13  15  15  20  18  22  20  26  28"
      ]
     },
     "execution_count": 42,
     "metadata": {},
     "output_type": "execute_result"
    }
   ],
   "source": [
    "ncons"
   ]
  },
  {
   "cell_type": "code",
   "execution_count": 43,
   "metadata": {},
   "outputs": [
    {
     "data": {
      "text/html": [
       "<div>\n",
       "<style scoped>\n",
       "    .dataframe tbody tr th:only-of-type {\n",
       "        vertical-align: middle;\n",
       "    }\n",
       "\n",
       "    .dataframe tbody tr th {\n",
       "        vertical-align: top;\n",
       "    }\n",
       "\n",
       "    .dataframe thead th {\n",
       "        text-align: right;\n",
       "    }\n",
       "</style>\n",
       "<table border=\"1\" class=\"dataframe\">\n",
       "  <thead>\n",
       "    <tr style=\"text-align: right;\">\n",
       "      <th></th>\n",
       "      <th>0</th>\n",
       "      <th>1</th>\n",
       "      <th>2</th>\n",
       "      <th>3</th>\n",
       "      <th>4</th>\n",
       "      <th>5</th>\n",
       "      <th>6</th>\n",
       "      <th>7</th>\n",
       "      <th>8</th>\n",
       "      <th>9</th>\n",
       "    </tr>\n",
       "  </thead>\n",
       "  <tbody>\n",
       "    <tr>\n",
       "      <td>0</td>\n",
       "      <td>0</td>\n",
       "      <td>0</td>\n",
       "      <td>2</td>\n",
       "      <td>2</td>\n",
       "      <td>7</td>\n",
       "      <td>5</td>\n",
       "      <td>11</td>\n",
       "      <td>9</td>\n",
       "      <td>13</td>\n",
       "      <td>15</td>\n",
       "    </tr>\n",
       "    <tr>\n",
       "      <td>1</td>\n",
       "      <td>0</td>\n",
       "      <td>0</td>\n",
       "      <td>2</td>\n",
       "      <td>2</td>\n",
       "      <td>7</td>\n",
       "      <td>5</td>\n",
       "      <td>11</td>\n",
       "      <td>9</td>\n",
       "      <td>13</td>\n",
       "      <td>15</td>\n",
       "    </tr>\n",
       "    <tr>\n",
       "      <td>2</td>\n",
       "      <td>2</td>\n",
       "      <td>2</td>\n",
       "      <td>0</td>\n",
       "      <td>0</td>\n",
       "      <td>5</td>\n",
       "      <td>7</td>\n",
       "      <td>9</td>\n",
       "      <td>11</td>\n",
       "      <td>15</td>\n",
       "      <td>13</td>\n",
       "    </tr>\n",
       "    <tr>\n",
       "      <td>3</td>\n",
       "      <td>2</td>\n",
       "      <td>2</td>\n",
       "      <td>0</td>\n",
       "      <td>0</td>\n",
       "      <td>5</td>\n",
       "      <td>7</td>\n",
       "      <td>9</td>\n",
       "      <td>11</td>\n",
       "      <td>15</td>\n",
       "      <td>13</td>\n",
       "    </tr>\n",
       "    <tr>\n",
       "      <td>4</td>\n",
       "      <td>7</td>\n",
       "      <td>7</td>\n",
       "      <td>5</td>\n",
       "      <td>5</td>\n",
       "      <td>0</td>\n",
       "      <td>2</td>\n",
       "      <td>4</td>\n",
       "      <td>6</td>\n",
       "      <td>10</td>\n",
       "      <td>8</td>\n",
       "    </tr>\n",
       "    <tr>\n",
       "      <td>5</td>\n",
       "      <td>5</td>\n",
       "      <td>5</td>\n",
       "      <td>7</td>\n",
       "      <td>7</td>\n",
       "      <td>2</td>\n",
       "      <td>0</td>\n",
       "      <td>6</td>\n",
       "      <td>4</td>\n",
       "      <td>8</td>\n",
       "      <td>10</td>\n",
       "    </tr>\n",
       "    <tr>\n",
       "      <td>6</td>\n",
       "      <td>11</td>\n",
       "      <td>11</td>\n",
       "      <td>9</td>\n",
       "      <td>9</td>\n",
       "      <td>4</td>\n",
       "      <td>6</td>\n",
       "      <td>0</td>\n",
       "      <td>2</td>\n",
       "      <td>8</td>\n",
       "      <td>6</td>\n",
       "    </tr>\n",
       "    <tr>\n",
       "      <td>7</td>\n",
       "      <td>9</td>\n",
       "      <td>9</td>\n",
       "      <td>11</td>\n",
       "      <td>11</td>\n",
       "      <td>6</td>\n",
       "      <td>4</td>\n",
       "      <td>2</td>\n",
       "      <td>0</td>\n",
       "      <td>6</td>\n",
       "      <td>8</td>\n",
       "    </tr>\n",
       "    <tr>\n",
       "      <td>8</td>\n",
       "      <td>13</td>\n",
       "      <td>13</td>\n",
       "      <td>15</td>\n",
       "      <td>15</td>\n",
       "      <td>10</td>\n",
       "      <td>8</td>\n",
       "      <td>8</td>\n",
       "      <td>6</td>\n",
       "      <td>0</td>\n",
       "      <td>2</td>\n",
       "    </tr>\n",
       "    <tr>\n",
       "      <td>9</td>\n",
       "      <td>15</td>\n",
       "      <td>15</td>\n",
       "      <td>13</td>\n",
       "      <td>13</td>\n",
       "      <td>8</td>\n",
       "      <td>10</td>\n",
       "      <td>6</td>\n",
       "      <td>8</td>\n",
       "      <td>2</td>\n",
       "      <td>0</td>\n",
       "    </tr>\n",
       "  </tbody>\n",
       "</table>\n",
       "</div>"
      ],
      "text/plain": [
       "    0   1   2   3   4   5   6   7   8   9\n",
       "0   0   0   2   2   7   5  11   9  13  15\n",
       "1   0   0   2   2   7   5  11   9  13  15\n",
       "2   2   2   0   0   5   7   9  11  15  13\n",
       "3   2   2   0   0   5   7   9  11  15  13\n",
       "4   7   7   5   5   0   2   4   6  10   8\n",
       "5   5   5   7   7   2   0   6   4   8  10\n",
       "6  11  11   9   9   4   6   0   2   8   6\n",
       "7   9   9  11  11   6   4   2   0   6   8\n",
       "8  13  13  15  15  10   8   8   6   0   2\n",
       "9  15  15  13  13   8  10   6   8   2   0"
      ]
     },
     "execution_count": 43,
     "metadata": {},
     "output_type": "execute_result"
    }
   ],
   "source": [
    "ndiss"
   ]
  },
  {
   "cell_type": "markdown",
   "metadata": {},
   "source": [
    "What is the best pair? Best in this case being the farthest away."
   ]
  },
  {
   "cell_type": "code",
   "execution_count": 44,
   "metadata": {},
   "outputs": [
    {
     "data": {
      "text/plain": [
       "(0, 9)"
      ]
     },
     "execution_count": 44,
     "metadata": {},
     "output_type": "execute_result"
    }
   ],
   "source": [
    "best_pair = ndiss.stack().idxmax()\n",
    "best_pair"
   ]
  },
  {
   "cell_type": "code",
   "execution_count": 45,
   "metadata": {},
   "outputs": [
    {
     "name": "stdout",
     "output_type": "stream",
     "text": [
      "[7, 8, 2, 11, 5, 6, 0, 9, 3, 12, 1, 10, 4]\n",
      "[8, 11, 0, 9, 3, 12, 6, 7, 1, 10, 4, 2, 5]\n"
     ]
    }
   ],
   "source": [
    "print(full_P[best_pair[0]])\n",
    "print(full_P[best_pair[1]])"
   ]
  },
  {
   "cell_type": "markdown",
   "metadata": {},
   "source": [
    "What did we find using our algorithm?"
   ]
  },
  {
   "cell_type": "code",
   "execution_count": 46,
   "metadata": {},
   "outputs": [
    {
     "name": "stdout",
     "output_type": "stream",
     "text": [
      "(7, 10, 8, 2, 11, 5, 6, 0, 9, 3, 12, 1, 4)\n",
      "(8, 11, 0, 9, 3, 12, 6, 7, 1, 10, 4, 2, 5)\n"
     ]
    }
   ],
   "source": [
    "print(details_two_distant['perm_y'])\n",
    "print(details_two_distant['perm_x'])"
   ]
  },
  {
   "cell_type": "markdown",
   "metadata": {},
   "source": [
    "It's the same!"
   ]
  },
  {
   "cell_type": "markdown",
   "metadata": {},
   "source": [
    "### How does hillside compare?"
   ]
  },
  {
   "cell_type": "code",
   "execution_count": 47,
   "metadata": {},
   "outputs": [
    {
     "name": "stdout",
     "output_type": "stream",
     "text": [
      "Updating opjective in 0.0067 seconds\n",
      "Start optimization 0\n",
      "Optimization in 0.0075 seconds\n",
      "End optimization 0\n",
      "Finished first optimization. Obj: 436\n",
      "Parameter OutputFlag unchanged\n",
      "   Value: 1  Min: 0  Max: 1  Default: 1\n",
      "Start optimization\n",
      "Optimize a model with 1302 rows, 312 columns and 4024 nonzeros\n",
      "Variable types: 0 continuous, 312 integer (312 binary)\n",
      "Coefficient statistics:\n",
      "  Matrix range     [1e+00, 8e+00]\n",
      "  Objective range  [1e+00, 1e+00]\n",
      "  Bounds range     [1e+00, 1e+00]\n",
      "  RHS range        [1e+00, 4e+01]\n",
      "Found heuristic solution: objective -0.0000000\n",
      "Presolve removed 1242 rows and 272 columns\n",
      "Presolve time: 0.00s\n",
      "Presolved: 60 rows, 40 columns, 180 nonzeros\n",
      "Found heuristic solution: objective 16.0000000\n",
      "Variable types: 0 continuous, 40 integer (40 binary)\n",
      "\n",
      "Root relaxation: cutoff, 0 iterations, 0.00 seconds\n",
      "\n",
      "Explored 0 nodes (0 simplex iterations) in 0.01 seconds\n",
      "Thread count was 8 (of 8 available processors)\n",
      "\n",
      "Solution count 2: 16 6 \n",
      "\n",
      "Optimal solution found (tolerance 1.00e-04)\n",
      "Best objective 1.600000000000e+01, best bound 1.600000000000e+01, gap 0.0000%\n",
      "Optimization in 0.0158 seconds\n",
      "End optimization\n"
     ]
    },
    {
     "data": {
      "text/plain": [
       "436"
      ]
     },
     "execution_count": 47,
     "metadata": {},
     "output_type": "execute_result"
    }
   ],
   "source": [
    "k_two_distant_hillside,details_two_distant_hillside = pyrankability.hillside.bilp_two_most_distant(D_N_pal13.values,verbose=True)\n",
    "\n",
    "k_two_distant_hillside"
   ]
  },
  {
   "cell_type": "code",
   "execution_count": 48,
   "metadata": {},
   "outputs": [
    {
     "name": "stdout",
     "output_type": "stream",
     "text": [
      "(8, 11, 9, 7, 12, 10, 6, 2, 0, 5, 3, 1, 4)\n",
      "(8, 7, 9, 11, 0, 2, 6, 10, 12, 1, 3, 5, 4)\n"
     ]
    }
   ],
   "source": [
    "print(details_two_distant_hillside['perm_y'])\n",
    "print(details_two_distant_hillside['perm_x'])"
   ]
  }
 ],
 "metadata": {
  "kernelspec": {
   "display_name": "Python 3",
   "language": "python",
   "name": "python3"
  },
  "language_info": {
   "codemirror_mode": {
    "name": "ipython",
    "version": 3
   },
   "file_extension": ".py",
   "mimetype": "text/x-python",
   "name": "python",
   "nbconvert_exporter": "python",
   "pygments_lexer": "ipython3",
   "version": "3.6.9"
  }
 },
 "nbformat": 4,
 "nbformat_minor": 4
}
