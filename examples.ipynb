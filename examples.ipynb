{
 "cells": [
  {
   "cell_type": "markdown",
   "metadata": {},
   "source": [
    "# Examples of the pyrankability package"
   ]
  },
  {
   "cell_type": "code",
   "execution_count": 423,
   "metadata": {},
   "outputs": [
    {
     "name": "stdout",
     "output_type": "stream",
     "text": [
      "The autoreload extension is already loaded. To reload it, use:\n",
      "  %reload_ext autoreload\n"
     ]
    }
   ],
   "source": [
    "%load_ext autoreload\n",
    "%autoreload 2"
   ]
  },
  {
   "cell_type": "code",
   "execution_count": 480,
   "metadata": {},
   "outputs": [],
   "source": [
    "# d_ij is defined as the difference in score between a game between i and j (scorei-scorej)\n",
    "# d_kj is defined as the difference in score between a game between k and j (scorek-scorej)\n",
    "# I tried to write the if statements below out for clarity and they can be simplified\n",
    "def violation_map(d_ij,d_kj):\n",
    "    if d_ij > 0 and d_kj > 0: # both i and k won\n",
    "        if d_kj - d_ij > 10: # if k beat j by 10 more points than i beat j\n",
    "            return 1\n",
    "    if d_ij > 0 and d_kj < 0: # i won and k lost\n",
    "        return 0 # no violation here\n",
    "    if d_ij < 0 and d_kj > 0: # i lost but k won\n",
    "        if d_kj < 2: # did you win by 2 or more points\n",
    "            return 0\n",
    "        if d_ij > -2: # did you lose by a point?\n",
    "            return 0\n",
    "        return 1\n",
    "    # if they both lost, then I would say who care, no violation no matter what\n",
    "    return 0"
   ]
  },
  {
   "cell_type": "code",
   "execution_count": 424,
   "metadata": {},
   "outputs": [],
   "source": [
    "from IPython.core.display import display, HTML\n",
    "import pandas as pd\n",
    "import numpy as np\n",
    "import copy\n",
    "import os"
   ]
  },
  {
   "cell_type": "code",
   "execution_count": 425,
   "metadata": {},
   "outputs": [],
   "source": [
    "import sys\n",
    "sys.path.insert(0,\".\")"
   ]
  },
  {
   "cell_type": "code",
   "execution_count": 426,
   "metadata": {},
   "outputs": [],
   "source": [
    "import pyrankability"
   ]
  },
  {
   "cell_type": "code",
   "execution_count": 427,
   "metadata": {},
   "outputs": [],
   "source": [
    "sys.path.insert(0,\"../sensitivity_study/src\")"
   ]
  },
  {
   "cell_type": "code",
   "execution_count": 428,
   "metadata": {},
   "outputs": [],
   "source": [
    "from sensitivity_tests import *"
   ]
  },
  {
   "cell_type": "markdown",
   "metadata": {},
   "source": [
    "## Simple examples"
   ]
  },
  {
   "cell_type": "code",
   "execution_count": 429,
   "metadata": {},
   "outputs": [
    {
     "data": {
      "text/plain": [
       "array([[0., 1., 1., 1., 1., 1., 1., 1.],\n",
       "       [0., 0., 1., 1., 1., 1., 1., 1.],\n",
       "       [0., 0., 0., 1., 1., 1., 1., 1.],\n",
       "       [1., 1., 1., 1., 0., 0., 0., 0.],\n",
       "       [0., 0., 0., 0., 0., 1., 1., 1.],\n",
       "       [1., 1., 1., 1., 1., 1., 0., 0.],\n",
       "       [0., 0., 0., 0., 0., 0., 0., 1.],\n",
       "       [1., 1., 1., 1., 1., 1., 1., 1.]])"
      ]
     },
     "execution_count": 429,
     "metadata": {},
     "output_type": "execute_result"
    }
   ],
   "source": [
    "n=8\n",
    "D=np.zeros((n,n))\n",
    "D[np.triu_indices(n,1)]=1\n",
    "D[[5,3,7]] = 1-D[[5,3,7]]\n",
    "D"
   ]
  },
  {
   "cell_type": "markdown",
   "metadata": {},
   "source": [
    "### Exhaustive"
   ]
  },
  {
   "cell_type": "code",
   "execution_count": 430,
   "metadata": {},
   "outputs": [],
   "source": [
    "k,details = pyrankability.rank.solve_exhaustive_error(D,max_error=5,min_error=0,method='hillside')"
   ]
  },
  {
   "cell_type": "code",
   "execution_count": 431,
   "metadata": {},
   "outputs": [
    {
     "data": {
      "text/plain": [
       "54.0"
      ]
     },
     "execution_count": 431,
     "metadata": {},
     "output_type": "execute_result"
    }
   ],
   "source": [
    "k"
   ]
  },
  {
   "cell_type": "code",
   "execution_count": 432,
   "metadata": {},
   "outputs": [
    {
     "data": {
      "text/plain": [
       "136"
      ]
     },
     "execution_count": 432,
     "metadata": {},
     "output_type": "execute_result"
    }
   ],
   "source": [
    "len(details['P'])"
   ]
  },
  {
   "cell_type": "code",
   "execution_count": 433,
   "metadata": {},
   "outputs": [
    {
     "data": {
      "text/plain": [
       "(6, 5, 4, 3, 2, 7, 1, 0)"
      ]
     },
     "execution_count": 433,
     "metadata": {},
     "output_type": "execute_result"
    }
   ],
   "source": [
    "perm"
   ]
  },
  {
   "cell_type": "code",
   "execution_count": 434,
   "metadata": {},
   "outputs": [
    {
     "data": {
      "text/plain": [
       "array([7, 6, 4, 3, 2, 1, 0, 5])"
      ]
     },
     "execution_count": 434,
     "metadata": {},
     "output_type": "execute_result"
    }
   ],
   "source": [
    "np.argsort(perm)"
   ]
  },
  {
   "cell_type": "code",
   "execution_count": 435,
   "metadata": {},
   "outputs": [
    {
     "data": {
      "text/plain": [
       "array([[ 0.,  6.,  3.,  5.,  6.,  7.,  8., 10.],\n",
       "       [ 2.,  0.,  3.,  1.,  4.,  3.,  5.,  6.],\n",
       "       [ 1.,  5.,  0.,  4.,  3.,  6.,  5.,  7.],\n",
       "       [ 3.,  3.,  4.,  0.,  5.,  6.,  6.,  7.],\n",
       "       [ 2.,  4.,  1.,  3.,  0.,  5.,  2.,  4.],\n",
       "       [ 1.,  1.,  2.,  2.,  3.,  0.,  4.,  5.],\n",
       "       [ 2.,  3.,  1.,  2.,  0.,  4.,  0.,  2.],\n",
       "       [ 2.,  2.,  1.,  1.,  0.,  3.,  0.,  0.]])"
      ]
     },
     "execution_count": 435,
     "metadata": {},
     "output_type": "execute_result"
    }
   ],
   "source": [
    "c[np.ix_(perm,perm)]"
   ]
  },
  {
   "cell_type": "code",
   "execution_count": 436,
   "metadata": {},
   "outputs": [
    {
     "data": {
      "text/plain": [
       "array([[ 0.,  0.,  0.,  1.,  1.,  2.,  2.,  3.],\n",
       "       [ 2.,  0.,  0.,  2.,  1.,  3.,  2.,  4.],\n",
       "       [ 4.,  2.,  0.,  3.,  1.,  4.,  2.,  5.],\n",
       "       [ 7.,  6.,  5.,  0.,  4.,  3.,  3.,  6.],\n",
       "       [ 7.,  5.,  3.,  4.,  0.,  5.,  1.,  6.],\n",
       "       [ 6.,  5.,  4.,  1.,  3.,  0.,  2.,  3.],\n",
       "       [10.,  8.,  6.,  5.,  3.,  6.,  0.,  7.],\n",
       "       [ 5.,  4.,  3.,  2.,  2.,  1.,  1.,  0.]])"
      ]
     },
     "execution_count": 436,
     "metadata": {},
     "output_type": "execute_result"
    }
   ],
   "source": [
    "c"
   ]
  },
  {
   "cell_type": "code",
   "execution_count": 455,
   "metadata": {},
   "outputs": [
    {
     "data": {
      "text/html": [
       "<div>\n",
       "<style scoped>\n",
       "    .dataframe tbody tr th:only-of-type {\n",
       "        vertical-align: middle;\n",
       "    }\n",
       "\n",
       "    .dataframe tbody tr th {\n",
       "        vertical-align: top;\n",
       "    }\n",
       "\n",
       "    .dataframe thead th {\n",
       "        text-align: right;\n",
       "    }\n",
       "</style>\n",
       "<table border=\"1\" class=\"dataframe\">\n",
       "  <thead>\n",
       "    <tr style=\"text-align: right;\">\n",
       "      <th></th>\n",
       "      <th>0</th>\n",
       "      <th>1</th>\n",
       "      <th>2</th>\n",
       "      <th>3</th>\n",
       "      <th>4</th>\n",
       "      <th>5</th>\n",
       "      <th>6</th>\n",
       "      <th>7</th>\n",
       "    </tr>\n",
       "  </thead>\n",
       "  <tbody>\n",
       "    <tr>\n",
       "      <th>0</th>\n",
       "      <td>1.000000</td>\n",
       "      <td>0.823529</td>\n",
       "      <td>1.000000</td>\n",
       "      <td>1.000000</td>\n",
       "      <td>1.000000</td>\n",
       "      <td>1.000000</td>\n",
       "      <td>1.000000</td>\n",
       "      <td>0.823529</td>\n",
       "    </tr>\n",
       "    <tr>\n",
       "      <th>1</th>\n",
       "      <td>0.176471</td>\n",
       "      <td>1.000000</td>\n",
       "      <td>0.882353</td>\n",
       "      <td>1.000000</td>\n",
       "      <td>1.000000</td>\n",
       "      <td>0.882353</td>\n",
       "      <td>1.000000</td>\n",
       "      <td>0.500000</td>\n",
       "    </tr>\n",
       "    <tr>\n",
       "      <th>2</th>\n",
       "      <td>0.000000</td>\n",
       "      <td>0.117647</td>\n",
       "      <td>1.000000</td>\n",
       "      <td>0.882353</td>\n",
       "      <td>0.882353</td>\n",
       "      <td>0.500000</td>\n",
       "      <td>1.000000</td>\n",
       "      <td>0.117647</td>\n",
       "    </tr>\n",
       "    <tr>\n",
       "      <th>3</th>\n",
       "      <td>0.000000</td>\n",
       "      <td>0.000000</td>\n",
       "      <td>0.117647</td>\n",
       "      <td>1.000000</td>\n",
       "      <td>0.500000</td>\n",
       "      <td>0.117647</td>\n",
       "      <td>0.823529</td>\n",
       "      <td>0.000000</td>\n",
       "    </tr>\n",
       "    <tr>\n",
       "      <th>4</th>\n",
       "      <td>0.000000</td>\n",
       "      <td>0.000000</td>\n",
       "      <td>0.117647</td>\n",
       "      <td>0.500000</td>\n",
       "      <td>1.000000</td>\n",
       "      <td>0.117647</td>\n",
       "      <td>0.823529</td>\n",
       "      <td>0.000000</td>\n",
       "    </tr>\n",
       "    <tr>\n",
       "      <th>5</th>\n",
       "      <td>0.000000</td>\n",
       "      <td>0.117647</td>\n",
       "      <td>0.500000</td>\n",
       "      <td>0.882353</td>\n",
       "      <td>0.882353</td>\n",
       "      <td>1.000000</td>\n",
       "      <td>1.000000</td>\n",
       "      <td>0.117647</td>\n",
       "    </tr>\n",
       "    <tr>\n",
       "      <th>6</th>\n",
       "      <td>0.000000</td>\n",
       "      <td>0.000000</td>\n",
       "      <td>0.000000</td>\n",
       "      <td>0.176471</td>\n",
       "      <td>0.176471</td>\n",
       "      <td>0.000000</td>\n",
       "      <td>1.000000</td>\n",
       "      <td>0.000000</td>\n",
       "    </tr>\n",
       "    <tr>\n",
       "      <th>7</th>\n",
       "      <td>0.176471</td>\n",
       "      <td>0.500000</td>\n",
       "      <td>0.882353</td>\n",
       "      <td>1.000000</td>\n",
       "      <td>1.000000</td>\n",
       "      <td>0.882353</td>\n",
       "      <td>1.000000</td>\n",
       "      <td>1.000000</td>\n",
       "    </tr>\n",
       "  </tbody>\n",
       "</table>\n",
       "</div>"
      ],
      "text/plain": [
       "          0         1         2         3         4         5         6  \\\n",
       "0  1.000000  0.823529  1.000000  1.000000  1.000000  1.000000  1.000000   \n",
       "1  0.176471  1.000000  0.882353  1.000000  1.000000  0.882353  1.000000   \n",
       "2  0.000000  0.117647  1.000000  0.882353  0.882353  0.500000  1.000000   \n",
       "3  0.000000  0.000000  0.117647  1.000000  0.500000  0.117647  0.823529   \n",
       "4  0.000000  0.000000  0.117647  0.500000  1.000000  0.117647  0.823529   \n",
       "5  0.000000  0.117647  0.500000  0.882353  0.882353  1.000000  1.000000   \n",
       "6  0.000000  0.000000  0.000000  0.176471  0.176471  0.000000  1.000000   \n",
       "7  0.176471  0.500000  0.882353  1.000000  1.000000  0.882353  1.000000   \n",
       "\n",
       "          7  \n",
       "0  0.823529  \n",
       "1  0.500000  \n",
       "2  0.117647  \n",
       "3  0.000000  \n",
       "4  0.000000  \n",
       "5  0.117647  \n",
       "6  0.000000  \n",
       "7  1.000000  "
      ]
     },
     "execution_count": 455,
     "metadata": {},
     "output_type": "execute_result"
    }
   ],
   "source": [
    "xstar = np.zeros((D.shape[0],D.shape[0]))\n",
    "c = pyrankability.common.compute_C(D)\n",
    "objs = []\n",
    "for perm in details['P']:\n",
    "    x = pyrankability.common.perm_to_x(perm)\n",
    "    objs.append(np.sum(c*x))\n",
    "    xstar += x\n",
    "xstar = xstar/len(details['P'])\n",
    "pd.DataFrame(xstar)"
   ]
  },
  {
   "cell_type": "markdown",
   "metadata": {},
   "source": [
    "### Hillside"
   ]
  },
  {
   "cell_type": "code",
   "execution_count": 438,
   "metadata": {},
   "outputs": [
    {
     "data": {
      "text/plain": [
       "54.0"
      ]
     },
     "execution_count": 438,
     "metadata": {},
     "output_type": "execute_result"
    }
   ],
   "source": [
    "k_hillside,details_hillside = pyrankability.rank.solve(D,method='hillside')\n",
    "k_hillside"
   ]
  },
  {
   "cell_type": "code",
   "execution_count": 439,
   "metadata": {},
   "outputs": [],
   "source": [
    "sys.path.insert(0,\"../sensitivity_study/src\")"
   ]
  },
  {
   "cell_type": "code",
   "execution_count": 440,
   "metadata": {},
   "outputs": [
    {
     "data": {
      "text/plain": [
       "53.99999999984691"
      ]
     },
     "execution_count": 440,
     "metadata": {},
     "output_type": "execute_result"
    }
   ],
   "source": [
    "k_hillside,details_hillside = pyrankability.rank.solve(D,method='hillside',cont=True)\n",
    "k_hillside"
   ]
  },
  {
   "cell_type": "code",
   "execution_count": 441,
   "metadata": {},
   "outputs": [
    {
     "data": {
      "text/plain": [
       "([0, 1, 5, 2, 3, 4, 6, 7], [0, 1, 7, 2, 5, 4, 3, 6])"
      ]
     },
     "execution_count": 441,
     "metadata": {},
     "output_type": "execute_result"
    }
   ],
   "source": [
    "massey_ranking = MasseyRankingAlgorithm().rank(D)\n",
    "colley_ranking = ColleyRankingAlgorithm().rank(D)\n",
    "massey_ranking,colley_ranking"
   ]
  },
  {
   "cell_type": "code",
   "execution_count": 442,
   "metadata": {},
   "outputs": [
    {
     "data": {
      "text/plain": [
       "(72.0, 54.0)"
      ]
     },
     "execution_count": 442,
     "metadata": {},
     "output_type": "execute_result"
    }
   ],
   "source": [
    "massey_x = 1-pyrankability.common.perm_to_x(massey_ranking)\n",
    "colley_x = 1-pyrankability.common.perm_to_x(colley_ranking)\n",
    "k_massey = np.sum(c*massey_x)\n",
    "k_colley = np.sum(c*colley_x)\n",
    "k_massey,k_colley"
   ]
  },
  {
   "cell_type": "code",
   "execution_count": 443,
   "metadata": {},
   "outputs": [
    {
     "data": {
      "text/html": [
       "<div>\n",
       "<style scoped>\n",
       "    .dataframe tbody tr th:only-of-type {\n",
       "        vertical-align: middle;\n",
       "    }\n",
       "\n",
       "    .dataframe tbody tr th {\n",
       "        vertical-align: top;\n",
       "    }\n",
       "\n",
       "    .dataframe thead th {\n",
       "        text-align: right;\n",
       "    }\n",
       "</style>\n",
       "<table border=\"1\" class=\"dataframe\">\n",
       "  <thead>\n",
       "    <tr style=\"text-align: right;\">\n",
       "      <th></th>\n",
       "      <th>0</th>\n",
       "      <th>1</th>\n",
       "      <th>2</th>\n",
       "      <th>3</th>\n",
       "      <th>4</th>\n",
       "      <th>5</th>\n",
       "      <th>6</th>\n",
       "      <th>7</th>\n",
       "    </tr>\n",
       "  </thead>\n",
       "  <tbody>\n",
       "    <tr>\n",
       "      <th>0</th>\n",
       "      <td>0.000000e+00</td>\n",
       "      <td>1.000000e+00</td>\n",
       "      <td>1.000000e+00</td>\n",
       "      <td>1.000000e+00</td>\n",
       "      <td>1.000000e+00</td>\n",
       "      <td>1.000000e+00</td>\n",
       "      <td>1.0</td>\n",
       "      <td>1.000000e+00</td>\n",
       "    </tr>\n",
       "    <tr>\n",
       "      <th>1</th>\n",
       "      <td>1.205391e-11</td>\n",
       "      <td>0.000000e+00</td>\n",
       "      <td>1.000000e+00</td>\n",
       "      <td>1.000000e+00</td>\n",
       "      <td>1.000000e+00</td>\n",
       "      <td>1.000000e+00</td>\n",
       "      <td>1.0</td>\n",
       "      <td>5.000000e-01</td>\n",
       "    </tr>\n",
       "    <tr>\n",
       "      <th>2</th>\n",
       "      <td>2.089662e-12</td>\n",
       "      <td>6.615264e-12</td>\n",
       "      <td>0.000000e+00</td>\n",
       "      <td>1.000000e+00</td>\n",
       "      <td>1.000000e+00</td>\n",
       "      <td>5.000000e-01</td>\n",
       "      <td>1.0</td>\n",
       "      <td>6.615247e-12</td>\n",
       "    </tr>\n",
       "    <tr>\n",
       "      <th>3</th>\n",
       "      <td>7.394085e-14</td>\n",
       "      <td>6.699086e-13</td>\n",
       "      <td>6.615264e-12</td>\n",
       "      <td>0.000000e+00</td>\n",
       "      <td>5.000000e-01</td>\n",
       "      <td>6.615250e-12</td>\n",
       "      <td>1.0</td>\n",
       "      <td>6.699724e-13</td>\n",
       "    </tr>\n",
       "    <tr>\n",
       "      <th>4</th>\n",
       "      <td>7.382983e-14</td>\n",
       "      <td>6.699086e-13</td>\n",
       "      <td>6.615264e-12</td>\n",
       "      <td>5.000000e-01</td>\n",
       "      <td>0.000000e+00</td>\n",
       "      <td>6.615220e-12</td>\n",
       "      <td>1.0</td>\n",
       "      <td>6.699718e-13</td>\n",
       "    </tr>\n",
       "    <tr>\n",
       "      <th>5</th>\n",
       "      <td>2.089662e-12</td>\n",
       "      <td>6.615264e-12</td>\n",
       "      <td>5.000000e-01</td>\n",
       "      <td>1.000000e+00</td>\n",
       "      <td>1.000000e+00</td>\n",
       "      <td>0.000000e+00</td>\n",
       "      <td>1.0</td>\n",
       "      <td>6.615260e-12</td>\n",
       "    </tr>\n",
       "    <tr>\n",
       "      <th>6</th>\n",
       "      <td>6.539214e-14</td>\n",
       "      <td>7.394085e-14</td>\n",
       "      <td>2.089662e-12</td>\n",
       "      <td>1.205391e-11</td>\n",
       "      <td>1.205391e-11</td>\n",
       "      <td>2.089662e-12</td>\n",
       "      <td>0.0</td>\n",
       "      <td>7.396602e-14</td>\n",
       "    </tr>\n",
       "    <tr>\n",
       "      <th>7</th>\n",
       "      <td>1.205391e-11</td>\n",
       "      <td>5.000000e-01</td>\n",
       "      <td>1.000000e+00</td>\n",
       "      <td>1.000000e+00</td>\n",
       "      <td>1.000000e+00</td>\n",
       "      <td>1.000000e+00</td>\n",
       "      <td>1.0</td>\n",
       "      <td>0.000000e+00</td>\n",
       "    </tr>\n",
       "  </tbody>\n",
       "</table>\n",
       "</div>"
      ],
      "text/plain": [
       "              0             1             2             3             4  \\\n",
       "0  0.000000e+00  1.000000e+00  1.000000e+00  1.000000e+00  1.000000e+00   \n",
       "1  1.205391e-11  0.000000e+00  1.000000e+00  1.000000e+00  1.000000e+00   \n",
       "2  2.089662e-12  6.615264e-12  0.000000e+00  1.000000e+00  1.000000e+00   \n",
       "3  7.394085e-14  6.699086e-13  6.615264e-12  0.000000e+00  5.000000e-01   \n",
       "4  7.382983e-14  6.699086e-13  6.615264e-12  5.000000e-01  0.000000e+00   \n",
       "5  2.089662e-12  6.615264e-12  5.000000e-01  1.000000e+00  1.000000e+00   \n",
       "6  6.539214e-14  7.394085e-14  2.089662e-12  1.205391e-11  1.205391e-11   \n",
       "7  1.205391e-11  5.000000e-01  1.000000e+00  1.000000e+00  1.000000e+00   \n",
       "\n",
       "              5    6             7  \n",
       "0  1.000000e+00  1.0  1.000000e+00  \n",
       "1  1.000000e+00  1.0  5.000000e-01  \n",
       "2  5.000000e-01  1.0  6.615247e-12  \n",
       "3  6.615250e-12  1.0  6.699724e-13  \n",
       "4  6.615220e-12  1.0  6.699718e-13  \n",
       "5  0.000000e+00  1.0  6.615260e-12  \n",
       "6  2.089662e-12  0.0  7.396602e-14  \n",
       "7  1.000000e+00  1.0  0.000000e+00  "
      ]
     },
     "execution_count": 443,
     "metadata": {},
     "output_type": "execute_result"
    }
   ],
   "source": [
    "pd.DataFrame(details_hillside['x'])"
   ]
  },
  {
   "cell_type": "code",
   "execution_count": 444,
   "metadata": {},
   "outputs": [
    {
     "data": {
      "text/html": [
       "<div>\n",
       "<style scoped>\n",
       "    .dataframe tbody tr th:only-of-type {\n",
       "        vertical-align: middle;\n",
       "    }\n",
       "\n",
       "    .dataframe tbody tr th {\n",
       "        vertical-align: top;\n",
       "    }\n",
       "\n",
       "    .dataframe thead th {\n",
       "        text-align: right;\n",
       "    }\n",
       "</style>\n",
       "<table border=\"1\" class=\"dataframe\">\n",
       "  <thead>\n",
       "    <tr style=\"text-align: right;\">\n",
       "      <th></th>\n",
       "      <th>0</th>\n",
       "      <th>1</th>\n",
       "      <th>2</th>\n",
       "      <th>3</th>\n",
       "      <th>4</th>\n",
       "      <th>5</th>\n",
       "      <th>6</th>\n",
       "      <th>7</th>\n",
       "    </tr>\n",
       "  </thead>\n",
       "  <tbody>\n",
       "    <tr>\n",
       "      <th>0</th>\n",
       "      <td>0.0</td>\n",
       "      <td>1.0</td>\n",
       "      <td>1.0</td>\n",
       "      <td>1.0</td>\n",
       "      <td>1.0</td>\n",
       "      <td>1.0</td>\n",
       "      <td>1.0</td>\n",
       "      <td>1.0</td>\n",
       "    </tr>\n",
       "    <tr>\n",
       "      <th>1</th>\n",
       "      <td>0.0</td>\n",
       "      <td>0.0</td>\n",
       "      <td>1.0</td>\n",
       "      <td>1.0</td>\n",
       "      <td>1.0</td>\n",
       "      <td>1.0</td>\n",
       "      <td>1.0</td>\n",
       "      <td>0.5</td>\n",
       "    </tr>\n",
       "    <tr>\n",
       "      <th>2</th>\n",
       "      <td>0.0</td>\n",
       "      <td>0.0</td>\n",
       "      <td>0.0</td>\n",
       "      <td>1.0</td>\n",
       "      <td>1.0</td>\n",
       "      <td>0.5</td>\n",
       "      <td>1.0</td>\n",
       "      <td>0.0</td>\n",
       "    </tr>\n",
       "    <tr>\n",
       "      <th>3</th>\n",
       "      <td>0.0</td>\n",
       "      <td>0.0</td>\n",
       "      <td>0.0</td>\n",
       "      <td>0.0</td>\n",
       "      <td>0.5</td>\n",
       "      <td>0.0</td>\n",
       "      <td>1.0</td>\n",
       "      <td>0.0</td>\n",
       "    </tr>\n",
       "    <tr>\n",
       "      <th>4</th>\n",
       "      <td>0.0</td>\n",
       "      <td>0.0</td>\n",
       "      <td>0.0</td>\n",
       "      <td>0.5</td>\n",
       "      <td>0.0</td>\n",
       "      <td>0.0</td>\n",
       "      <td>1.0</td>\n",
       "      <td>0.0</td>\n",
       "    </tr>\n",
       "    <tr>\n",
       "      <th>5</th>\n",
       "      <td>0.0</td>\n",
       "      <td>0.0</td>\n",
       "      <td>0.5</td>\n",
       "      <td>1.0</td>\n",
       "      <td>1.0</td>\n",
       "      <td>0.0</td>\n",
       "      <td>1.0</td>\n",
       "      <td>0.0</td>\n",
       "    </tr>\n",
       "    <tr>\n",
       "      <th>6</th>\n",
       "      <td>0.0</td>\n",
       "      <td>0.0</td>\n",
       "      <td>0.0</td>\n",
       "      <td>0.0</td>\n",
       "      <td>0.0</td>\n",
       "      <td>0.0</td>\n",
       "      <td>0.0</td>\n",
       "      <td>0.0</td>\n",
       "    </tr>\n",
       "    <tr>\n",
       "      <th>7</th>\n",
       "      <td>0.0</td>\n",
       "      <td>0.5</td>\n",
       "      <td>1.0</td>\n",
       "      <td>1.0</td>\n",
       "      <td>1.0</td>\n",
       "      <td>1.0</td>\n",
       "      <td>1.0</td>\n",
       "      <td>0.0</td>\n",
       "    </tr>\n",
       "  </tbody>\n",
       "</table>\n",
       "</div>"
      ],
      "text/plain": [
       "     0    1    2    3    4    5    6    7\n",
       "0  0.0  1.0  1.0  1.0  1.0  1.0  1.0  1.0\n",
       "1  0.0  0.0  1.0  1.0  1.0  1.0  1.0  0.5\n",
       "2  0.0  0.0  0.0  1.0  1.0  0.5  1.0  0.0\n",
       "3  0.0  0.0  0.0  0.0  0.5  0.0  1.0  0.0\n",
       "4  0.0  0.0  0.0  0.5  0.0  0.0  1.0  0.0\n",
       "5  0.0  0.0  0.5  1.0  1.0  0.0  1.0  0.0\n",
       "6  0.0  0.0  0.0  0.0  0.0  0.0  0.0  0.0\n",
       "7  0.0  0.5  1.0  1.0  1.0  1.0  1.0  0.0"
      ]
     },
     "execution_count": 444,
     "metadata": {},
     "output_type": "execute_result"
    }
   ],
   "source": [
    "pd.DataFrame(pyrankability.common.threshold_x(details_hillside['x']))"
   ]
  },
  {
   "cell_type": "code",
   "execution_count": 445,
   "metadata": {},
   "outputs": [
    {
     "data": {
      "text/plain": [
       "array([54., 56., 58.])"
      ]
     },
     "execution_count": 445,
     "metadata": {},
     "output_type": "execute_result"
    }
   ],
   "source": [
    "np.unique(objs)"
   ]
  },
  {
   "cell_type": "code",
   "execution_count": 446,
   "metadata": {},
   "outputs": [
    {
     "data": {
      "text/plain": [
       "[0, 2, 4]"
      ]
     },
     "execution_count": 446,
     "metadata": {},
     "output_type": "execute_result"
    }
   ],
   "source": [
    "errors"
   ]
  },
  {
   "cell_type": "code",
   "execution_count": 456,
   "metadata": {},
   "outputs": [
    {
     "data": {
      "text/html": [
       "<div>\n",
       "<style scoped>\n",
       "    .dataframe tbody tr th:only-of-type {\n",
       "        vertical-align: middle;\n",
       "    }\n",
       "\n",
       "    .dataframe tbody tr th {\n",
       "        vertical-align: top;\n",
       "    }\n",
       "\n",
       "    .dataframe thead th {\n",
       "        text-align: right;\n",
       "    }\n",
       "</style>\n",
       "<table border=\"1\" class=\"dataframe\">\n",
       "  <thead>\n",
       "    <tr style=\"text-align: right;\">\n",
       "      <th></th>\n",
       "      <th>0</th>\n",
       "      <th>1</th>\n",
       "      <th>2</th>\n",
       "      <th>3</th>\n",
       "      <th>4</th>\n",
       "      <th>5</th>\n",
       "      <th>6</th>\n",
       "      <th>7</th>\n",
       "    </tr>\n",
       "  </thead>\n",
       "  <tbody>\n",
       "    <tr>\n",
       "      <th>0</th>\n",
       "      <td>1.000000</td>\n",
       "      <td>0.823529</td>\n",
       "      <td>1.000000</td>\n",
       "      <td>1.000000</td>\n",
       "      <td>1.000000</td>\n",
       "      <td>1.000000</td>\n",
       "      <td>1.000000</td>\n",
       "      <td>0.823529</td>\n",
       "    </tr>\n",
       "    <tr>\n",
       "      <th>1</th>\n",
       "      <td>0.176471</td>\n",
       "      <td>1.000000</td>\n",
       "      <td>0.882353</td>\n",
       "      <td>1.000000</td>\n",
       "      <td>1.000000</td>\n",
       "      <td>0.882353</td>\n",
       "      <td>1.000000</td>\n",
       "      <td>0.500000</td>\n",
       "    </tr>\n",
       "    <tr>\n",
       "      <th>2</th>\n",
       "      <td>0.000000</td>\n",
       "      <td>0.117647</td>\n",
       "      <td>1.000000</td>\n",
       "      <td>0.882353</td>\n",
       "      <td>0.882353</td>\n",
       "      <td>0.500000</td>\n",
       "      <td>1.000000</td>\n",
       "      <td>0.117647</td>\n",
       "    </tr>\n",
       "    <tr>\n",
       "      <th>3</th>\n",
       "      <td>0.000000</td>\n",
       "      <td>0.000000</td>\n",
       "      <td>0.117647</td>\n",
       "      <td>1.000000</td>\n",
       "      <td>0.500000</td>\n",
       "      <td>0.117647</td>\n",
       "      <td>0.823529</td>\n",
       "      <td>0.000000</td>\n",
       "    </tr>\n",
       "    <tr>\n",
       "      <th>4</th>\n",
       "      <td>0.000000</td>\n",
       "      <td>0.000000</td>\n",
       "      <td>0.117647</td>\n",
       "      <td>0.500000</td>\n",
       "      <td>1.000000</td>\n",
       "      <td>0.117647</td>\n",
       "      <td>0.823529</td>\n",
       "      <td>0.000000</td>\n",
       "    </tr>\n",
       "    <tr>\n",
       "      <th>5</th>\n",
       "      <td>0.000000</td>\n",
       "      <td>0.117647</td>\n",
       "      <td>0.500000</td>\n",
       "      <td>0.882353</td>\n",
       "      <td>0.882353</td>\n",
       "      <td>1.000000</td>\n",
       "      <td>1.000000</td>\n",
       "      <td>0.117647</td>\n",
       "    </tr>\n",
       "    <tr>\n",
       "      <th>6</th>\n",
       "      <td>0.000000</td>\n",
       "      <td>0.000000</td>\n",
       "      <td>0.000000</td>\n",
       "      <td>0.176471</td>\n",
       "      <td>0.176471</td>\n",
       "      <td>0.000000</td>\n",
       "      <td>1.000000</td>\n",
       "      <td>0.000000</td>\n",
       "    </tr>\n",
       "    <tr>\n",
       "      <th>7</th>\n",
       "      <td>0.176471</td>\n",
       "      <td>0.500000</td>\n",
       "      <td>0.882353</td>\n",
       "      <td>1.000000</td>\n",
       "      <td>1.000000</td>\n",
       "      <td>0.882353</td>\n",
       "      <td>1.000000</td>\n",
       "      <td>1.000000</td>\n",
       "    </tr>\n",
       "  </tbody>\n",
       "</table>\n",
       "</div>"
      ],
      "text/plain": [
       "          0         1         2         3         4         5         6  \\\n",
       "0  1.000000  0.823529  1.000000  1.000000  1.000000  1.000000  1.000000   \n",
       "1  0.176471  1.000000  0.882353  1.000000  1.000000  0.882353  1.000000   \n",
       "2  0.000000  0.117647  1.000000  0.882353  0.882353  0.500000  1.000000   \n",
       "3  0.000000  0.000000  0.117647  1.000000  0.500000  0.117647  0.823529   \n",
       "4  0.000000  0.000000  0.117647  0.500000  1.000000  0.117647  0.823529   \n",
       "5  0.000000  0.117647  0.500000  0.882353  0.882353  1.000000  1.000000   \n",
       "6  0.000000  0.000000  0.000000  0.176471  0.176471  0.000000  1.000000   \n",
       "7  0.176471  0.500000  0.882353  1.000000  1.000000  0.882353  1.000000   \n",
       "\n",
       "          7  \n",
       "0  0.823529  \n",
       "1  0.500000  \n",
       "2  0.117647  \n",
       "3  0.000000  \n",
       "4  0.000000  \n",
       "5  0.117647  \n",
       "6  0.000000  \n",
       "7  1.000000  "
      ]
     },
     "execution_count": 456,
     "metadata": {},
     "output_type": "execute_result"
    }
   ],
   "source": [
    "pd.DataFrame(xstar)"
   ]
  },
  {
   "cell_type": "code",
   "execution_count": 472,
   "metadata": {},
   "outputs": [
    {
     "name": "stdout",
     "output_type": "stream",
     "text": [
      "0\n",
      "2\n",
      "Fixing error to 2.000000\n",
      "4\n",
      "Fixing error to 4.000000\n"
     ]
    }
   ],
   "source": [
    "errors = [0,2,4]\n",
    "xstar = np.zeros((len(D),len(D)))\n",
    "for error in errors:\n",
    "    print(error)\n",
    "    k_hillside,details_hillside,models = pyrankability.rank.solve_error(D,max_error=error,min_error=error,method='hillside',cont=True)\n",
    "    #print(k_hillside)\n",
    "    xstar += details_hillside['x']\n",
    "xstar = xstar/len(list(errors))"
   ]
  },
  {
   "cell_type": "code",
   "execution_count": 473,
   "metadata": {},
   "outputs": [
    {
     "name": "stdout",
     "output_type": "stream",
     "text": [
      "Adding error varible\n"
     ]
    },
    {
     "ename": "GurobiError",
     "evalue": "Inequality constraints not supported",
     "output_type": "error",
     "traceback": [
      "\u001b[0;31m---------------------------------------------------------------------------\u001b[0m",
      "\u001b[0;31mGurobiError\u001b[0m                               Traceback (most recent call last)",
      "\u001b[0;32m<ipython-input-473-4bf2f9b00313>\u001b[0m in \u001b[0;36m<module>\u001b[0;34m\u001b[0m\n\u001b[0;32m----> 1\u001b[0;31m \u001b[0mk_hillside\u001b[0m\u001b[0;34m,\u001b[0m\u001b[0mdetails_hillside\u001b[0m\u001b[0;34m,\u001b[0m\u001b[0mmodels\u001b[0m \u001b[0;34m=\u001b[0m \u001b[0mpyrankability\u001b[0m\u001b[0;34m.\u001b[0m\u001b[0mrank\u001b[0m\u001b[0;34m.\u001b[0m\u001b[0msolve_error\u001b[0m\u001b[0;34m(\u001b[0m\u001b[0mD\u001b[0m\u001b[0;34m,\u001b[0m\u001b[0mmax_error\u001b[0m\u001b[0;34m=\u001b[0m\u001b[0;36m4\u001b[0m\u001b[0;34m,\u001b[0m\u001b[0mmin_error\u001b[0m\u001b[0;34m=\u001b[0m\u001b[0;36m0\u001b[0m\u001b[0;34m,\u001b[0m\u001b[0mmethod\u001b[0m\u001b[0;34m=\u001b[0m\u001b[0;34m'hillside'\u001b[0m\u001b[0;34m,\u001b[0m\u001b[0mcont\u001b[0m\u001b[0;34m=\u001b[0m\u001b[0;32mTrue\u001b[0m\u001b[0;34m)\u001b[0m\u001b[0;34m\u001b[0m\u001b[0;34m\u001b[0m\u001b[0m\n\u001b[0m",
      "\u001b[0;32m~/rankability_toolbox_dev/pyrankability/rank.py\u001b[0m in \u001b[0;36msolve_error\u001b[0;34m(D_orig, max_error, min_error, method, num_random_restarts, lazy, verbose, find_pair, cont)\u001b[0m\n\u001b[1;32m    407\u001b[0m                 \u001b[0mAP\u001b[0m\u001b[0;34m.\u001b[0m\u001b[0msetObjective\u001b[0m\u001b[0;34m(\u001b[0m\u001b[0mquicksum\u001b[0m\u001b[0;34m(\u001b[0m\u001b[0;34m(\u001b[0m\u001b[0mD\u001b[0m\u001b[0;34m[\u001b[0m\u001b[0mi\u001b[0m\u001b[0;34m,\u001b[0m\u001b[0mj\u001b[0m\u001b[0;34m]\u001b[0m\u001b[0;34m-\u001b[0m\u001b[0mD\u001b[0m\u001b[0;34m[\u001b[0m\u001b[0mj\u001b[0m\u001b[0;34m,\u001b[0m\u001b[0mi\u001b[0m\u001b[0;34m]\u001b[0m\u001b[0;34m)\u001b[0m\u001b[0;34m*\u001b[0m\u001b[0mx\u001b[0m\u001b[0;34m[\u001b[0m\u001b[0mi\u001b[0m\u001b[0;34m,\u001b[0m\u001b[0mj\u001b[0m\u001b[0;34m]\u001b[0m\u001b[0;34m+\u001b[0m\u001b[0mD\u001b[0m\u001b[0;34m[\u001b[0m\u001b[0mj\u001b[0m\u001b[0;34m,\u001b[0m\u001b[0mi\u001b[0m\u001b[0;34m]\u001b[0m \u001b[0;32mfor\u001b[0m \u001b[0mi\u001b[0m \u001b[0;32min\u001b[0m \u001b[0mrange\u001b[0m\u001b[0;34m(\u001b[0m\u001b[0mn\u001b[0m\u001b[0;34m-\u001b[0m\u001b[0;36m1\u001b[0m\u001b[0;34m)\u001b[0m \u001b[0;32mfor\u001b[0m \u001b[0mj\u001b[0m \u001b[0;32min\u001b[0m \u001b[0mrange\u001b[0m\u001b[0;34m(\u001b[0m\u001b[0mi\u001b[0m\u001b[0;34m+\u001b[0m\u001b[0;36m1\u001b[0m\u001b[0;34m,\u001b[0m\u001b[0mn\u001b[0m\u001b[0;34m)\u001b[0m\u001b[0;34m)\u001b[0m\u001b[0;34m,\u001b[0m\u001b[0mGRB\u001b[0m\u001b[0;34m.\u001b[0m\u001b[0mMAXIMIZE\u001b[0m\u001b[0;34m)\u001b[0m\u001b[0;34m\u001b[0m\u001b[0;34m\u001b[0m\u001b[0m\n\u001b[1;32m    408\u001b[0m             \u001b[0;32melif\u001b[0m \u001b[0mmethod\u001b[0m \u001b[0;34m==\u001b[0m \u001b[0;34m'hillside'\u001b[0m\u001b[0;34m:\u001b[0m\u001b[0;34m\u001b[0m\u001b[0;34m\u001b[0m\u001b[0m\n\u001b[0;32m--> 409\u001b[0;31m                 \u001b[0;32mif\u001b[0m \u001b[0merror\u001b[0m \u001b[0;34m!=\u001b[0m \u001b[0;36m0\u001b[0m\u001b[0;34m:\u001b[0m\u001b[0;34m\u001b[0m\u001b[0;34m\u001b[0m\u001b[0m\n\u001b[0m\u001b[1;32m    410\u001b[0m                     \u001b[0mAP\u001b[0m\u001b[0;34m.\u001b[0m\u001b[0msetObjective\u001b[0m\u001b[0;34m(\u001b[0m\u001b[0mquicksum\u001b[0m\u001b[0;34m(\u001b[0m\u001b[0;34m(\u001b[0m\u001b[0mc\u001b[0m\u001b[0;34m[\u001b[0m\u001b[0mi\u001b[0m\u001b[0;34m,\u001b[0m\u001b[0mj\u001b[0m\u001b[0;34m]\u001b[0m\u001b[0;34m-\u001b[0m\u001b[0mc\u001b[0m\u001b[0;34m[\u001b[0m\u001b[0mj\u001b[0m\u001b[0;34m,\u001b[0m\u001b[0mi\u001b[0m\u001b[0;34m]\u001b[0m\u001b[0;34m)\u001b[0m\u001b[0;34m*\u001b[0m\u001b[0mx\u001b[0m\u001b[0;34m[\u001b[0m\u001b[0mi\u001b[0m\u001b[0;34m,\u001b[0m\u001b[0mj\u001b[0m\u001b[0;34m]\u001b[0m\u001b[0;34m+\u001b[0m\u001b[0mc\u001b[0m\u001b[0;34m[\u001b[0m\u001b[0mj\u001b[0m\u001b[0;34m,\u001b[0m\u001b[0mi\u001b[0m\u001b[0;34m]\u001b[0m \u001b[0;32mfor\u001b[0m \u001b[0mi\u001b[0m \u001b[0;32min\u001b[0m \u001b[0mrange\u001b[0m\u001b[0;34m(\u001b[0m\u001b[0mn\u001b[0m\u001b[0;34m-\u001b[0m\u001b[0;36m1\u001b[0m\u001b[0;34m)\u001b[0m \u001b[0;32mfor\u001b[0m \u001b[0mj\u001b[0m \u001b[0;32min\u001b[0m \u001b[0mrange\u001b[0m\u001b[0;34m(\u001b[0m\u001b[0mi\u001b[0m\u001b[0;34m+\u001b[0m\u001b[0;36m1\u001b[0m\u001b[0;34m,\u001b[0m\u001b[0mn\u001b[0m\u001b[0;34m)\u001b[0m\u001b[0;34m)\u001b[0m\u001b[0;34m,\u001b[0m\u001b[0mGRB\u001b[0m\u001b[0;34m.\u001b[0m\u001b[0mMAXIMIZE\u001b[0m\u001b[0;34m)\u001b[0m\u001b[0;34m\u001b[0m\u001b[0;34m\u001b[0m\u001b[0m\n\u001b[1;32m    411\u001b[0m                 \u001b[0;32melse\u001b[0m\u001b[0;34m:\u001b[0m\u001b[0;34m\u001b[0m\u001b[0;34m\u001b[0m\u001b[0m\n",
      "\u001b[0;32mvar.pxi\u001b[0m in \u001b[0;36mgurobipy.Var.__ne__\u001b[0;34m()\u001b[0m\n",
      "\u001b[0;31mGurobiError\u001b[0m: Inequality constraints not supported"
     ]
    }
   ],
   "source": [
    "k_hillside,details_hillside,models = pyrankability.rank.solve_error(D,max_error=4,min_error=0,method='hillside',cont=True)"
   ]
  },
  {
   "cell_type": "code",
   "execution_count": 474,
   "metadata": {},
   "outputs": [
    {
     "data": {
      "text/html": [
       "<div>\n",
       "<style scoped>\n",
       "    .dataframe tbody tr th:only-of-type {\n",
       "        vertical-align: middle;\n",
       "    }\n",
       "\n",
       "    .dataframe tbody tr th {\n",
       "        vertical-align: top;\n",
       "    }\n",
       "\n",
       "    .dataframe thead th {\n",
       "        text-align: right;\n",
       "    }\n",
       "</style>\n",
       "<table border=\"1\" class=\"dataframe\">\n",
       "  <thead>\n",
       "    <tr style=\"text-align: right;\">\n",
       "      <th></th>\n",
       "      <th>0</th>\n",
       "      <th>1</th>\n",
       "      <th>2</th>\n",
       "      <th>3</th>\n",
       "      <th>4</th>\n",
       "      <th>5</th>\n",
       "      <th>6</th>\n",
       "      <th>7</th>\n",
       "    </tr>\n",
       "  </thead>\n",
       "  <tbody>\n",
       "    <tr>\n",
       "      <th>0</th>\n",
       "      <td>0.0</td>\n",
       "      <td>0.000000</td>\n",
       "      <td>0.000000</td>\n",
       "      <td>0.000000</td>\n",
       "      <td>0.000000</td>\n",
       "      <td>0.000000</td>\n",
       "      <td>0.0</td>\n",
       "      <td>0.000000</td>\n",
       "    </tr>\n",
       "    <tr>\n",
       "      <th>1</th>\n",
       "      <td>1.0</td>\n",
       "      <td>0.000000</td>\n",
       "      <td>0.000000</td>\n",
       "      <td>0.000000</td>\n",
       "      <td>0.000000</td>\n",
       "      <td>0.000000</td>\n",
       "      <td>0.0</td>\n",
       "      <td>0.520784</td>\n",
       "    </tr>\n",
       "    <tr>\n",
       "      <th>2</th>\n",
       "      <td>1.0</td>\n",
       "      <td>1.000000</td>\n",
       "      <td>0.000000</td>\n",
       "      <td>0.000000</td>\n",
       "      <td>0.000000</td>\n",
       "      <td>0.479185</td>\n",
       "      <td>0.0</td>\n",
       "      <td>1.000000</td>\n",
       "    </tr>\n",
       "    <tr>\n",
       "      <th>3</th>\n",
       "      <td>1.0</td>\n",
       "      <td>1.000000</td>\n",
       "      <td>1.000000</td>\n",
       "      <td>0.000000</td>\n",
       "      <td>0.451219</td>\n",
       "      <td>1.000000</td>\n",
       "      <td>0.0</td>\n",
       "      <td>1.000000</td>\n",
       "    </tr>\n",
       "    <tr>\n",
       "      <th>4</th>\n",
       "      <td>1.0</td>\n",
       "      <td>1.000000</td>\n",
       "      <td>1.000000</td>\n",
       "      <td>0.548781</td>\n",
       "      <td>0.000000</td>\n",
       "      <td>1.000000</td>\n",
       "      <td>0.0</td>\n",
       "      <td>1.000000</td>\n",
       "    </tr>\n",
       "    <tr>\n",
       "      <th>5</th>\n",
       "      <td>1.0</td>\n",
       "      <td>1.000000</td>\n",
       "      <td>0.520815</td>\n",
       "      <td>0.000000</td>\n",
       "      <td>0.000000</td>\n",
       "      <td>0.000000</td>\n",
       "      <td>0.0</td>\n",
       "      <td>1.000000</td>\n",
       "    </tr>\n",
       "    <tr>\n",
       "      <th>6</th>\n",
       "      <td>1.0</td>\n",
       "      <td>1.000000</td>\n",
       "      <td>1.000000</td>\n",
       "      <td>1.000000</td>\n",
       "      <td>1.000000</td>\n",
       "      <td>1.000000</td>\n",
       "      <td>0.0</td>\n",
       "      <td>1.000000</td>\n",
       "    </tr>\n",
       "    <tr>\n",
       "      <th>7</th>\n",
       "      <td>1.0</td>\n",
       "      <td>0.479216</td>\n",
       "      <td>0.000000</td>\n",
       "      <td>0.000000</td>\n",
       "      <td>0.000000</td>\n",
       "      <td>0.000000</td>\n",
       "      <td>0.0</td>\n",
       "      <td>0.000000</td>\n",
       "    </tr>\n",
       "  </tbody>\n",
       "</table>\n",
       "</div>"
      ],
      "text/plain": [
       "     0         1         2         3         4         5    6         7\n",
       "0  0.0  0.000000  0.000000  0.000000  0.000000  0.000000  0.0  0.000000\n",
       "1  1.0  0.000000  0.000000  0.000000  0.000000  0.000000  0.0  0.520784\n",
       "2  1.0  1.000000  0.000000  0.000000  0.000000  0.479185  0.0  1.000000\n",
       "3  1.0  1.000000  1.000000  0.000000  0.451219  1.000000  0.0  1.000000\n",
       "4  1.0  1.000000  1.000000  0.548781  0.000000  1.000000  0.0  1.000000\n",
       "5  1.0  1.000000  0.520815  0.000000  0.000000  0.000000  0.0  1.000000\n",
       "6  1.0  1.000000  1.000000  1.000000  1.000000  1.000000  0.0  1.000000\n",
       "7  1.0  0.479216  0.000000  0.000000  0.000000  0.000000  0.0  0.000000"
      ]
     },
     "execution_count": 474,
     "metadata": {},
     "output_type": "execute_result"
    }
   ],
   "source": [
    "pd.DataFrame(pyrankability.common.threshold_x(details_hillside['x']))"
   ]
  },
  {
   "cell_type": "code",
   "execution_count": 475,
   "metadata": {},
   "outputs": [
    {
     "data": {
      "text/html": [
       "<div>\n",
       "<style scoped>\n",
       "    .dataframe tbody tr th:only-of-type {\n",
       "        vertical-align: middle;\n",
       "    }\n",
       "\n",
       "    .dataframe tbody tr th {\n",
       "        vertical-align: top;\n",
       "    }\n",
       "\n",
       "    .dataframe thead th {\n",
       "        text-align: right;\n",
       "    }\n",
       "</style>\n",
       "<table border=\"1\" class=\"dataframe\">\n",
       "  <thead>\n",
       "    <tr style=\"text-align: right;\">\n",
       "      <th></th>\n",
       "      <th>0</th>\n",
       "      <th>1</th>\n",
       "      <th>2</th>\n",
       "      <th>3</th>\n",
       "      <th>4</th>\n",
       "      <th>5</th>\n",
       "      <th>6</th>\n",
       "      <th>7</th>\n",
       "    </tr>\n",
       "  </thead>\n",
       "  <tbody>\n",
       "    <tr>\n",
       "      <th>0</th>\n",
       "      <td>0.000000</td>\n",
       "      <td>0.333333</td>\n",
       "      <td>0.333333</td>\n",
       "      <td>0.333333</td>\n",
       "      <td>0.333333</td>\n",
       "      <td>0.333333</td>\n",
       "      <td>0.333333</td>\n",
       "      <td>0.333333</td>\n",
       "    </tr>\n",
       "    <tr>\n",
       "      <th>1</th>\n",
       "      <td>0.666667</td>\n",
       "      <td>0.000000</td>\n",
       "      <td>0.333333</td>\n",
       "      <td>0.333333</td>\n",
       "      <td>0.333333</td>\n",
       "      <td>0.333333</td>\n",
       "      <td>0.333333</td>\n",
       "      <td>0.513807</td>\n",
       "    </tr>\n",
       "    <tr>\n",
       "      <th>2</th>\n",
       "      <td>0.666667</td>\n",
       "      <td>0.666667</td>\n",
       "      <td>0.000000</td>\n",
       "      <td>0.333333</td>\n",
       "      <td>0.333333</td>\n",
       "      <td>0.486202</td>\n",
       "      <td>0.333333</td>\n",
       "      <td>0.666667</td>\n",
       "    </tr>\n",
       "    <tr>\n",
       "      <th>3</th>\n",
       "      <td>0.666667</td>\n",
       "      <td>0.666667</td>\n",
       "      <td>0.666667</td>\n",
       "      <td>0.000000</td>\n",
       "      <td>0.467670</td>\n",
       "      <td>0.666667</td>\n",
       "      <td>0.333333</td>\n",
       "      <td>0.666667</td>\n",
       "    </tr>\n",
       "    <tr>\n",
       "      <th>4</th>\n",
       "      <td>0.666667</td>\n",
       "      <td>0.666667</td>\n",
       "      <td>0.666667</td>\n",
       "      <td>0.532330</td>\n",
       "      <td>0.000000</td>\n",
       "      <td>0.666667</td>\n",
       "      <td>0.333333</td>\n",
       "      <td>0.666667</td>\n",
       "    </tr>\n",
       "    <tr>\n",
       "      <th>5</th>\n",
       "      <td>0.666667</td>\n",
       "      <td>0.666667</td>\n",
       "      <td>0.513798</td>\n",
       "      <td>0.333333</td>\n",
       "      <td>0.333333</td>\n",
       "      <td>0.000000</td>\n",
       "      <td>0.333333</td>\n",
       "      <td>0.666667</td>\n",
       "    </tr>\n",
       "    <tr>\n",
       "      <th>6</th>\n",
       "      <td>0.666667</td>\n",
       "      <td>0.666667</td>\n",
       "      <td>0.666667</td>\n",
       "      <td>0.666667</td>\n",
       "      <td>0.666667</td>\n",
       "      <td>0.666667</td>\n",
       "      <td>0.000000</td>\n",
       "      <td>0.666667</td>\n",
       "    </tr>\n",
       "    <tr>\n",
       "      <th>7</th>\n",
       "      <td>0.666667</td>\n",
       "      <td>0.486193</td>\n",
       "      <td>0.333333</td>\n",
       "      <td>0.333333</td>\n",
       "      <td>0.333333</td>\n",
       "      <td>0.333333</td>\n",
       "      <td>0.333333</td>\n",
       "      <td>0.000000</td>\n",
       "    </tr>\n",
       "  </tbody>\n",
       "</table>\n",
       "</div>"
      ],
      "text/plain": [
       "          0         1         2         3         4         5         6  \\\n",
       "0  0.000000  0.333333  0.333333  0.333333  0.333333  0.333333  0.333333   \n",
       "1  0.666667  0.000000  0.333333  0.333333  0.333333  0.333333  0.333333   \n",
       "2  0.666667  0.666667  0.000000  0.333333  0.333333  0.486202  0.333333   \n",
       "3  0.666667  0.666667  0.666667  0.000000  0.467670  0.666667  0.333333   \n",
       "4  0.666667  0.666667  0.666667  0.532330  0.000000  0.666667  0.333333   \n",
       "5  0.666667  0.666667  0.513798  0.333333  0.333333  0.000000  0.333333   \n",
       "6  0.666667  0.666667  0.666667  0.666667  0.666667  0.666667  0.000000   \n",
       "7  0.666667  0.486193  0.333333  0.333333  0.333333  0.333333  0.333333   \n",
       "\n",
       "          7  \n",
       "0  0.333333  \n",
       "1  0.513807  \n",
       "2  0.666667  \n",
       "3  0.666667  \n",
       "4  0.666667  \n",
       "5  0.666667  \n",
       "6  0.666667  \n",
       "7  0.000000  "
      ]
     },
     "execution_count": 475,
     "metadata": {},
     "output_type": "execute_result"
    }
   ],
   "source": [
    "pd.DataFrame(pyrankability.common.threshold_x(xstar))"
   ]
  },
  {
   "cell_type": "code",
   "execution_count": null,
   "metadata": {},
   "outputs": [],
   "source": [
    "k_hillside,details_hillside,models = pyrankability.rank.solve_error(D,max_error=error,min_error=error,method='hillside',cont=True)"
   ]
  },
  {
   "cell_type": "code",
   "execution_count": 419,
   "metadata": {},
   "outputs": [
    {
     "name": "stdout",
     "output_type": "stream",
     "text": [
      "Adding error varibles\n",
      "skipping this because of quadratic\n",
      "here\n"
     ]
    },
    {
     "ename": "GurobiError",
     "evalue": "Objective Q not PSD (diagonal adjustment of 2.0e+00 would be required)",
     "output_type": "error",
     "traceback": [
      "\u001b[0;31m---------------------------------------------------------------------------\u001b[0m",
      "\u001b[0;31mGurobiError\u001b[0m                               Traceback (most recent call last)",
      "\u001b[0;32m<ipython-input-419-7eb09439de70>\u001b[0m in \u001b[0;36m<module>\u001b[0;34m\u001b[0m\n\u001b[0;32m----> 1\u001b[0;31m \u001b[0mk_hillside\u001b[0m\u001b[0;34m,\u001b[0m\u001b[0mdetails_hillside\u001b[0m\u001b[0;34m,\u001b[0m\u001b[0mmodels\u001b[0m \u001b[0;34m=\u001b[0m \u001b[0mpyrankability\u001b[0m\u001b[0;34m.\u001b[0m\u001b[0mrank\u001b[0m\u001b[0;34m.\u001b[0m\u001b[0msolve_error2\u001b[0m\u001b[0;34m(\u001b[0m\u001b[0mD\u001b[0m\u001b[0;34m,\u001b[0m\u001b[0mmax_error\u001b[0m\u001b[0;34m=\u001b[0m\u001b[0;36m3\u001b[0m\u001b[0;34m,\u001b[0m\u001b[0mmin_error\u001b[0m\u001b[0;34m=\u001b[0m\u001b[0;36m0\u001b[0m\u001b[0;34m,\u001b[0m\u001b[0mmethod\u001b[0m\u001b[0;34m=\u001b[0m\u001b[0;34m'hillside'\u001b[0m\u001b[0;34m,\u001b[0m\u001b[0mcont\u001b[0m\u001b[0;34m=\u001b[0m\u001b[0;32mTrue\u001b[0m\u001b[0;34m)\u001b[0m\u001b[0;34m\u001b[0m\u001b[0;34m\u001b[0m\u001b[0m\n\u001b[0m",
      "\u001b[0;32m~/rankability_toolbox_dev/pyrankability/rank.py\u001b[0m in \u001b[0;36msolve_error2\u001b[0;34m(D_orig, max_error, min_error, method, num_random_restarts, lazy, verbose, find_pair, cont)\u001b[0m\n\u001b[1;32m    188\u001b[0m                 \u001b[0mAP\u001b[0m\u001b[0;34m.\u001b[0m\u001b[0mParams\u001b[0m\u001b[0;34m.\u001b[0m\u001b[0mCrossover\u001b[0m \u001b[0;34m=\u001b[0m \u001b[0;36m0\u001b[0m\u001b[0;34m\u001b[0m\u001b[0;34m\u001b[0m\u001b[0m\n\u001b[1;32m    189\u001b[0m                 \u001b[0mAP\u001b[0m\u001b[0;34m.\u001b[0m\u001b[0mupdate\u001b[0m\u001b[0;34m(\u001b[0m\u001b[0;34m)\u001b[0m\u001b[0;34m\u001b[0m\u001b[0;34m\u001b[0m\u001b[0m\n\u001b[0;32m--> 190\u001b[0;31m             \u001b[0mAP\u001b[0m\u001b[0;34m.\u001b[0m\u001b[0moptimize\u001b[0m\u001b[0;34m(\u001b[0m\u001b[0;34m)\u001b[0m\u001b[0;34m\u001b[0m\u001b[0;34m\u001b[0m\u001b[0m\n\u001b[0m\u001b[1;32m    191\u001b[0m \u001b[0;34m\u001b[0m\u001b[0m\n\u001b[1;32m    192\u001b[0m             \u001b[0mtoc\u001b[0m \u001b[0;34m=\u001b[0m \u001b[0mtime\u001b[0m\u001b[0;34m.\u001b[0m\u001b[0mperf_counter\u001b[0m\u001b[0;34m(\u001b[0m\u001b[0;34m)\u001b[0m\u001b[0;34m\u001b[0m\u001b[0;34m\u001b[0m\u001b[0m\n",
      "\u001b[0;32mmodel.pxi\u001b[0m in \u001b[0;36mgurobipy.Model.optimize\u001b[0;34m()\u001b[0m\n",
      "\u001b[0;31mGurobiError\u001b[0m: Objective Q not PSD (diagonal adjustment of 2.0e+00 would be required)"
     ]
    }
   ],
   "source": [
    "k_hillside,details_hillside,models = pyrankability.rank.solve_error2(D,max_error=3,min_error=0,method='hillside',cont=True)"
   ]
  },
  {
   "cell_type": "code",
   "execution_count": 335,
   "metadata": {},
   "outputs": [
    {
     "data": {
      "text/plain": [
       "54.0"
      ]
     },
     "execution_count": 335,
     "metadata": {},
     "output_type": "execute_result"
    }
   ],
   "source": [
    "k_hillside"
   ]
  },
  {
   "cell_type": "code",
   "execution_count": 334,
   "metadata": {},
   "outputs": [
    {
     "data": {
      "text/html": [
       "<div>\n",
       "<style scoped>\n",
       "    .dataframe tbody tr th:only-of-type {\n",
       "        vertical-align: middle;\n",
       "    }\n",
       "\n",
       "    .dataframe tbody tr th {\n",
       "        vertical-align: top;\n",
       "    }\n",
       "\n",
       "    .dataframe thead th {\n",
       "        text-align: right;\n",
       "    }\n",
       "</style>\n",
       "<table border=\"1\" class=\"dataframe\">\n",
       "  <thead>\n",
       "    <tr style=\"text-align: right;\">\n",
       "      <th></th>\n",
       "      <th>0</th>\n",
       "      <th>1</th>\n",
       "      <th>2</th>\n",
       "      <th>3</th>\n",
       "      <th>4</th>\n",
       "      <th>5</th>\n",
       "      <th>6</th>\n",
       "      <th>7</th>\n",
       "    </tr>\n",
       "  </thead>\n",
       "  <tbody>\n",
       "    <tr>\n",
       "      <th>0</th>\n",
       "      <td>0.0</td>\n",
       "      <td>1.0</td>\n",
       "      <td>1.0</td>\n",
       "      <td>1.0</td>\n",
       "      <td>1.0</td>\n",
       "      <td>1.0</td>\n",
       "      <td>1.0</td>\n",
       "      <td>1.0</td>\n",
       "    </tr>\n",
       "    <tr>\n",
       "      <th>1</th>\n",
       "      <td>0.0</td>\n",
       "      <td>0.0</td>\n",
       "      <td>1.0</td>\n",
       "      <td>1.0</td>\n",
       "      <td>1.0</td>\n",
       "      <td>1.0</td>\n",
       "      <td>1.0</td>\n",
       "      <td>0.0</td>\n",
       "    </tr>\n",
       "    <tr>\n",
       "      <th>2</th>\n",
       "      <td>0.0</td>\n",
       "      <td>0.0</td>\n",
       "      <td>0.0</td>\n",
       "      <td>1.0</td>\n",
       "      <td>1.0</td>\n",
       "      <td>0.0</td>\n",
       "      <td>1.0</td>\n",
       "      <td>0.0</td>\n",
       "    </tr>\n",
       "    <tr>\n",
       "      <th>3</th>\n",
       "      <td>0.0</td>\n",
       "      <td>0.0</td>\n",
       "      <td>0.0</td>\n",
       "      <td>0.0</td>\n",
       "      <td>0.0</td>\n",
       "      <td>0.0</td>\n",
       "      <td>1.0</td>\n",
       "      <td>0.0</td>\n",
       "    </tr>\n",
       "    <tr>\n",
       "      <th>4</th>\n",
       "      <td>0.0</td>\n",
       "      <td>0.0</td>\n",
       "      <td>0.0</td>\n",
       "      <td>1.0</td>\n",
       "      <td>0.0</td>\n",
       "      <td>0.0</td>\n",
       "      <td>1.0</td>\n",
       "      <td>0.0</td>\n",
       "    </tr>\n",
       "    <tr>\n",
       "      <th>5</th>\n",
       "      <td>0.0</td>\n",
       "      <td>0.0</td>\n",
       "      <td>1.0</td>\n",
       "      <td>1.0</td>\n",
       "      <td>1.0</td>\n",
       "      <td>0.0</td>\n",
       "      <td>1.0</td>\n",
       "      <td>0.0</td>\n",
       "    </tr>\n",
       "    <tr>\n",
       "      <th>6</th>\n",
       "      <td>0.0</td>\n",
       "      <td>0.0</td>\n",
       "      <td>0.0</td>\n",
       "      <td>0.0</td>\n",
       "      <td>0.0</td>\n",
       "      <td>0.0</td>\n",
       "      <td>0.0</td>\n",
       "      <td>0.0</td>\n",
       "    </tr>\n",
       "    <tr>\n",
       "      <th>7</th>\n",
       "      <td>0.0</td>\n",
       "      <td>1.0</td>\n",
       "      <td>1.0</td>\n",
       "      <td>1.0</td>\n",
       "      <td>1.0</td>\n",
       "      <td>1.0</td>\n",
       "      <td>1.0</td>\n",
       "      <td>0.0</td>\n",
       "    </tr>\n",
       "  </tbody>\n",
       "</table>\n",
       "</div>"
      ],
      "text/plain": [
       "     0    1    2    3    4    5    6    7\n",
       "0  0.0  1.0  1.0  1.0  1.0  1.0  1.0  1.0\n",
       "1  0.0  0.0  1.0  1.0  1.0  1.0  1.0  0.0\n",
       "2  0.0  0.0  0.0  1.0  1.0  0.0  1.0  0.0\n",
       "3  0.0  0.0  0.0  0.0  0.0  0.0  1.0  0.0\n",
       "4  0.0  0.0  0.0  1.0  0.0  0.0  1.0  0.0\n",
       "5  0.0  0.0  1.0  1.0  1.0  0.0  1.0  0.0\n",
       "6  0.0  0.0  0.0  0.0  0.0  0.0  0.0  0.0\n",
       "7  0.0  1.0  1.0  1.0  1.0  1.0  1.0  0.0"
      ]
     },
     "execution_count": 334,
     "metadata": {},
     "output_type": "execute_result"
    }
   ],
   "source": [
    "pd.DataFrame(pyrankability.common.threshold_x(details_hillside['x']))"
   ]
  },
  {
   "cell_type": "code",
   "execution_count": 288,
   "metadata": {},
   "outputs": [
    {
     "data": {
      "text/plain": [
       "array([[0.00000000e+00, 1.00000000e+00, 1.00000000e+00, 1.00000000e+00,\n",
       "        1.00000000e+00, 1.00000000e+00, 1.00000000e+00, 1.00000000e+00],\n",
       "       [3.52285978e-11, 0.00000000e+00, 1.00000000e+00, 1.00000000e+00,\n",
       "        1.00000000e+00, 1.00000000e+00, 1.00000000e+00, 5.00000000e-01],\n",
       "       [2.98128189e-12, 2.08730810e-11, 0.00000000e+00, 1.00000000e+00,\n",
       "        1.00000000e+00, 5.00000000e-01, 1.00000000e+00, 2.08730365e-11],\n",
       "       [3.16746629e-13, 7.98361377e-13, 2.08730810e-11, 0.00000000e+00,\n",
       "        5.00000000e-01, 2.08730715e-11, 1.00000000e+00, 7.98387428e-13],\n",
       "       [3.16635607e-13, 7.98361377e-13, 2.08730810e-11, 5.00000000e-01,\n",
       "        0.00000000e+00, 2.08730555e-11, 1.00000000e+00, 7.98387119e-13],\n",
       "       [2.98117087e-12, 2.08729700e-11, 5.00000000e-01, 1.00000000e+00,\n",
       "        1.00000000e+00, 0.00000000e+00, 1.00000000e+00, 2.08730150e-11],\n",
       "       [4.88498131e-14, 3.16635607e-13, 2.98128189e-12, 3.52285978e-11,\n",
       "        3.52285978e-11, 2.98128189e-12, 0.00000000e+00, 3.16664109e-13],\n",
       "       [3.52285978e-11, 5.00000000e-01, 1.00000000e+00, 1.00000000e+00,\n",
       "        1.00000000e+00, 1.00000000e+00, 1.00000000e+00, 0.00000000e+00]])"
      ]
     },
     "execution_count": 288,
     "metadata": {},
     "output_type": "execute_result"
    }
   ],
   "source": [
    "details_hillside['x']"
   ]
  },
  {
   "cell_type": "code",
   "execution_count": 84,
   "metadata": {},
   "outputs": [
    {
     "data": {
      "text/plain": [
       "<gurobi.Model MIP instance hillside: 112 constrs, 29 vars, Parameter changes: LogFile=gurobi.log, CSIdleTimeout=1800, OutputFlag=0>"
      ]
     },
     "execution_count": 84,
     "metadata": {},
     "output_type": "execute_result"
    }
   ],
   "source": [
    "models[\"zero_error_models\"]['error_models'][0]"
   ]
  },
  {
   "cell_type": "code",
   "execution_count": 85,
   "metadata": {},
   "outputs": [
    {
     "data": {
      "text/plain": [
       "'/tmp/tmpfrlz0346/model.mps'"
      ]
     },
     "execution_count": 85,
     "metadata": {},
     "output_type": "execute_result"
    }
   ],
   "source": [
    "model_file = pyrankability.common.write_model(models[\"zero_error_models\"]['error_models'][0])\n",
    "model_file"
   ]
  },
  {
   "cell_type": "code",
   "execution_count": 86,
   "metadata": {},
   "outputs": [
    {
     "data": {
      "text/plain": [
       "<gurobi.Model MIP instance hillside: 114 constrs, 29 vars, Parameter changes: LogFile=gurobi.log, CSIdleTimeout=1800, OutputFlag=0>"
      ]
     },
     "execution_count": 86,
     "metadata": {},
     "output_type": "execute_result"
    }
   ],
   "source": [
    "models[\"error_models\"][0]"
   ]
  },
  {
   "cell_type": "code",
   "execution_count": 87,
   "metadata": {},
   "outputs": [
    {
     "data": {
      "text/plain": [
       "'/tmp/tmp0n6ryv1d/model.mps'"
      ]
     },
     "execution_count": 87,
     "metadata": {},
     "output_type": "execute_result"
    }
   ],
   "source": [
    "model_file = pyrankability.common.write_model(models[\"error_models\"][0])\n",
    "model_file"
   ]
  },
  {
   "cell_type": "code",
   "execution_count": 89,
   "metadata": {},
   "outputs": [],
   "source": [
    "solution_file = model_file + \".solutions\""
   ]
  },
  {
   "cell_type": "code",
   "execution_count": 91,
   "metadata": {},
   "outputs": [
    {
     "name": "stdout",
     "output_type": "stream",
     "text": [
      "Model file: /tmp/tmp0n6ryv1d/model.mps\n",
      "Solutions file: /tmp/tmp0n6ryv1d/model.mps.solutions\n",
      "SCIP version 7.0.0 [precision: 8 byte] [memory: block] [mode: optimized] [LP solver: SoPlex 5.0.0] [GitHash: 0bc4dc9c65]\n",
      "Copyright (C) 2002-2020 Konrad-Zuse-Zentrum fuer Informationstechnik Berlin (ZIB)\n",
      "\n",
      "External codes: \n",
      "  SoPlex 5.0.0         Linear Programming Solver developed at Zuse Institute Berlin (soplex.zib.de) [GitHash: 6535a3c8]\n",
      "  CppAD 20180000.0     Algorithmic Differentiation of C++ algorithms developed by B. Bell (www.coin-or.org/CppAD)\n",
      "  ZLIB 1.2.11          General purpose compression library by J. Gailly and M. Adler (zlib.net)\n",
      "  GMP 6.1.2            GNU Multiple Precision Arithmetic Library developed by T. Granlund (gmplib.org)\n",
      "  ZIMPL 3.3.9          Zuse Institute Mathematical Programming Language developed by T. Koch (zimpl.zib.de)\n",
      "  PaPILO 1.0.0         parallel presolve for integer and linear optimization (https://github.com/lgottwald/PaPILO) [GitHash: 471d13d]\n",
      "  bliss 0.73p          Computing Graph Automorphism Groups by T. Junttila and P. Kaski (http://www.tcs.hut.fi/Software/bliss/)\n",
      "  Ipopt 3.12.13        Interior Point Optimizer developed by A. Waechter et.al. (www.coin-or.org/Ipopt)\n",
      "\n",
      "user parameter file <scip.set> not found - using default parameters\n",
      "\n",
      "SCIP> \n",
      "read problem </tmp/tmp0n6ryv1d/model.mps>\n",
      "============\n",
      "\n",
      "original problem has 29 variables (28 bin, 0 int, 0 impl, 1 cont) and 115 constraints\n",
      "SCIP> presolving/maxrounds = 0\n",
      "SCIP> constraints/countsols/sollimit = 500000\n",
      "SCIP> constraints/countsols/collect = TRUE\n",
      "SCIP> \n",
      "presolving:\n",
      "presolving (0 rounds: 0 fast, 0 medium, 0 exhaustive):\n",
      " 0 deleted vars, 0 deleted constraints, 0 added constraints, 0 tightened bounds, 0 added holes, 0 changed sides, 0 changed coefficients\n",
      " 0 implications, 0 cliques\n",
      "presolved problem has 29 variables (28 bin, 0 int, 0 impl, 1 cont) and 115 constraints\n",
      "    115 constraints of type <linear>\n",
      "Presolving Time: 0.00\n",
      "\n",
      " time | node  | left  |LP iter|LP it/n|mem/heur|mdpt |frac |vars |cons |cols |rows |cuts |confs|strbr|  dualbound   | compl. | sols  |feasST\n",
      "  0.0s|     1 |     0 |     1 |     - |   920k |   0 |   0 |  29 |  84 |  29 |  84 |   0 |   2 |   0 | 5.400000e+01 | unknown|     0 |    0 \n",
      "  0.0s|     1 |     2 |     1 |     - |   921k |   0 |   0 |  29 |  84 |  29 |  84 |   0 |   2 |   0 | 5.400000e+01 | unknown|     0 |    0 \n",
      "  0.0s|   100 |    13 |     7 |   0.1 |  1108k |  17 |   0 |  29 |  60 |  29 | 100 |   0 |   6 |   0 | 5.400000e+01 |  86.98%|    80 |   23 \n",
      "\n",
      "SCIP Status        : problem is solved [infeasible]\n",
      "Solving Time (sec) : 0.03\n",
      "Solving Nodes      : 157\n",
      "Primal Bound       : +1.00000000000000e+20 (0 solutions)\n",
      "Dual Bound         : +1.00000000000000e+20\n",
      "Gap                : 0.00 %\n",
      "Feasible Solutions : 136 (39 non-trivial feasible subtrees)\n",
      "\n",
      "SCIP> saving 136 (71) feasible solutions\n",
      "written solutions information to file </tmp/tmp0n6ryv1d/model.mps.solutions>\n",
      "SCIP> "
     ]
    },
    {
     "name": "stderr",
     "output_type": "stream",
     "text": [
      "WARNING: counting forces parameter <presolving/maxrestarts> to 0.\n",
      "WARNING: Symmetry handling has been deactivated since it is not compatible with counting.\n",
      "WARNING: => counting forces parameter <misc/usesymmetry> to 0.\n",
      "WARNING: a solution comes in over <SCIP_DECL_CONSCHECK(consCheckCountsols)>; currently these solutions are ignored.\n"
     ]
    }
   ],
   "source": [
    "%%bash -s \"$model_file\" \"$solution_file\"\n",
    "./collect.sh $1 $2"
   ]
  },
  {
   "cell_type": "code",
   "execution_count": 136,
   "metadata": {},
   "outputs": [
    {
     "name": "stderr",
     "output_type": "stream",
     "text": [
      "/data/env/lib/python3.6/site-packages/ipykernel_launcher.py:1: ParserWarning: Falling back to the 'python' engine because the 'c' engine does not support regex separators (separators > 1 char and different from '\\s+' are interpreted as regex); you can avoid this warning by specifying engine='python'.\n",
      "  \"\"\"Entry point for launching an IPython kernel.\n"
     ]
    },
    {
     "data": {
      "text/html": [
       "<div>\n",
       "<style scoped>\n",
       "    .dataframe tbody tr th:only-of-type {\n",
       "        vertical-align: middle;\n",
       "    }\n",
       "\n",
       "    .dataframe tbody tr th {\n",
       "        vertical-align: top;\n",
       "    }\n",
       "\n",
       "    .dataframe thead th {\n",
       "        text-align: right;\n",
       "    }\n",
       "</style>\n",
       "<table border=\"1\" class=\"dataframe\">\n",
       "  <thead>\n",
       "    <tr style=\"text-align: right;\">\n",
       "      <th></th>\n",
       "      <th>0</th>\n",
       "      <th>1</th>\n",
       "      <th>2</th>\n",
       "      <th>3</th>\n",
       "      <th>4</th>\n",
       "      <th>5</th>\n",
       "      <th>6</th>\n",
       "      <th>7</th>\n",
       "    </tr>\n",
       "  </thead>\n",
       "  <tbody>\n",
       "    <tr>\n",
       "      <th>0</th>\n",
       "      <td>0.000000</td>\n",
       "      <td>0.823529</td>\n",
       "      <td>1.000000</td>\n",
       "      <td>1.000000</td>\n",
       "      <td>1.000000</td>\n",
       "      <td>1.000000</td>\n",
       "      <td>1.000000</td>\n",
       "      <td>0.823529</td>\n",
       "    </tr>\n",
       "    <tr>\n",
       "      <th>1</th>\n",
       "      <td>0.176471</td>\n",
       "      <td>0.000000</td>\n",
       "      <td>0.882353</td>\n",
       "      <td>1.000000</td>\n",
       "      <td>1.000000</td>\n",
       "      <td>0.882353</td>\n",
       "      <td>1.000000</td>\n",
       "      <td>0.500000</td>\n",
       "    </tr>\n",
       "    <tr>\n",
       "      <th>2</th>\n",
       "      <td>0.000000</td>\n",
       "      <td>0.117647</td>\n",
       "      <td>0.000000</td>\n",
       "      <td>0.882353</td>\n",
       "      <td>0.882353</td>\n",
       "      <td>0.500000</td>\n",
       "      <td>1.000000</td>\n",
       "      <td>0.117647</td>\n",
       "    </tr>\n",
       "    <tr>\n",
       "      <th>3</th>\n",
       "      <td>0.000000</td>\n",
       "      <td>0.000000</td>\n",
       "      <td>0.117647</td>\n",
       "      <td>0.000000</td>\n",
       "      <td>0.500000</td>\n",
       "      <td>0.117647</td>\n",
       "      <td>0.823529</td>\n",
       "      <td>0.000000</td>\n",
       "    </tr>\n",
       "    <tr>\n",
       "      <th>4</th>\n",
       "      <td>0.000000</td>\n",
       "      <td>0.000000</td>\n",
       "      <td>0.117647</td>\n",
       "      <td>0.500000</td>\n",
       "      <td>0.000000</td>\n",
       "      <td>0.117647</td>\n",
       "      <td>0.823529</td>\n",
       "      <td>0.000000</td>\n",
       "    </tr>\n",
       "    <tr>\n",
       "      <th>5</th>\n",
       "      <td>0.000000</td>\n",
       "      <td>0.117647</td>\n",
       "      <td>0.500000</td>\n",
       "      <td>0.882353</td>\n",
       "      <td>0.882353</td>\n",
       "      <td>0.000000</td>\n",
       "      <td>1.000000</td>\n",
       "      <td>0.117647</td>\n",
       "    </tr>\n",
       "    <tr>\n",
       "      <th>6</th>\n",
       "      <td>0.000000</td>\n",
       "      <td>0.000000</td>\n",
       "      <td>0.000000</td>\n",
       "      <td>0.176471</td>\n",
       "      <td>0.176471</td>\n",
       "      <td>0.000000</td>\n",
       "      <td>0.000000</td>\n",
       "      <td>0.000000</td>\n",
       "    </tr>\n",
       "    <tr>\n",
       "      <th>7</th>\n",
       "      <td>0.176471</td>\n",
       "      <td>0.500000</td>\n",
       "      <td>0.882353</td>\n",
       "      <td>1.000000</td>\n",
       "      <td>1.000000</td>\n",
       "      <td>0.882353</td>\n",
       "      <td>1.000000</td>\n",
       "      <td>0.000000</td>\n",
       "    </tr>\n",
       "  </tbody>\n",
       "</table>\n",
       "</div>"
      ],
      "text/plain": [
       "          0         1         2         3         4         5         6  \\\n",
       "0  0.000000  0.823529  1.000000  1.000000  1.000000  1.000000  1.000000   \n",
       "1  0.176471  0.000000  0.882353  1.000000  1.000000  0.882353  1.000000   \n",
       "2  0.000000  0.117647  0.000000  0.882353  0.882353  0.500000  1.000000   \n",
       "3  0.000000  0.000000  0.117647  0.000000  0.500000  0.117647  0.823529   \n",
       "4  0.000000  0.000000  0.117647  0.500000  0.000000  0.117647  0.823529   \n",
       "5  0.000000  0.117647  0.500000  0.882353  0.882353  0.000000  1.000000   \n",
       "6  0.000000  0.000000  0.000000  0.176471  0.176471  0.000000  0.000000   \n",
       "7  0.176471  0.500000  0.882353  1.000000  1.000000  0.882353  1.000000   \n",
       "\n",
       "          7  \n",
       "0  0.823529  \n",
       "1  0.500000  \n",
       "2  0.117647  \n",
       "3  0.000000  \n",
       "4  0.000000  \n",
       "5  0.117647  \n",
       "6  0.000000  \n",
       "7  0.000000  "
      ]
     },
     "execution_count": 136,
     "metadata": {},
     "output_type": "execute_result"
    }
   ],
   "source": [
    "solutions = pd.read_csv(solution_file,sep=', ')\n",
    "x_columns = solutions.columns[1:-1]\n",
    "xs = []\n",
    "a,b,c = 1,1,-2*len(x_columns)\n",
    "n = int((-b + np.sqrt(b**2 - 4*a*c))/(2*a) + 1)\n",
    "xstar = np.zeros((n,n))\n",
    "C = pyrankability.common.compute_C(D)\n",
    "opt_k = k_hillside\n",
    "objs = []\n",
    "s = 0\n",
    "for k in range(solutions.shape[0]):\n",
    "    x = np.zeros((n,n))\n",
    "    for c in x_columns:\n",
    "        ij_str = c.replace(\"x(\",\"\").replace(\")\",\"\")\n",
    "        i,j = ij_str.split(\",\")\n",
    "        i,j = int(i),int(j)\n",
    "        x[i,j] = solutions.loc[k,c]\n",
    "        x[j,i] = 1 - x[i,j]\n",
    "    obj = np.sum(C*x)\n",
    "    xs.append(x)\n",
    "    objs.append(obj)\n",
    "    error = obj - opt_k\n",
    "    xstar += x\n",
    "xstar = xstar/solutions.shape[0]\n",
    "pd.DataFrame(xstar)"
   ]
  },
  {
   "cell_type": "code",
   "execution_count": 161,
   "metadata": {},
   "outputs": [
    {
     "data": {
      "text/html": [
       "<div>\n",
       "<style scoped>\n",
       "    .dataframe tbody tr th:only-of-type {\n",
       "        vertical-align: middle;\n",
       "    }\n",
       "\n",
       "    .dataframe tbody tr th {\n",
       "        vertical-align: top;\n",
       "    }\n",
       "\n",
       "    .dataframe thead th {\n",
       "        text-align: right;\n",
       "    }\n",
       "</style>\n",
       "<table border=\"1\" class=\"dataframe\">\n",
       "  <thead>\n",
       "    <tr style=\"text-align: right;\">\n",
       "      <th></th>\n",
       "      <th>#</th>\n",
       "      <th>x(6,7)</th>\n",
       "      <th>x(5,6)</th>\n",
       "      <th>x(4,7)</th>\n",
       "      <th>x(4,6)</th>\n",
       "      <th>x(4,5)</th>\n",
       "      <th>x(3,7)</th>\n",
       "      <th>x(3,6)</th>\n",
       "      <th>x(3,5)</th>\n",
       "      <th>x(3,4)</th>\n",
       "      <th>...</th>\n",
       "      <th>x(1,2)</th>\n",
       "      <th>x(0,7)</th>\n",
       "      <th>x(0,6)</th>\n",
       "      <th>x(0,5)</th>\n",
       "      <th>x(0,4)</th>\n",
       "      <th>x(0,3)</th>\n",
       "      <th>x(0,2)</th>\n",
       "      <th>x(0,1)</th>\n",
       "      <th>x(5,7)</th>\n",
       "      <th>objval</th>\n",
       "    </tr>\n",
       "  </thead>\n",
       "  <tbody>\n",
       "    <tr>\n",
       "      <th>0</th>\n",
       "      <td>1(1)</td>\n",
       "      <td>0</td>\n",
       "      <td>1</td>\n",
       "      <td>0</td>\n",
       "      <td>0</td>\n",
       "      <td>0</td>\n",
       "      <td>0</td>\n",
       "      <td>0</td>\n",
       "      <td>0</td>\n",
       "      <td>0</td>\n",
       "      <td>...</td>\n",
       "      <td>1</td>\n",
       "      <td>1</td>\n",
       "      <td>1</td>\n",
       "      <td>1</td>\n",
       "      <td>1</td>\n",
       "      <td>1</td>\n",
       "      <td>1</td>\n",
       "      <td>1</td>\n",
       "      <td>0</td>\n",
       "      <td>58</td>\n",
       "    </tr>\n",
       "    <tr>\n",
       "      <th>1</th>\n",
       "      <td>1(2)</td>\n",
       "      <td>0</td>\n",
       "      <td>1</td>\n",
       "      <td>0</td>\n",
       "      <td>0</td>\n",
       "      <td>0</td>\n",
       "      <td>0</td>\n",
       "      <td>0</td>\n",
       "      <td>0</td>\n",
       "      <td>0</td>\n",
       "      <td>...</td>\n",
       "      <td>1</td>\n",
       "      <td>1</td>\n",
       "      <td>1</td>\n",
       "      <td>1</td>\n",
       "      <td>1</td>\n",
       "      <td>1</td>\n",
       "      <td>1</td>\n",
       "      <td>1</td>\n",
       "      <td>0</td>\n",
       "      <td>58</td>\n",
       "    </tr>\n",
       "    <tr>\n",
       "      <th>2</th>\n",
       "      <td>1(3)</td>\n",
       "      <td>0</td>\n",
       "      <td>1</td>\n",
       "      <td>0</td>\n",
       "      <td>0</td>\n",
       "      <td>0</td>\n",
       "      <td>0</td>\n",
       "      <td>0</td>\n",
       "      <td>0</td>\n",
       "      <td>0</td>\n",
       "      <td>...</td>\n",
       "      <td>1</td>\n",
       "      <td>1</td>\n",
       "      <td>1</td>\n",
       "      <td>1</td>\n",
       "      <td>1</td>\n",
       "      <td>1</td>\n",
       "      <td>1</td>\n",
       "      <td>1</td>\n",
       "      <td>0</td>\n",
       "      <td>58</td>\n",
       "    </tr>\n",
       "    <tr>\n",
       "      <th>3</th>\n",
       "      <td>1(4)</td>\n",
       "      <td>0</td>\n",
       "      <td>1</td>\n",
       "      <td>0</td>\n",
       "      <td>0</td>\n",
       "      <td>0</td>\n",
       "      <td>0</td>\n",
       "      <td>0</td>\n",
       "      <td>0</td>\n",
       "      <td>0</td>\n",
       "      <td>...</td>\n",
       "      <td>1</td>\n",
       "      <td>1</td>\n",
       "      <td>1</td>\n",
       "      <td>1</td>\n",
       "      <td>1</td>\n",
       "      <td>1</td>\n",
       "      <td>1</td>\n",
       "      <td>1</td>\n",
       "      <td>0</td>\n",
       "      <td>58</td>\n",
       "    </tr>\n",
       "    <tr>\n",
       "      <th>4</th>\n",
       "      <td>1(5)</td>\n",
       "      <td>0</td>\n",
       "      <td>1</td>\n",
       "      <td>0</td>\n",
       "      <td>0</td>\n",
       "      <td>0</td>\n",
       "      <td>0</td>\n",
       "      <td>0</td>\n",
       "      <td>0</td>\n",
       "      <td>1</td>\n",
       "      <td>...</td>\n",
       "      <td>1</td>\n",
       "      <td>1</td>\n",
       "      <td>1</td>\n",
       "      <td>1</td>\n",
       "      <td>1</td>\n",
       "      <td>1</td>\n",
       "      <td>1</td>\n",
       "      <td>1</td>\n",
       "      <td>0</td>\n",
       "      <td>58</td>\n",
       "    </tr>\n",
       "    <tr>\n",
       "      <th>...</th>\n",
       "      <td>...</td>\n",
       "      <td>...</td>\n",
       "      <td>...</td>\n",
       "      <td>...</td>\n",
       "      <td>...</td>\n",
       "      <td>...</td>\n",
       "      <td>...</td>\n",
       "      <td>...</td>\n",
       "      <td>...</td>\n",
       "      <td>...</td>\n",
       "      <td>...</td>\n",
       "      <td>...</td>\n",
       "      <td>...</td>\n",
       "      <td>...</td>\n",
       "      <td>...</td>\n",
       "      <td>...</td>\n",
       "      <td>...</td>\n",
       "      <td>...</td>\n",
       "      <td>...</td>\n",
       "      <td>...</td>\n",
       "      <td>...</td>\n",
       "    </tr>\n",
       "    <tr>\n",
       "      <th>131</th>\n",
       "      <td>69(132)</td>\n",
       "      <td>0</td>\n",
       "      <td>1</td>\n",
       "      <td>0</td>\n",
       "      <td>1</td>\n",
       "      <td>0</td>\n",
       "      <td>0</td>\n",
       "      <td>1</td>\n",
       "      <td>0</td>\n",
       "      <td>1</td>\n",
       "      <td>...</td>\n",
       "      <td>1</td>\n",
       "      <td>0</td>\n",
       "      <td>1</td>\n",
       "      <td>1</td>\n",
       "      <td>1</td>\n",
       "      <td>1</td>\n",
       "      <td>1</td>\n",
       "      <td>0</td>\n",
       "      <td>0</td>\n",
       "      <td>58</td>\n",
       "    </tr>\n",
       "    <tr>\n",
       "      <th>132</th>\n",
       "      <td>70(133)</td>\n",
       "      <td>0</td>\n",
       "      <td>1</td>\n",
       "      <td>0</td>\n",
       "      <td>1</td>\n",
       "      <td>0</td>\n",
       "      <td>0</td>\n",
       "      <td>1</td>\n",
       "      <td>0</td>\n",
       "      <td>0</td>\n",
       "      <td>...</td>\n",
       "      <td>0</td>\n",
       "      <td>0</td>\n",
       "      <td>1</td>\n",
       "      <td>1</td>\n",
       "      <td>1</td>\n",
       "      <td>1</td>\n",
       "      <td>1</td>\n",
       "      <td>1</td>\n",
       "      <td>0</td>\n",
       "      <td>58</td>\n",
       "    </tr>\n",
       "    <tr>\n",
       "      <th>133</th>\n",
       "      <td>70(134)</td>\n",
       "      <td>0</td>\n",
       "      <td>1</td>\n",
       "      <td>0</td>\n",
       "      <td>1</td>\n",
       "      <td>0</td>\n",
       "      <td>0</td>\n",
       "      <td>1</td>\n",
       "      <td>0</td>\n",
       "      <td>1</td>\n",
       "      <td>...</td>\n",
       "      <td>0</td>\n",
       "      <td>0</td>\n",
       "      <td>1</td>\n",
       "      <td>1</td>\n",
       "      <td>1</td>\n",
       "      <td>1</td>\n",
       "      <td>1</td>\n",
       "      <td>1</td>\n",
       "      <td>0</td>\n",
       "      <td>58</td>\n",
       "    </tr>\n",
       "    <tr>\n",
       "      <th>134</th>\n",
       "      <td>71(135)</td>\n",
       "      <td>0</td>\n",
       "      <td>1</td>\n",
       "      <td>0</td>\n",
       "      <td>1</td>\n",
       "      <td>0</td>\n",
       "      <td>0</td>\n",
       "      <td>1</td>\n",
       "      <td>0</td>\n",
       "      <td>0</td>\n",
       "      <td>...</td>\n",
       "      <td>1</td>\n",
       "      <td>0</td>\n",
       "      <td>1</td>\n",
       "      <td>1</td>\n",
       "      <td>1</td>\n",
       "      <td>1</td>\n",
       "      <td>1</td>\n",
       "      <td>1</td>\n",
       "      <td>0</td>\n",
       "      <td>56</td>\n",
       "    </tr>\n",
       "    <tr>\n",
       "      <th>135</th>\n",
       "      <td>71(136)</td>\n",
       "      <td>0</td>\n",
       "      <td>1</td>\n",
       "      <td>0</td>\n",
       "      <td>1</td>\n",
       "      <td>0</td>\n",
       "      <td>0</td>\n",
       "      <td>1</td>\n",
       "      <td>0</td>\n",
       "      <td>1</td>\n",
       "      <td>...</td>\n",
       "      <td>1</td>\n",
       "      <td>0</td>\n",
       "      <td>1</td>\n",
       "      <td>1</td>\n",
       "      <td>1</td>\n",
       "      <td>1</td>\n",
       "      <td>1</td>\n",
       "      <td>1</td>\n",
       "      <td>0</td>\n",
       "      <td>56</td>\n",
       "    </tr>\n",
       "  </tbody>\n",
       "</table>\n",
       "<p>136 rows × 30 columns</p>\n",
       "</div>"
      ],
      "text/plain": [
       "           #  x(6,7)  x(5,6)  x(4,7)  x(4,6)  x(4,5)  x(3,7)  x(3,6)  x(3,5)  \\\n",
       "0       1(1)       0       1       0       0       0       0       0       0   \n",
       "1       1(2)       0       1       0       0       0       0       0       0   \n",
       "2       1(3)       0       1       0       0       0       0       0       0   \n",
       "3       1(4)       0       1       0       0       0       0       0       0   \n",
       "4       1(5)       0       1       0       0       0       0       0       0   \n",
       "..       ...     ...     ...     ...     ...     ...     ...     ...     ...   \n",
       "131  69(132)       0       1       0       1       0       0       1       0   \n",
       "132  70(133)       0       1       0       1       0       0       1       0   \n",
       "133  70(134)       0       1       0       1       0       0       1       0   \n",
       "134  71(135)       0       1       0       1       0       0       1       0   \n",
       "135  71(136)       0       1       0       1       0       0       1       0   \n",
       "\n",
       "     x(3,4)  ...  x(1,2)  x(0,7)  x(0,6)  x(0,5)  x(0,4)  x(0,3)  x(0,2)  \\\n",
       "0         0  ...       1       1       1       1       1       1       1   \n",
       "1         0  ...       1       1       1       1       1       1       1   \n",
       "2         0  ...       1       1       1       1       1       1       1   \n",
       "3         0  ...       1       1       1       1       1       1       1   \n",
       "4         1  ...       1       1       1       1       1       1       1   \n",
       "..      ...  ...     ...     ...     ...     ...     ...     ...     ...   \n",
       "131       1  ...       1       0       1       1       1       1       1   \n",
       "132       0  ...       0       0       1       1       1       1       1   \n",
       "133       1  ...       0       0       1       1       1       1       1   \n",
       "134       0  ...       1       0       1       1       1       1       1   \n",
       "135       1  ...       1       0       1       1       1       1       1   \n",
       "\n",
       "     x(0,1)  x(5,7)  objval  \n",
       "0         1       0      58  \n",
       "1         1       0      58  \n",
       "2         1       0      58  \n",
       "3         1       0      58  \n",
       "4         1       0      58  \n",
       "..      ...     ...     ...  \n",
       "131       0       0      58  \n",
       "132       1       0      58  \n",
       "133       1       0      58  \n",
       "134       1       0      56  \n",
       "135       1       0      56  \n",
       "\n",
       "[136 rows x 30 columns]"
      ]
     },
     "execution_count": 161,
     "metadata": {},
     "output_type": "execute_result"
    }
   ],
   "source": [
    "solutions"
   ]
  },
  {
   "cell_type": "code",
   "execution_count": 243,
   "metadata": {},
   "outputs": [
    {
     "name": "stdout",
     "output_type": "stream",
     "text": [
      "54.0\n"
     ]
    },
    {
     "data": {
      "text/html": [
       "<div>\n",
       "<style scoped>\n",
       "    .dataframe tbody tr th:only-of-type {\n",
       "        vertical-align: middle;\n",
       "    }\n",
       "\n",
       "    .dataframe tbody tr th {\n",
       "        vertical-align: top;\n",
       "    }\n",
       "\n",
       "    .dataframe thead th {\n",
       "        text-align: right;\n",
       "    }\n",
       "</style>\n",
       "<table border=\"1\" class=\"dataframe\">\n",
       "  <thead>\n",
       "    <tr style=\"text-align: right;\">\n",
       "      <th></th>\n",
       "      <th>0</th>\n",
       "      <th>1</th>\n",
       "      <th>2</th>\n",
       "      <th>3</th>\n",
       "      <th>4</th>\n",
       "      <th>5</th>\n",
       "      <th>6</th>\n",
       "      <th>7</th>\n",
       "    </tr>\n",
       "  </thead>\n",
       "  <tbody>\n",
       "    <tr>\n",
       "      <th>0</th>\n",
       "      <td>0.000000</td>\n",
       "      <td>0.806372</td>\n",
       "      <td>0.944021</td>\n",
       "      <td>1.000000</td>\n",
       "      <td>1.000000</td>\n",
       "      <td>0.944021</td>\n",
       "      <td>0.995474</td>\n",
       "      <td>0.807082</td>\n",
       "    </tr>\n",
       "    <tr>\n",
       "      <th>1</th>\n",
       "      <td>0.193628</td>\n",
       "      <td>0.000000</td>\n",
       "      <td>0.870057</td>\n",
       "      <td>0.976185</td>\n",
       "      <td>0.976185</td>\n",
       "      <td>0.870057</td>\n",
       "      <td>0.998068</td>\n",
       "      <td>0.500399</td>\n",
       "    </tr>\n",
       "    <tr>\n",
       "      <th>2</th>\n",
       "      <td>0.055979</td>\n",
       "      <td>0.129943</td>\n",
       "      <td>0.000000</td>\n",
       "      <td>0.870878</td>\n",
       "      <td>0.870878</td>\n",
       "      <td>0.500000</td>\n",
       "      <td>0.944089</td>\n",
       "      <td>0.130125</td>\n",
       "    </tr>\n",
       "    <tr>\n",
       "      <th>3</th>\n",
       "      <td>0.000000</td>\n",
       "      <td>0.023815</td>\n",
       "      <td>0.129122</td>\n",
       "      <td>0.000000</td>\n",
       "      <td>0.500000</td>\n",
       "      <td>0.129122</td>\n",
       "      <td>0.803885</td>\n",
       "      <td>0.024002</td>\n",
       "    </tr>\n",
       "    <tr>\n",
       "      <th>4</th>\n",
       "      <td>0.000000</td>\n",
       "      <td>0.023815</td>\n",
       "      <td>0.129122</td>\n",
       "      <td>0.500000</td>\n",
       "      <td>0.000000</td>\n",
       "      <td>0.129122</td>\n",
       "      <td>0.803885</td>\n",
       "      <td>0.024002</td>\n",
       "    </tr>\n",
       "    <tr>\n",
       "      <th>5</th>\n",
       "      <td>0.055979</td>\n",
       "      <td>0.129943</td>\n",
       "      <td>0.500000</td>\n",
       "      <td>0.870878</td>\n",
       "      <td>0.870878</td>\n",
       "      <td>0.000000</td>\n",
       "      <td>0.944089</td>\n",
       "      <td>0.130125</td>\n",
       "    </tr>\n",
       "    <tr>\n",
       "      <th>6</th>\n",
       "      <td>0.004526</td>\n",
       "      <td>0.001932</td>\n",
       "      <td>0.055911</td>\n",
       "      <td>0.196115</td>\n",
       "      <td>0.196115</td>\n",
       "      <td>0.055911</td>\n",
       "      <td>0.000000</td>\n",
       "      <td>0.003330</td>\n",
       "    </tr>\n",
       "    <tr>\n",
       "      <th>7</th>\n",
       "      <td>0.192918</td>\n",
       "      <td>0.499601</td>\n",
       "      <td>0.869875</td>\n",
       "      <td>0.975998</td>\n",
       "      <td>0.975998</td>\n",
       "      <td>0.869875</td>\n",
       "      <td>0.996670</td>\n",
       "      <td>0.000000</td>\n",
       "    </tr>\n",
       "  </tbody>\n",
       "</table>\n",
       "</div>"
      ],
      "text/plain": [
       "          0         1         2         3         4         5         6  \\\n",
       "0  0.000000  0.806372  0.944021  1.000000  1.000000  0.944021  0.995474   \n",
       "1  0.193628  0.000000  0.870057  0.976185  0.976185  0.870057  0.998068   \n",
       "2  0.055979  0.129943  0.000000  0.870878  0.870878  0.500000  0.944089   \n",
       "3  0.000000  0.023815  0.129122  0.000000  0.500000  0.129122  0.803885   \n",
       "4  0.000000  0.023815  0.129122  0.500000  0.000000  0.129122  0.803885   \n",
       "5  0.055979  0.129943  0.500000  0.870878  0.870878  0.000000  0.944089   \n",
       "6  0.004526  0.001932  0.055911  0.196115  0.196115  0.055911  0.000000   \n",
       "7  0.192918  0.499601  0.869875  0.975998  0.975998  0.869875  0.996670   \n",
       "\n",
       "          7  \n",
       "0  0.807082  \n",
       "1  0.500399  \n",
       "2  0.130125  \n",
       "3  0.024002  \n",
       "4  0.024002  \n",
       "5  0.130125  \n",
       "6  0.003330  \n",
       "7  0.000000  "
      ]
     },
     "execution_count": 243,
     "metadata": {},
     "output_type": "execute_result"
    }
   ],
   "source": [
    "k_hillside_cont,details_hillside_cont,models_cont = pyrankability.rank.solve_error(D,max_error=5,min_error=0,method='hillside',cont=True)\n",
    "pd.DataFrame(pyrankability.common.threshold_x(details_hillside_cont['x']))"
   ]
  },
  {
   "cell_type": "code",
   "execution_count": 44,
   "metadata": {},
   "outputs": [
    {
     "data": {
      "text/html": [
       "<div>\n",
       "<style scoped>\n",
       "    .dataframe tbody tr th:only-of-type {\n",
       "        vertical-align: middle;\n",
       "    }\n",
       "\n",
       "    .dataframe tbody tr th {\n",
       "        vertical-align: top;\n",
       "    }\n",
       "\n",
       "    .dataframe thead th {\n",
       "        text-align: right;\n",
       "    }\n",
       "</style>\n",
       "<table border=\"1\" class=\"dataframe\">\n",
       "  <thead>\n",
       "    <tr style=\"text-align: right;\">\n",
       "      <th></th>\n",
       "      <th>0</th>\n",
       "      <th>1</th>\n",
       "      <th>2</th>\n",
       "      <th>3</th>\n",
       "      <th>4</th>\n",
       "      <th>5</th>\n",
       "      <th>6</th>\n",
       "      <th>7</th>\n",
       "    </tr>\n",
       "  </thead>\n",
       "  <tbody>\n",
       "    <tr>\n",
       "      <th>0</th>\n",
       "      <td>0.000000</td>\n",
       "      <td>0.954798</td>\n",
       "      <td>0.997332</td>\n",
       "      <td>1.000000</td>\n",
       "      <td>1.000000</td>\n",
       "      <td>1.000000</td>\n",
       "      <td>1.000000</td>\n",
       "      <td>0.946501</td>\n",
       "    </tr>\n",
       "    <tr>\n",
       "      <th>1</th>\n",
       "      <td>0.045202</td>\n",
       "      <td>0.000000</td>\n",
       "      <td>0.963088</td>\n",
       "      <td>0.997471</td>\n",
       "      <td>0.997471</td>\n",
       "      <td>0.959052</td>\n",
       "      <td>0.998700</td>\n",
       "      <td>0.494038</td>\n",
       "    </tr>\n",
       "    <tr>\n",
       "      <th>2</th>\n",
       "      <td>0.002668</td>\n",
       "      <td>0.036912</td>\n",
       "      <td>0.000000</td>\n",
       "      <td>0.964066</td>\n",
       "      <td>0.964066</td>\n",
       "      <td>0.497251</td>\n",
       "      <td>0.998706</td>\n",
       "      <td>0.022380</td>\n",
       "    </tr>\n",
       "    <tr>\n",
       "      <th>3</th>\n",
       "      <td>0.000000</td>\n",
       "      <td>0.002529</td>\n",
       "      <td>0.035934</td>\n",
       "      <td>0.000000</td>\n",
       "      <td>0.500000</td>\n",
       "      <td>0.029570</td>\n",
       "      <td>0.950590</td>\n",
       "      <td>0.001150</td>\n",
       "    </tr>\n",
       "    <tr>\n",
       "      <th>4</th>\n",
       "      <td>0.000000</td>\n",
       "      <td>0.002529</td>\n",
       "      <td>0.035934</td>\n",
       "      <td>0.500000</td>\n",
       "      <td>0.000000</td>\n",
       "      <td>0.029570</td>\n",
       "      <td>0.950590</td>\n",
       "      <td>0.001150</td>\n",
       "    </tr>\n",
       "    <tr>\n",
       "      <th>5</th>\n",
       "      <td>0.000000</td>\n",
       "      <td>0.040948</td>\n",
       "      <td>0.502749</td>\n",
       "      <td>0.970430</td>\n",
       "      <td>0.970430</td>\n",
       "      <td>0.000000</td>\n",
       "      <td>0.997360</td>\n",
       "      <td>0.026077</td>\n",
       "    </tr>\n",
       "    <tr>\n",
       "      <th>6</th>\n",
       "      <td>0.000000</td>\n",
       "      <td>0.001300</td>\n",
       "      <td>0.001294</td>\n",
       "      <td>0.049410</td>\n",
       "      <td>0.049410</td>\n",
       "      <td>0.002640</td>\n",
       "      <td>0.000000</td>\n",
       "      <td>0.000000</td>\n",
       "    </tr>\n",
       "    <tr>\n",
       "      <th>7</th>\n",
       "      <td>0.053499</td>\n",
       "      <td>0.505962</td>\n",
       "      <td>0.977620</td>\n",
       "      <td>0.998850</td>\n",
       "      <td>0.998850</td>\n",
       "      <td>0.973923</td>\n",
       "      <td>1.000000</td>\n",
       "      <td>0.000000</td>\n",
       "    </tr>\n",
       "  </tbody>\n",
       "</table>\n",
       "</div>"
      ],
      "text/plain": [
       "          0         1         2         3         4         5         6  \\\n",
       "0  0.000000  0.954798  0.997332  1.000000  1.000000  1.000000  1.000000   \n",
       "1  0.045202  0.000000  0.963088  0.997471  0.997471  0.959052  0.998700   \n",
       "2  0.002668  0.036912  0.000000  0.964066  0.964066  0.497251  0.998706   \n",
       "3  0.000000  0.002529  0.035934  0.000000  0.500000  0.029570  0.950590   \n",
       "4  0.000000  0.002529  0.035934  0.500000  0.000000  0.029570  0.950590   \n",
       "5  0.000000  0.040948  0.502749  0.970430  0.970430  0.000000  0.997360   \n",
       "6  0.000000  0.001300  0.001294  0.049410  0.049410  0.002640  0.000000   \n",
       "7  0.053499  0.505962  0.977620  0.998850  0.998850  0.973923  1.000000   \n",
       "\n",
       "          7  \n",
       "0  0.946501  \n",
       "1  0.494038  \n",
       "2  0.022380  \n",
       "3  0.001150  \n",
       "4  0.001150  \n",
       "5  0.026077  \n",
       "6  0.000000  \n",
       "7  0.000000  "
      ]
     },
     "execution_count": 44,
     "metadata": {},
     "output_type": "execute_result"
    }
   ],
   "source": [
    "pd.DataFrame(pyrankability.common.threshold_x(details_hillside['x']))"
   ]
  },
  {
   "cell_type": "code",
   "execution_count": 54,
   "metadata": {},
   "outputs": [
    {
     "data": {
      "text/plain": [
       "{'Pfirst': [(0, 7, 1, 5, 2, 4, 3, 6)],\n",
       " 'P': [(0, 7, 1, 5, 2, 4, 3, 6)],\n",
       " 'x': array([[0, 1, 1, 1, 1, 1, 1, 1],\n",
       "        [0, 0, 1, 1, 1, 1, 1, 0],\n",
       "        [0, 0, 0, 1, 1, 0, 1, 0],\n",
       "        [0, 0, 0, 0, 0, 0, 1, 0],\n",
       "        [0, 0, 0, 1, 0, 0, 1, 0],\n",
       "        [0, 0, 1, 1, 1, 0, 1, 0],\n",
       "        [0, 0, 0, 0, 0, 0, 0, 0],\n",
       "        [0, 1, 1, 1, 1, 1, 1, 0]]),\n",
       " 'objs': [54.0],\n",
       " 'xs': [array([[0, 1, 1, 1, 1, 1, 1, 1],\n",
       "         [0, 0, 1, 1, 1, 1, 1, 0],\n",
       "         [0, 0, 0, 1, 1, 0, 1, 0],\n",
       "         [0, 0, 0, 0, 0, 0, 1, 0],\n",
       "         [0, 0, 0, 1, 0, 0, 1, 0],\n",
       "         [0, 0, 1, 1, 1, 0, 1, 0],\n",
       "         [0, 0, 0, 0, 0, 0, 0, 0],\n",
       "         [0, 1, 1, 1, 1, 1, 1, 0]])],\n",
       " 'pair_details': None,\n",
       " 'method': 'hillside'}"
      ]
     },
     "execution_count": 54,
     "metadata": {},
     "output_type": "execute_result"
    }
   ],
   "source": [
    "details_hillside"
   ]
  },
  {
   "cell_type": "code",
   "execution_count": 55,
   "metadata": {},
   "outputs": [
    {
     "data": {
      "text/plain": [
       "[(0, 7, 1, 5, 2, 4, 3, 6)]"
      ]
     },
     "execution_count": 55,
     "metadata": {},
     "output_type": "execute_result"
    }
   ],
   "source": [
    "details_hillside['P']"
   ]
  },
  {
   "cell_type": "markdown",
   "metadata": {},
   "source": [
    "**You can return fractional/continuous x**"
   ]
  },
  {
   "cell_type": "code",
   "execution_count": 192,
   "metadata": {},
   "outputs": [
    {
     "data": {
      "text/plain": [
       "53.99999999984691"
      ]
     },
     "execution_count": 192,
     "metadata": {},
     "output_type": "execute_result"
    }
   ],
   "source": [
    "k_hillside,details_hillside = pyrankability.rank.solve(D,method='hillside',cont=True)\n",
    "k_hillside"
   ]
  },
  {
   "cell_type": "code",
   "execution_count": 194,
   "metadata": {},
   "outputs": [
    {
     "data": {
      "text/plain": [
       "array([[0. , 1. , 1. , 1. , 1. , 1. , 1. , 1. ],\n",
       "       [0. , 0. , 1. , 1. , 1. , 1. , 1. , 0.5],\n",
       "       [0. , 0. , 0. , 1. , 1. , 0.5, 1. , 0. ],\n",
       "       [0. , 0. , 0. , 0. , 0.5, 0. , 1. , 0. ],\n",
       "       [0. , 0. , 0. , 0.5, 0. , 0. , 1. , 0. ],\n",
       "       [0. , 0. , 0.5, 1. , 1. , 0. , 1. , 0. ],\n",
       "       [0. , 0. , 0. , 0. , 0. , 0. , 0. , 0. ],\n",
       "       [0. , 0.5, 1. , 1. , 1. , 1. , 1. , 0. ]])"
      ]
     },
     "execution_count": 194,
     "metadata": {},
     "output_type": "execute_result"
    }
   ],
   "source": [
    "pyrankability.common.threshold_x(details_hillside['x'])"
   ]
  },
  {
   "cell_type": "markdown",
   "metadata": {},
   "source": [
    "### LOP"
   ]
  },
  {
   "cell_type": "code",
   "execution_count": 56,
   "metadata": {},
   "outputs": [
    {
     "data": {
      "text/plain": [
       "25.0"
      ]
     },
     "execution_count": 56,
     "metadata": {},
     "output_type": "execute_result"
    }
   ],
   "source": [
    "k_lop,details_lop = pyrankability.rank.solve(D,method='lop')\n",
    "k_lop"
   ]
  },
  {
   "cell_type": "code",
   "execution_count": 57,
   "metadata": {},
   "outputs": [
    {
     "data": {
      "text/plain": [
       "[(7, 0, 1, 2, 4, 6, 5, 3)]"
      ]
     },
     "execution_count": 57,
     "metadata": {},
     "output_type": "execute_result"
    }
   ],
   "source": [
    "details_lop['P']"
   ]
  },
  {
   "cell_type": "markdown",
   "metadata": {},
   "source": [
    "### Multiple solutions with random restarts"
   ]
  },
  {
   "cell_type": "code",
   "execution_count": 58,
   "metadata": {},
   "outputs": [
    {
     "name": "stdout",
     "output_type": "stream",
     "text": [
      "Read MPS format model from file /tmp/tmp7q3tdruc/model.mps\n",
      "Reading time = 0.00 seconds\n",
      "hillside: 112 rows, 28 columns, 336 nonzeros\n",
      "Read MPS format model from file /tmp/tmp7q3tdruc/model.mps\n",
      "Reading time = 0.00 seconds\n",
      "hillside: 112 rows, 28 columns, 336 nonzeros\n",
      "Read MPS format model from file /tmp/tmp7q3tdruc/model.mps\n",
      "Reading time = 0.00 seconds\n",
      "hillside: 112 rows, 28 columns, 336 nonzeros\n",
      "Read MPS format model from file /tmp/tmp7q3tdruc/model.mps\n",
      "Reading time = 0.00 seconds\n",
      "hillside: 112 rows, 28 columns, 336 nonzeros\n",
      "Read MPS format model from file /tmp/tmp7q3tdruc/model.mps\n",
      "Reading time = 0.00 seconds\n",
      "hillside: 112 rows, 28 columns, 336 nonzeros\n",
      "Read MPS format model from file /tmp/tmp7q3tdruc/model.mps\n",
      "Reading time = 0.00 seconds\n",
      "hillside: 112 rows, 28 columns, 336 nonzeros\n",
      "Read MPS format model from file /tmp/tmp7q3tdruc/model.mps\n",
      "Reading time = 0.00 seconds\n",
      "hillside: 112 rows, 28 columns, 336 nonzeros\n",
      "Read MPS format model from file /tmp/tmp7q3tdruc/model.mps\n",
      "Reading time = 0.00 seconds\n",
      "hillside: 112 rows, 28 columns, 336 nonzeros\n",
      "Read MPS format model from file /tmp/tmp7q3tdruc/model.mps\n",
      "Reading time = 0.00 seconds\n",
      "hillside: 112 rows, 28 columns, 336 nonzeros\n",
      "Read MPS format model from file /tmp/tmp7q3tdruc/model.mps\n",
      "Reading time = 0.00 seconds\n",
      "hillside: 112 rows, 28 columns, 336 nonzeros\n"
     ]
    },
    {
     "data": {
      "text/plain": [
       "54.0"
      ]
     },
     "execution_count": 58,
     "metadata": {},
     "output_type": "execute_result"
    }
   ],
   "source": [
    "k_hillside_10,details_hillside_10 = pyrankability.rank.solve(D,method='hillside',num_random_restarts=10)\n",
    "k_hillside_10"
   ]
  },
  {
   "cell_type": "code",
   "execution_count": 59,
   "metadata": {},
   "outputs": [
    {
     "data": {
      "text/plain": [
       "[(0, 7, 1, 5, 2, 4, 3, 6),\n",
       " (0, 7, 1, 2, 5, 4, 3, 6),\n",
       " (0, 1, 7, 5, 2, 4, 3, 6),\n",
       " (0, 1, 7, 2, 5, 4, 3, 6),\n",
       " (0, 7, 1, 2, 5, 3, 4, 6),\n",
       " (0, 1, 7, 2, 5, 4, 3, 6),\n",
       " (0, 1, 7, 2, 5, 4, 3, 6),\n",
       " (0, 7, 1, 2, 5, 4, 3, 6),\n",
       " (0, 7, 1, 2, 5, 4, 3, 6),\n",
       " (0, 7, 1, 2, 5, 4, 3, 6),\n",
       " (0, 1, 7, 2, 5, 4, 3, 6)]"
      ]
     },
     "execution_count": 59,
     "metadata": {},
     "output_type": "execute_result"
    }
   ],
   "source": [
    "details_hillside_10['P']"
   ]
  },
  {
   "cell_type": "code",
   "execution_count": 60,
   "metadata": {},
   "outputs": [
    {
     "name": "stdout",
     "output_type": "stream",
     "text": [
      "Read MPS format model from file /tmp/tmpwufgl7qc/model.mps\n",
      "Reading time = 0.00 seconds\n",
      "lop: 112 rows, 28 columns, 336 nonzeros\n",
      "Read MPS format model from file /tmp/tmpwufgl7qc/model.mps\n",
      "Reading time = 0.00 seconds\n",
      "lop: 112 rows, 28 columns, 336 nonzeros\n",
      "Read MPS format model from file /tmp/tmpwufgl7qc/model.mps\n",
      "Reading time = 0.00 seconds\n",
      "lop: 112 rows, 28 columns, 336 nonzeros\n",
      "Read MPS format model from file /tmp/tmpwufgl7qc/model.mps\n",
      "Reading time = 0.00 seconds\n",
      "lop: 112 rows, 28 columns, 336 nonzeros\n",
      "Read MPS format model from file /tmp/tmpwufgl7qc/model.mps\n",
      "Reading time = 0.00 seconds\n",
      "lop: 112 rows, 28 columns, 336 nonzeros\n",
      "Read MPS format model from file /tmp/tmpwufgl7qc/model.mps\n",
      "Reading time = 0.00 seconds\n",
      "lop: 112 rows, 28 columns, 336 nonzeros\n",
      "Read MPS format model from file /tmp/tmpwufgl7qc/model.mps\n",
      "Reading time = 0.00 seconds\n",
      "lop: 112 rows, 28 columns, 336 nonzeros\n",
      "Read MPS format model from file /tmp/tmpwufgl7qc/model.mps\n",
      "Reading time = 0.00 seconds\n",
      "lop: 112 rows, 28 columns, 336 nonzeros\n",
      "Read MPS format model from file /tmp/tmpwufgl7qc/model.mps\n",
      "Reading time = 0.00 seconds\n",
      "lop: 112 rows, 28 columns, 336 nonzeros\n",
      "Read MPS format model from file /tmp/tmpwufgl7qc/model.mps\n",
      "Reading time = 0.00 seconds\n",
      "lop: 112 rows, 28 columns, 336 nonzeros\n"
     ]
    },
    {
     "data": {
      "text/plain": [
       "25.0"
      ]
     },
     "execution_count": 60,
     "metadata": {},
     "output_type": "execute_result"
    }
   ],
   "source": [
    "k_lop_10,details_lop_10 = pyrankability.rank.solve(D,method='lop',num_random_restarts=10)\n",
    "k_lop_10"
   ]
  },
  {
   "cell_type": "code",
   "execution_count": 61,
   "metadata": {},
   "outputs": [
    {
     "data": {
      "text/plain": [
       "[(7, 0, 1, 2, 4, 6, 5, 3),\n",
       " (7, 5, 0, 1, 2, 4, 6, 3),\n",
       " (0, 7, 1, 2, 4, 5, 3, 6),\n",
       " (0, 7, 1, 5, 3, 2, 4, 6),\n",
       " (7, 0, 5, 3, 1, 2, 4, 6),\n",
       " (0, 1, 7, 2, 4, 6, 5, 3),\n",
       " (7, 0, 1, 5, 3, 2, 4, 6),\n",
       " (7, 5, 0, 1, 2, 4, 6, 3),\n",
       " (0, 7, 5, 1, 2, 3, 4, 6),\n",
       " (7, 5, 0, 1, 2, 4, 6, 3),\n",
       " (0, 1, 2, 7, 4, 5, 3, 6)]"
      ]
     },
     "execution_count": 61,
     "metadata": {},
     "output_type": "execute_result"
    }
   ],
   "source": [
    "details_lop_10['P']"
   ]
  },
  {
   "cell_type": "markdown",
   "metadata": {},
   "source": [
    "### Multiple solutions with pairs"
   ]
  },
  {
   "cell_type": "code",
   "execution_count": 139,
   "metadata": {},
   "outputs": [
    {
     "name": "stdout",
     "output_type": "stream",
     "text": [
      "Read MPS format model from file /tmp/tmpb97kai5u/model.mps\n",
      "Reading time = 0.00 seconds\n",
      "hillside: 112 rows, 28 columns, 336 nonzeros\n",
      "Read MPS format model from file /tmp/tmpb97kai5u/model.mps\n",
      "Reading time = 0.00 seconds\n",
      "hillside: 112 rows, 28 columns, 336 nonzeros\n",
      "Read MPS format model from file /tmp/tmpb97kai5u/model.mps\n",
      "Reading time = 0.00 seconds\n",
      "hillside: 112 rows, 28 columns, 336 nonzeros\n",
      "Read MPS format model from file /tmp/tmpb97kai5u/model.mps\n",
      "Reading time = 0.00 seconds\n",
      "hillside: 112 rows, 28 columns, 336 nonzeros\n",
      "Read MPS format model from file /tmp/tmpb97kai5u/model.mps\n",
      "Reading time = 0.00 seconds\n",
      "hillside: 112 rows, 28 columns, 336 nonzeros\n",
      "Read MPS format model from file /tmp/tmpb97kai5u/model.mps\n",
      "Reading time = 0.00 seconds\n",
      "hillside: 112 rows, 28 columns, 336 nonzeros\n",
      "Read MPS format model from file /tmp/tmpb97kai5u/model.mps\n",
      "Reading time = 0.00 seconds\n",
      "hillside: 112 rows, 28 columns, 336 nonzeros\n",
      "Read MPS format model from file /tmp/tmpb97kai5u/model.mps\n",
      "Reading time = 0.00 seconds\n",
      "hillside: 112 rows, 28 columns, 336 nonzeros\n",
      "Read MPS format model from file /tmp/tmpb97kai5u/model.mps\n",
      "Reading time = 0.00 seconds\n",
      "hillside: 112 rows, 28 columns, 336 nonzeros\n",
      "Read MPS format model from file /tmp/tmpb97kai5u/model.mps\n",
      "Reading time = 0.00 seconds\n",
      "hillside: 112 rows, 28 columns, 336 nonzeros\n",
      "Read MPS format model from file /tmp/tmpb97kai5u/model.mps\n",
      "Reading time = 0.00 seconds\n",
      "hillside: 112 rows, 28 columns, 336 nonzeros\n",
      "Read MPS format model from file /tmp/tmpb97kai5u/model.mps\n",
      "Reading time = 0.00 seconds\n",
      "hillside: 112 rows, 28 columns, 336 nonzeros\n",
      "Read MPS format model from file /tmp/tmpb97kai5u/model.mps\n",
      "Reading time = 0.00 seconds\n",
      "hillside: 112 rows, 28 columns, 336 nonzeros\n",
      "Read MPS format model from file /tmp/tmpb97kai5u/model.mps\n",
      "Reading time = 0.00 seconds\n",
      "hillside: 112 rows, 28 columns, 336 nonzeros\n",
      "Read MPS format model from file /tmp/tmpb97kai5u/model.mps\n",
      "Reading time = 0.00 seconds\n",
      "hillside: 112 rows, 28 columns, 336 nonzeros\n",
      "Read MPS format model from file /tmp/tmpb97kai5u/model.mps\n",
      "Reading time = 0.00 seconds\n",
      "hillside: 112 rows, 28 columns, 336 nonzeros\n",
      "Read MPS format model from file /tmp/tmpb97kai5u/model.mps\n",
      "Reading time = 0.00 seconds\n",
      "hillside: 112 rows, 28 columns, 336 nonzeros\n",
      "Read MPS format model from file /tmp/tmpb97kai5u/model.mps\n",
      "Reading time = 0.00 seconds\n",
      "hillside: 112 rows, 28 columns, 336 nonzeros\n",
      "Read MPS format model from file /tmp/tmpb97kai5u/model.mps\n",
      "Reading time = 0.00 seconds\n",
      "hillside: 112 rows, 28 columns, 336 nonzeros\n",
      "Read MPS format model from file /tmp/tmpb97kai5u/model.mps\n",
      "Reading time = 0.00 seconds\n",
      "hillside: 112 rows, 28 columns, 336 nonzeros\n",
      "Read MPS format model from file /tmp/tmpb97kai5u/model.mps\n",
      "Reading time = 0.00 seconds\n",
      "hillside: 112 rows, 28 columns, 336 nonzeros\n"
     ]
    },
    {
     "data": {
      "text/plain": [
       "54.0"
      ]
     },
     "execution_count": 139,
     "metadata": {},
     "output_type": "execute_result"
    }
   ],
   "source": [
    "k_hillside_10_paired,details_hillside_10_paired = pyrankability.rank.solve(D,method='hillside',num_random_restarts=10,find_pair=True)\n",
    "k_hillside_10_paired"
   ]
  },
  {
   "cell_type": "markdown",
   "metadata": {},
   "source": [
    "If you want to check out the second pair:"
   ]
  },
  {
   "cell_type": "code",
   "execution_count": 140,
   "metadata": {},
   "outputs": [
    {
     "data": {
      "text/plain": [
       "(0, 7, 1, 5, 2, 3, 4, 6)"
      ]
     },
     "execution_count": 140,
     "metadata": {},
     "output_type": "execute_result"
    }
   ],
   "source": [
    "details_hillside_10_paired['P'][1]"
   ]
  },
  {
   "cell_type": "code",
   "execution_count": 141,
   "metadata": {},
   "outputs": [
    {
     "data": {
      "text/plain": [
       "(0, 1, 7, 2, 5, 4, 3, 6)"
      ]
     },
     "execution_count": 141,
     "metadata": {},
     "output_type": "execute_result"
    }
   ],
   "source": [
    "details_hillside_10_paired['pair_details']['P'][1]"
   ]
  },
  {
   "cell_type": "code",
   "execution_count": 144,
   "metadata": {},
   "outputs": [
    {
     "data": {
      "text/plain": [
       "((0, 7, 1, 5, 2, 3, 4, 6), (0, 1, 7, 2, 5, 4, 3, 6))"
      ]
     },
     "execution_count": 144,
     "metadata": {},
     "output_type": "execute_result"
    }
   ],
   "source": [
    "details_hillside_10_paired['P'][1],details_hillside_10_paired['pair_details']['P'][1]"
   ]
  },
  {
   "cell_type": "markdown",
   "metadata": {},
   "source": [
    "Visualize it"
   ]
  },
  {
   "cell_type": "code",
   "execution_count": 145,
   "metadata": {},
   "outputs": [
    {
     "data": {
      "image/png": "[encoded data removed]",
      "text/plain": [
       "<Figure size 360x720 with 1 Axes>"
      ]
     },
     "metadata": {},
     "output_type": "display_data"
    }
   ],
   "source": [
    "pyrankability.plot.spider(pyrankability.plot.AB_to_P2(details_hillside_10_paired['P'][1],details_hillside_10_paired['pair_details']['P'][1]))"
   ]
  },
  {
   "cell_type": "markdown",
   "metadata": {},
   "source": [
    "### What if you wanted to have more control and find the most different from a specific ranking?"
   ]
  },
  {
   "cell_type": "code",
   "execution_count": 146,
   "metadata": {},
   "outputs": [
    {
     "name": "stdout",
     "output_type": "stream",
     "text": [
      "Parameter OutputFlag unchanged\n",
      "   Value: 1  Min: 0  Max: 1  Default: 1\n",
      "Start pair optimization\n",
      "Optimize a model with 197 rows, 112 columns and 557 nonzeros\n",
      "Variable types: 56 continuous, 56 integer (56 binary)\n",
      "Coefficient statistics:\n",
      "  Matrix range     [1e+00, 8e+00]\n",
      "  Objective range  [1e+00, 1e+00]\n",
      "  Bounds range     [1e+00, 1e+00]\n",
      "  RHS range        [1e+00, 7e+01]\n",
      "Found heuristic solution: objective -0.0000000\n",
      "Presolve removed 197 rows and 112 columns\n",
      "Presolve time: 0.00s\n",
      "Presolve: All rows and columns removed\n",
      "\n",
      "Explored 0 nodes (0 simplex iterations) in 0.01 seconds\n",
      "Thread count was 1 (of 8 available processors)\n",
      "\n",
      "Solution count 2: 3 -0 \n",
      "\n",
      "Optimal solution found (tolerance 1.00e-04)\n",
      "Best objective 3.000000000000e+00, best bound 3.000000000000e+00, gap 0.0000%\n",
      "Optimization in 0.0134 seconds\n",
      "End optimization\n"
     ]
    }
   ],
   "source": [
    "perm_x = details_hillside_10_paired['P'][1]\n",
    "x = details_hillside_10_paired['xs'][1]\n",
    "\n",
    "k_,details_ = pyrankability.search.solve_max_tau(D,k_hillside_10_paired,x,method='hillside',verbose=True)"
   ]
  },
  {
   "cell_type": "code",
   "execution_count": 147,
   "metadata": {},
   "outputs": [
    {
     "data": {
      "text/plain": [
       "(0, 7, 1, 5, 2, 3, 4, 6)"
      ]
     },
     "execution_count": 147,
     "metadata": {},
     "output_type": "execute_result"
    }
   ],
   "source": [
    "perm_x"
   ]
  },
  {
   "cell_type": "code",
   "execution_count": 148,
   "metadata": {},
   "outputs": [
    {
     "data": {
      "text/plain": [
       "(0, 1, 7, 2, 5, 4, 3, 6)"
      ]
     },
     "execution_count": 148,
     "metadata": {},
     "output_type": "execute_result"
    }
   ],
   "source": [
    "details_['perm']"
   ]
  },
  {
   "cell_type": "code",
   "execution_count": 149,
   "metadata": {},
   "outputs": [
    {
     "data": {
      "text/plain": [
       "(0, 1, 7, 2, 5, 3, 4, 6)"
      ]
     },
     "execution_count": 149,
     "metadata": {},
     "output_type": "execute_result"
    }
   ],
   "source": [
    "details_hillside_10_paired['pair_details']['P'][0]"
   ]
  },
  {
   "cell_type": "markdown",
   "metadata": {},
   "source": [
    "**Make sure we found an equivalent distant pair**"
   ]
  },
  {
   "cell_type": "code",
   "execution_count": 151,
   "metadata": {},
   "outputs": [
    {
     "data": {
      "text/plain": [
       "True"
      ]
     },
     "execution_count": 151,
     "metadata": {},
     "output_type": "execute_result"
    }
   ],
   "source": [
    "pyrankability.common.tau(perm_x,details_['perm']) == pyrankability.common.tau(perm_x,details_hillside_10_paired['pair_details']['P'][1])"
   ]
  },
  {
   "cell_type": "code",
   "execution_count": 152,
   "metadata": {},
   "outputs": [
    {
     "name": "stdout",
     "output_type": "stream",
     "text": [
      "Read MPS format model from file /tmp/tmpck6o16e3/model.mps\n",
      "Reading time = 0.00 seconds\n",
      "lop: 112 rows, 28 columns, 336 nonzeros\n",
      "Read MPS format model from file /tmp/tmpck6o16e3/model.mps\n",
      "Reading time = 0.00 seconds\n",
      "lop: 112 rows, 28 columns, 336 nonzeros\n",
      "Read MPS format model from file /tmp/tmpck6o16e3/model.mps\n",
      "Reading time = 0.00 seconds\n",
      "lop: 112 rows, 28 columns, 336 nonzeros\n",
      "Read MPS format model from file /tmp/tmpck6o16e3/model.mps\n",
      "Reading time = 0.00 seconds\n",
      "lop: 112 rows, 28 columns, 336 nonzeros\n",
      "Read MPS format model from file /tmp/tmpck6o16e3/model.mps\n",
      "Reading time = 0.00 seconds\n",
      "lop: 112 rows, 28 columns, 336 nonzeros\n",
      "Read MPS format model from file /tmp/tmpck6o16e3/model.mps\n",
      "Reading time = 0.00 seconds\n",
      "lop: 112 rows, 28 columns, 336 nonzeros\n",
      "Read MPS format model from file /tmp/tmpck6o16e3/model.mps\n",
      "Reading time = 0.00 seconds\n",
      "lop: 112 rows, 28 columns, 336 nonzeros\n",
      "Read MPS format model from file /tmp/tmpck6o16e3/model.mps\n",
      "Reading time = 0.00 seconds\n",
      "lop: 112 rows, 28 columns, 336 nonzeros\n",
      "Read MPS format model from file /tmp/tmpck6o16e3/model.mps\n",
      "Reading time = 0.00 seconds\n",
      "lop: 112 rows, 28 columns, 336 nonzeros\n",
      "Read MPS format model from file /tmp/tmpck6o16e3/model.mps\n",
      "Reading time = 0.00 seconds\n",
      "lop: 112 rows, 28 columns, 336 nonzeros\n",
      "Read MPS format model from file /tmp/tmpck6o16e3/model.mps\n",
      "Reading time = 0.00 seconds\n",
      "lop: 112 rows, 28 columns, 336 nonzeros\n",
      "Read MPS format model from file /tmp/tmpck6o16e3/model.mps\n",
      "Reading time = 0.00 seconds\n",
      "lop: 112 rows, 28 columns, 336 nonzeros\n",
      "Read MPS format model from file /tmp/tmpck6o16e3/model.mps\n",
      "Reading time = 0.00 seconds\n",
      "lop: 112 rows, 28 columns, 336 nonzeros\n",
      "Read MPS format model from file /tmp/tmpck6o16e3/model.mps\n",
      "Reading time = 0.00 seconds\n",
      "lop: 112 rows, 28 columns, 336 nonzeros\n",
      "Read MPS format model from file /tmp/tmpck6o16e3/model.mps\n",
      "Reading time = 0.00 seconds\n",
      "lop: 112 rows, 28 columns, 336 nonzeros\n",
      "Read MPS format model from file /tmp/tmpck6o16e3/model.mps\n",
      "Reading time = 0.00 seconds\n",
      "lop: 112 rows, 28 columns, 336 nonzeros\n",
      "Read MPS format model from file /tmp/tmpck6o16e3/model.mps\n",
      "Reading time = 0.00 seconds\n",
      "lop: 112 rows, 28 columns, 336 nonzeros\n",
      "Read MPS format model from file /tmp/tmpck6o16e3/model.mps\n",
      "Reading time = 0.00 seconds\n",
      "lop: 112 rows, 28 columns, 336 nonzeros\n",
      "Read MPS format model from file /tmp/tmpck6o16e3/model.mps\n",
      "Reading time = 0.00 seconds\n",
      "lop: 112 rows, 28 columns, 336 nonzeros\n",
      "Read MPS format model from file /tmp/tmpck6o16e3/model.mps\n",
      "Reading time = 0.00 seconds\n",
      "lop: 112 rows, 28 columns, 336 nonzeros\n",
      "Read MPS format model from file /tmp/tmpck6o16e3/model.mps\n",
      "Reading time = 0.00 seconds\n",
      "lop: 112 rows, 28 columns, 336 nonzeros\n"
     ]
    },
    {
     "data": {
      "text/plain": [
       "25.0"
      ]
     },
     "execution_count": 152,
     "metadata": {},
     "output_type": "execute_result"
    }
   ],
   "source": [
    "k_lop_10_paired,details_lop_10_paired = pyrankability.rank.solve(D,method='lop',num_random_restarts=10,find_pair=True)\n",
    "k_lop_10_paired"
   ]
  },
  {
   "cell_type": "code",
   "execution_count": 153,
   "metadata": {},
   "outputs": [
    {
     "data": {
      "image/png": "[encoded data removed]",
      "text/plain": [
       "<Figure size 360x720 with 1 Axes>"
      ]
     },
     "metadata": {},
     "output_type": "display_data"
    }
   ],
   "source": [
    "pyrankability.plot.spider(pyrankability.plot.AB_to_P2(details_lop_10_paired['P'][1],details_lop_10_paired['pair_details']['P'][1]))"
   ]
  },
  {
   "cell_type": "code",
   "execution_count": 156,
   "metadata": {},
   "outputs": [
    {
     "data": {
      "text/plain": [
       "10.0"
      ]
     },
     "execution_count": 156,
     "metadata": {},
     "output_type": "execute_result"
    }
   ],
   "source": [
    "perm_x = details_lop_10_paired['P'][1]\n",
    "x = details_lop_10_paired['xs'][1]\n",
    "\n",
    "k_,details_ = pyrankability.search.solve_max_tau(D,k_lop_10_paired,x,method='lop',verbose=False)\n",
    "k_"
   ]
  },
  {
   "cell_type": "markdown",
   "metadata": {},
   "source": [
    "### Find the two most distant"
   ]
  },
  {
   "cell_type": "code",
   "execution_count": 158,
   "metadata": {},
   "outputs": [
    {
     "name": "stdout",
     "output_type": "stream",
     "text": [
      "Parameter OutputFlag unchanged\n",
      "   Value: 1  Min: 0  Max: 1  Default: 1\n",
      "Updating opjective in 0.0036 seconds\n",
      "Start optimization 0\n",
      "Optimize a model with 112 rows, 28 columns and 336 nonzeros\n",
      "Variable types: 0 continuous, 28 integer (28 binary)\n",
      "Coefficient statistics:\n",
      "  Matrix range     [1e+00, 1e+00]\n",
      "  Objective range  [1e+00, 1e+00]\n",
      "  Bounds range     [1e+00, 1e+00]\n",
      "  RHS range        [1e+00, 1e+00]\n",
      "Found heuristic solution: objective 18.0000000\n",
      "Found heuristic solution: objective 22.0000000\n",
      "Presolve time: 0.00s\n",
      "Presolved: 112 rows, 28 columns, 336 nonzeros\n",
      "Variable types: 0 continuous, 28 integer (28 binary)\n",
      "\n",
      "Root relaxation: objective 2.500000e+01, 7 iterations, 0.00 seconds\n",
      "\n",
      "    Nodes    |    Current Node    |     Objective Bounds      |     Work\n",
      " Expl Unexpl |  Obj  Depth IntInf | Incumbent    BestBd   Gap | It/Node Time\n",
      "\n",
      "*    0     0               0      25.0000000   25.00000  0.00%     -    0s\n",
      "\n",
      "Explored 0 nodes (7 simplex iterations) in 0.02 seconds\n",
      "Thread count was 8 (of 8 available processors)\n",
      "\n",
      "Solution count 3: 25 22 18 \n",
      "\n",
      "Optimal solution found (tolerance 1.00e-04)\n",
      "Best objective 2.500000000000e+01, best bound 2.500000000000e+01, gap 0.0000%\n",
      "Optimization in 0.0215 seconds\n",
      "End optimization 0\n",
      "Finished first optimization. Obj: 25.0\n",
      "Parameter OutputFlag unchanged\n",
      "   Value: 1  Min: 0  Max: 1  Default: 1\n",
      "Start optimization\n",
      "Optimize a model with 282 rows, 112 columns and 866 nonzeros\n",
      "Variable types: 0 continuous, 112 integer (112 binary)\n",
      "Coefficient statistics:\n",
      "  Matrix range     [1e+00, 1e+00]\n",
      "  Objective range  [1e+00, 1e+00]\n",
      "  Bounds range     [1e+00, 1e+00]\n",
      "  RHS range        [1e+00, 1e+01]\n",
      "Found heuristic solution: objective -0.0000000\n",
      "Presolve removed 189 rows and 53 columns\n",
      "Presolve time: 0.00s\n",
      "Presolved: 93 rows, 59 columns, 218 nonzeros\n",
      "Variable types: 0 continuous, 59 integer (59 binary)\n",
      "\n",
      "Root relaxation: objective 1.500000e+01, 29 iterations, 0.00 seconds\n",
      "\n",
      "    Nodes    |    Current Node    |     Objective Bounds      |     Work\n",
      " Expl Unexpl |  Obj  Depth IntInf | Incumbent    BestBd   Gap | It/Node Time\n",
      "\n",
      "H    0     0                      15.0000000   30.00000   100%     -    0s\n",
      "     0     0          -    0        15.00000   15.00000  0.00%     -    0s\n",
      "\n",
      "Explored 0 nodes (52 simplex iterations) in 0.02 seconds\n",
      "Thread count was 8 (of 8 available processors)\n",
      "\n",
      "Solution count 2: 15 -0 \n",
      "\n",
      "Optimal solution found (tolerance 1.00e-04)\n",
      "Best objective 1.500000000000e+01, best bound 1.500000000000e+01, gap 0.0000%\n",
      "Optimization in 0.0212 seconds\n",
      "End optimization\n"
     ]
    },
    {
     "data": {
      "text/plain": [
       "15.0"
      ]
     },
     "execution_count": 158,
     "metadata": {},
     "output_type": "execute_result"
    }
   ],
   "source": [
    "k_two_distant,details_two_distant = pyrankability.search.solve_pair_max_tau(D,method='lop',verbose=True)\n",
    "k_two_distant"
   ]
  },
  {
   "cell_type": "code",
   "execution_count": 159,
   "metadata": {},
   "outputs": [
    {
     "data": {
      "text/plain": [
       "{'obj': 15.0,\n",
       " 'k_x': 25.0,\n",
       " 'k_y': 25.0,\n",
       " 'perm_x': (7, 5, 3, 0, 1, 2, 4, 6),\n",
       " 'perm_y': (0, 1, 2, 4, 6, 7, 5, 3),\n",
       " 'x': array([[0, 1, 1, 0, 1, 0, 1, 0],\n",
       "        [0, 0, 1, 0, 1, 0, 1, 0],\n",
       "        [0, 0, 0, 0, 1, 0, 1, 0],\n",
       "        [1, 1, 1, 0, 1, 0, 1, 0],\n",
       "        [0, 0, 0, 0, 0, 0, 1, 0],\n",
       "        [1, 1, 1, 1, 1, 0, 1, 0],\n",
       "        [0, 0, 0, 0, 0, 0, 0, 0],\n",
       "        [1, 1, 1, 1, 1, 1, 1, 0]]),\n",
       " 'y': array([[0, 1, 1, 1, 1, 1, 1, 1],\n",
       "        [0, 0, 1, 1, 1, 1, 1, 1],\n",
       "        [0, 0, 0, 1, 1, 1, 1, 1],\n",
       "        [0, 0, 0, 0, 0, 0, 0, 0],\n",
       "        [0, 0, 0, 1, 0, 1, 1, 1],\n",
       "        [0, 0, 0, 1, 0, 0, 0, 0],\n",
       "        [0, 0, 0, 1, 0, 1, 0, 1],\n",
       "        [0, 0, 0, 1, 0, 1, 0, 0]]),\n",
       " 'u': array([[0, 0, 0, 0, 0, 0, 0, 0],\n",
       "        [0, 0, 0, 0, 0, 0, 0, 0],\n",
       "        [0, 0, 0, 0, 0, 0, 0, 0],\n",
       "        [0, 0, 0, 0, 1, 0, 1, 0],\n",
       "        [0, 0, 0, 0, 0, 0, 0, 0],\n",
       "        [0, 0, 0, 0, 0, 0, 1, 0],\n",
       "        [0, 0, 0, 0, 0, 0, 0, 0],\n",
       "        [0, 0, 0, 0, 0, 0, 0, 0]]),\n",
       " 'v': array([[0, 0, 0, 1, 0, 1, 0, 1],\n",
       "        [0, 0, 0, 1, 0, 1, 0, 1],\n",
       "        [0, 0, 0, 1, 0, 1, 0, 1],\n",
       "        [0, 0, 0, 0, 0, 0, 0, 0],\n",
       "        [0, 0, 0, 0, 0, 1, 0, 1],\n",
       "        [0, 0, 0, 0, 0, 0, 0, 0],\n",
       "        [0, 0, 0, 0, 0, 0, 0, 1],\n",
       "        [0, 0, 0, 0, 0, 0, 0, 0]])}"
      ]
     },
     "execution_count": 159,
     "metadata": {},
     "output_type": "execute_result"
    }
   ],
   "source": [
    "details_two_distant"
   ]
  },
  {
   "cell_type": "code",
   "execution_count": 160,
   "metadata": {},
   "outputs": [
    {
     "name": "stdout",
     "output_type": "stream",
     "text": [
      "Parameter OutputFlag unchanged\n",
      "   Value: 1  Min: 0  Max: 1  Default: 1\n",
      "Updating opjective in 0.0036 seconds\n",
      "Start optimization 0\n",
      "Optimize a model with 112 rows, 28 columns and 336 nonzeros\n",
      "Variable types: 0 continuous, 28 integer (28 binary)\n",
      "Coefficient statistics:\n",
      "  Matrix range     [1e+00, 1e+00]\n",
      "  Objective range  [2e+00, 8e+00]\n",
      "  Bounds range     [1e+00, 1e+00]\n",
      "  RHS range        [1e+00, 1e+00]\n",
      "Found heuristic solution: objective 62.0000000\n",
      "Found heuristic solution: objective 56.0000000\n",
      "Presolve removed 76 rows and 13 columns\n",
      "Presolve time: 0.00s\n",
      "Presolved: 36 rows, 15 columns, 92 nonzeros\n",
      "Found heuristic solution: objective 54.0000000\n",
      "Variable types: 0 continuous, 15 integer (15 binary)\n",
      "\n",
      "Explored 0 nodes (0 simplex iterations) in 0.01 seconds\n",
      "Thread count was 8 (of 8 available processors)\n",
      "\n",
      "Solution count 3: 54 56 58 \n",
      "\n",
      "Optimal solution found (tolerance 1.00e-04)\n",
      "Best objective 5.400000000000e+01, best bound 5.400000000000e+01, gap 0.0000%\n",
      "Optimization in 0.0174 seconds\n",
      "End optimization 0\n",
      "Finished first optimization. Obj: 54.0\n",
      "Parameter OutputFlag unchanged\n",
      "   Value: 1  Min: 0  Max: 1  Default: 1\n",
      "Start optimization\n",
      "Optimize a model with 282 rows, 112 columns and 890 nonzeros\n",
      "Variable types: 0 continuous, 112 integer (112 binary)\n",
      "Coefficient statistics:\n",
      "  Matrix range     [1e+00, 8e+00]\n",
      "  Objective range  [1e+00, 1e+00]\n",
      "  Bounds range     [1e+00, 1e+00]\n",
      "  RHS range        [1e+00, 7e+01]\n",
      "Found heuristic solution: objective -0.0000000\n",
      "Presolve removed 282 rows and 112 columns\n",
      "Presolve time: 0.00s\n",
      "Presolve: All rows and columns removed\n",
      "\n",
      "Explored 0 nodes (0 simplex iterations) in 0.01 seconds\n",
      "Thread count was 1 (of 8 available processors)\n",
      "\n",
      "Solution count 2: 3 -0 \n",
      "\n",
      "Optimal solution found (tolerance 1.00e-04)\n",
      "Best objective 3.000000000000e+00, best bound 3.000000000000e+00, gap 0.0000%\n",
      "Optimization in 0.0186 seconds\n",
      "End optimization\n"
     ]
    },
    {
     "data": {
      "text/plain": [
       "3.0"
      ]
     },
     "execution_count": 160,
     "metadata": {},
     "output_type": "execute_result"
    }
   ],
   "source": [
    "k_two_distant,details_two_distant = pyrankability.search.solve_pair_max_tau(D,method='hillside',verbose=True)\n",
    "k_two_distant"
   ]
  },
  {
   "cell_type": "code",
   "execution_count": 161,
   "metadata": {},
   "outputs": [
    {
     "data": {
      "text/plain": [
       "{'obj': 3.0,\n",
       " 'k_x': 54.0,\n",
       " 'k_y': 54.0,\n",
       " 'perm_x': (0, 7, 1, 5, 2, 4, 3, 6),\n",
       " 'perm_y': (0, 1, 7, 2, 5, 3, 4, 6),\n",
       " 'x': array([[0, 1, 1, 1, 1, 1, 1, 1],\n",
       "        [0, 0, 1, 1, 1, 1, 1, 0],\n",
       "        [0, 0, 0, 1, 1, 0, 1, 0],\n",
       "        [0, 0, 0, 0, 0, 0, 1, 0],\n",
       "        [0, 0, 0, 1, 0, 0, 1, 0],\n",
       "        [0, 0, 1, 1, 1, 0, 1, 0],\n",
       "        [0, 0, 0, 0, 0, 0, 0, 0],\n",
       "        [0, 1, 1, 1, 1, 1, 1, 0]]),\n",
       " 'y': array([[0, 1, 1, 1, 1, 1, 1, 1],\n",
       "        [0, 0, 1, 1, 1, 1, 1, 1],\n",
       "        [0, 0, 0, 1, 1, 1, 1, 0],\n",
       "        [0, 0, 0, 0, 1, 0, 1, 0],\n",
       "        [0, 0, 0, 0, 0, 0, 1, 0],\n",
       "        [0, 0, 0, 1, 1, 0, 1, 0],\n",
       "        [0, 0, 0, 0, 0, 0, 0, 0],\n",
       "        [0, 0, 1, 1, 1, 1, 1, 0]]),\n",
       " 'u': array([[0, 0, 0, 0, 0, 0, 0, 0],\n",
       "        [0, 0, 0, 0, 0, 0, 0, 0],\n",
       "        [0, 0, 0, 0, 0, 0, 0, 0],\n",
       "        [0, 0, 0, 0, 0, 0, 0, 0],\n",
       "        [0, 0, 0, 0, 0, 0, 0, 0],\n",
       "        [0, 0, 0, 0, 0, 0, 0, 0],\n",
       "        [0, 0, 0, 0, 0, 0, 0, 0],\n",
       "        [0, 0, 0, 0, 0, 0, 0, 0]]),\n",
       " 'v': array([[0, 0, 0, 0, 0, 0, 0, 0],\n",
       "        [0, 0, 0, 0, 0, 0, 0, 1],\n",
       "        [0, 0, 0, 0, 0, 1, 0, 0],\n",
       "        [0, 0, 0, 0, 1, 0, 0, 0],\n",
       "        [0, 0, 0, 0, 0, 0, 0, 0],\n",
       "        [0, 0, 0, 0, 0, 0, 0, 0],\n",
       "        [0, 0, 0, 0, 0, 0, 0, 0],\n",
       "        [0, 0, 0, 0, 0, 0, 0, 0]])}"
      ]
     },
     "execution_count": 161,
     "metadata": {},
     "output_type": "execute_result"
    }
   ],
   "source": [
    "details_two_distant"
   ]
  },
  {
   "cell_type": "markdown",
   "metadata": {},
   "source": [
    "## How about the most similar?"
   ]
  },
  {
   "cell_type": "code",
   "execution_count": 173,
   "metadata": {},
   "outputs": [
    {
     "name": "stdout",
     "output_type": "stream",
     "text": [
      "Parameter OutputFlag unchanged\n",
      "   Value: 1  Min: 0  Max: 1  Default: 1\n",
      "Updating opjective in 0.0028 seconds\n",
      "Start optimization 0\n",
      "Optimize a model with 112 rows, 28 columns and 336 nonzeros\n",
      "Variable types: 0 continuous, 28 integer (28 binary)\n",
      "Coefficient statistics:\n",
      "  Matrix range     [1e+00, 1e+00]\n",
      "  Objective range  [2e+00, 8e+00]\n",
      "  Bounds range     [1e+00, 1e+00]\n",
      "  RHS range        [1e+00, 1e+00]\n",
      "Found heuristic solution: objective 62.0000000\n",
      "Found heuristic solution: objective 56.0000000\n",
      "Presolve removed 76 rows and 13 columns\n",
      "Presolve time: 0.00s\n",
      "Presolved: 36 rows, 15 columns, 92 nonzeros\n",
      "Found heuristic solution: objective 54.0000000\n",
      "Variable types: 0 continuous, 15 integer (15 binary)\n",
      "\n",
      "Explored 0 nodes (0 simplex iterations) in 0.01 seconds\n",
      "Thread count was 8 (of 8 available processors)\n",
      "\n",
      "Solution count 3: 54 56 58 \n",
      "\n",
      "Optimal solution found (tolerance 1.00e-04)\n",
      "Best objective 5.400000000000e+01, best bound 5.400000000000e+01, gap 0.0000%\n",
      "Optimization in 0.0171 seconds\n",
      "End optimization 0\n",
      "Finished first optimization. Obj: 54.0\n",
      "Parameter OutputFlag unchanged\n",
      "   Value: 1  Min: 0  Max: 1  Default: 1\n",
      "Start optimization\n",
      "Optimize a model with 283 rows, 112 columns and 946 nonzeros\n",
      "Variable types: 0 continuous, 112 integer (112 binary)\n",
      "Coefficient statistics:\n",
      "  Matrix range     [1e+00, 8e+00]\n",
      "  Objective range  [1e+00, 1e+00]\n",
      "  Bounds range     [1e+00, 1e+00]\n",
      "  RHS range        [1e+00, 7e+01]\n",
      "Found heuristic solution: objective 1.0000000\n",
      "Presolve removed 283 rows and 112 columns\n",
      "Presolve time: 0.00s\n",
      "Presolve: All rows and columns removed\n",
      "\n",
      "Explored 0 nodes (0 simplex iterations) in 0.01 seconds\n",
      "Thread count was 1 (of 8 available processors)\n",
      "\n",
      "Solution count 1: 1 \n",
      "\n",
      "Optimal solution found (tolerance 1.00e-04)\n",
      "Best objective 1.000000000000e+00, best bound 1.000000000000e+00, gap 0.0000%\n",
      "Optimization in 0.0102 seconds\n",
      "End optimization\n"
     ]
    },
    {
     "data": {
      "text/plain": [
       "1.0"
      ]
     },
     "execution_count": 173,
     "metadata": {},
     "output_type": "execute_result"
    }
   ],
   "source": [
    "k_two_sim,details_two_sim = pyrankability.search.solve_pair_min_tau(D,method='hillside',verbose=True)\n",
    "k_two_sim"
   ]
  },
  {
   "cell_type": "code",
   "execution_count": 174,
   "metadata": {},
   "outputs": [
    {
     "data": {
      "text/plain": [
       "((0, 7, 1, 5, 2, 3, 4, 6), (0, 7, 1, 5, 2, 4, 3, 6))"
      ]
     },
     "execution_count": 174,
     "metadata": {},
     "output_type": "execute_result"
    }
   ],
   "source": [
    "details_two_sim['perm_x'],details_two_sim['perm_y']"
   ]
  },
  {
   "cell_type": "markdown",
   "metadata": {},
   "source": [
    "### You can set the minimum number of discordant pairs"
   ]
  },
  {
   "cell_type": "code",
   "execution_count": 169,
   "metadata": {},
   "outputs": [
    {
     "name": "stdout",
     "output_type": "stream",
     "text": [
      "Parameter OutputFlag unchanged\n",
      "   Value: 1  Min: 0  Max: 1  Default: 1\n",
      "Updating opjective in 0.0028 seconds\n",
      "Start optimization 0\n",
      "Optimize a model with 112 rows, 28 columns and 336 nonzeros\n",
      "Variable types: 0 continuous, 28 integer (28 binary)\n",
      "Coefficient statistics:\n",
      "  Matrix range     [1e+00, 1e+00]\n",
      "  Objective range  [2e+00, 8e+00]\n",
      "  Bounds range     [1e+00, 1e+00]\n",
      "  RHS range        [1e+00, 1e+00]\n",
      "Found heuristic solution: objective 62.0000000\n",
      "Found heuristic solution: objective 56.0000000\n",
      "Presolve removed 76 rows and 13 columns\n",
      "Presolve time: 0.00s\n",
      "Presolved: 36 rows, 15 columns, 92 nonzeros\n",
      "Found heuristic solution: objective 54.0000000\n",
      "Variable types: 0 continuous, 15 integer (15 binary)\n",
      "\n",
      "Explored 0 nodes (0 simplex iterations) in 0.01 seconds\n",
      "Thread count was 8 (of 8 available processors)\n",
      "\n",
      "Solution count 3: 54 56 58 \n",
      "\n",
      "Optimal solution found (tolerance 1.00e-04)\n",
      "Best objective 5.400000000000e+01, best bound 5.400000000000e+01, gap 0.0000%\n",
      "Optimization in 0.0126 seconds\n",
      "End optimization 0\n",
      "Finished first optimization. Obj: 54.0\n",
      "Parameter OutputFlag unchanged\n",
      "   Value: 1  Min: 0  Max: 1  Default: 1\n",
      "Start optimization\n",
      "Optimize a model with 283 rows, 112 columns and 946 nonzeros\n",
      "Variable types: 0 continuous, 112 integer (112 binary)\n",
      "Coefficient statistics:\n",
      "  Matrix range     [1e+00, 8e+00]\n",
      "  Objective range  [1e+00, 1e+00]\n",
      "  Bounds range     [1e+00, 1e+00]\n",
      "  RHS range        [1e+00, 7e+01]\n",
      "Presolve removed 283 rows and 112 columns\n",
      "Presolve time: 0.00s\n",
      "Presolve: All rows and columns removed\n",
      "\n",
      "Explored 0 nodes (0 simplex iterations) in 0.01 seconds\n",
      "Thread count was 1 (of 8 available processors)\n",
      "\n",
      "Solution count 1: 3 \n",
      "\n",
      "Optimal solution found (tolerance 1.00e-04)\n",
      "Best objective 3.000000000000e+00, best bound 3.000000000000e+00, gap 0.0000%\n",
      "Optimization in 0.0093 seconds\n",
      "End optimization\n"
     ]
    },
    {
     "data": {
      "text/plain": [
       "3.0"
      ]
     },
     "execution_count": 169,
     "metadata": {},
     "output_type": "execute_result"
    }
   ],
   "source": [
    "k_two_sim,details_two_sim = pyrankability.search.solve_pair_min_tau(D,method='hillside',verbose=True,min_dis=3)\n",
    "k_two_sim"
   ]
  },
  {
   "cell_type": "markdown",
   "metadata": {},
   "source": [
    "### N-pal 13 example"
   ]
  },
  {
   "cell_type": "code",
   "execution_count": 175,
   "metadata": {},
   "outputs": [
    {
     "data": {
      "text/html": [
       "<div>\n",
       "<style scoped>\n",
       "    .dataframe tbody tr th:only-of-type {\n",
       "        vertical-align: middle;\n",
       "    }\n",
       "\n",
       "    .dataframe tbody tr th {\n",
       "        vertical-align: top;\n",
       "    }\n",
       "\n",
       "    .dataframe thead th {\n",
       "        text-align: right;\n",
       "    }\n",
       "</style>\n",
       "<table border=\"1\" class=\"dataframe\">\n",
       "  <thead>\n",
       "    <tr style=\"text-align: right;\">\n",
       "      <th></th>\n",
       "      <th>0</th>\n",
       "      <th>1</th>\n",
       "      <th>2</th>\n",
       "      <th>3</th>\n",
       "      <th>4</th>\n",
       "      <th>5</th>\n",
       "      <th>6</th>\n",
       "      <th>7</th>\n",
       "      <th>8</th>\n",
       "      <th>9</th>\n",
       "      <th>10</th>\n",
       "      <th>11</th>\n",
       "      <th>12</th>\n",
       "    </tr>\n",
       "  </thead>\n",
       "  <tbody>\n",
       "    <tr>\n",
       "      <td>0</td>\n",
       "      <td>0</td>\n",
       "      <td>1</td>\n",
       "      <td>0</td>\n",
       "      <td>1</td>\n",
       "      <td>1</td>\n",
       "      <td>0</td>\n",
       "      <td>0</td>\n",
       "      <td>0</td>\n",
       "      <td>0</td>\n",
       "      <td>1</td>\n",
       "      <td>1</td>\n",
       "      <td>0</td>\n",
       "      <td>1</td>\n",
       "    </tr>\n",
       "    <tr>\n",
       "      <td>1</td>\n",
       "      <td>0</td>\n",
       "      <td>0</td>\n",
       "      <td>1</td>\n",
       "      <td>0</td>\n",
       "      <td>1</td>\n",
       "      <td>1</td>\n",
       "      <td>0</td>\n",
       "      <td>0</td>\n",
       "      <td>0</td>\n",
       "      <td>0</td>\n",
       "      <td>1</td>\n",
       "      <td>1</td>\n",
       "      <td>0</td>\n",
       "    </tr>\n",
       "    <tr>\n",
       "      <td>2</td>\n",
       "      <td>1</td>\n",
       "      <td>0</td>\n",
       "      <td>0</td>\n",
       "      <td>1</td>\n",
       "      <td>0</td>\n",
       "      <td>1</td>\n",
       "      <td>1</td>\n",
       "      <td>0</td>\n",
       "      <td>0</td>\n",
       "      <td>0</td>\n",
       "      <td>0</td>\n",
       "      <td>1</td>\n",
       "      <td>1</td>\n",
       "    </tr>\n",
       "    <tr>\n",
       "      <td>3</td>\n",
       "      <td>0</td>\n",
       "      <td>1</td>\n",
       "      <td>0</td>\n",
       "      <td>0</td>\n",
       "      <td>1</td>\n",
       "      <td>0</td>\n",
       "      <td>1</td>\n",
       "      <td>1</td>\n",
       "      <td>0</td>\n",
       "      <td>0</td>\n",
       "      <td>0</td>\n",
       "      <td>0</td>\n",
       "      <td>1</td>\n",
       "    </tr>\n",
       "    <tr>\n",
       "      <td>4</td>\n",
       "      <td>0</td>\n",
       "      <td>0</td>\n",
       "      <td>1</td>\n",
       "      <td>0</td>\n",
       "      <td>0</td>\n",
       "      <td>1</td>\n",
       "      <td>0</td>\n",
       "      <td>1</td>\n",
       "      <td>1</td>\n",
       "      <td>0</td>\n",
       "      <td>0</td>\n",
       "      <td>0</td>\n",
       "      <td>0</td>\n",
       "    </tr>\n",
       "    <tr>\n",
       "      <td>5</td>\n",
       "      <td>1</td>\n",
       "      <td>0</td>\n",
       "      <td>0</td>\n",
       "      <td>1</td>\n",
       "      <td>0</td>\n",
       "      <td>0</td>\n",
       "      <td>1</td>\n",
       "      <td>0</td>\n",
       "      <td>1</td>\n",
       "      <td>1</td>\n",
       "      <td>0</td>\n",
       "      <td>0</td>\n",
       "      <td>0</td>\n",
       "    </tr>\n",
       "    <tr>\n",
       "      <td>6</td>\n",
       "      <td>1</td>\n",
       "      <td>1</td>\n",
       "      <td>0</td>\n",
       "      <td>0</td>\n",
       "      <td>1</td>\n",
       "      <td>0</td>\n",
       "      <td>0</td>\n",
       "      <td>1</td>\n",
       "      <td>0</td>\n",
       "      <td>1</td>\n",
       "      <td>1</td>\n",
       "      <td>0</td>\n",
       "      <td>0</td>\n",
       "    </tr>\n",
       "    <tr>\n",
       "      <td>7</td>\n",
       "      <td>1</td>\n",
       "      <td>1</td>\n",
       "      <td>1</td>\n",
       "      <td>0</td>\n",
       "      <td>0</td>\n",
       "      <td>1</td>\n",
       "      <td>0</td>\n",
       "      <td>0</td>\n",
       "      <td>1</td>\n",
       "      <td>0</td>\n",
       "      <td>1</td>\n",
       "      <td>1</td>\n",
       "      <td>0</td>\n",
       "    </tr>\n",
       "    <tr>\n",
       "      <td>8</td>\n",
       "      <td>1</td>\n",
       "      <td>1</td>\n",
       "      <td>1</td>\n",
       "      <td>1</td>\n",
       "      <td>0</td>\n",
       "      <td>0</td>\n",
       "      <td>1</td>\n",
       "      <td>0</td>\n",
       "      <td>0</td>\n",
       "      <td>1</td>\n",
       "      <td>0</td>\n",
       "      <td>1</td>\n",
       "      <td>1</td>\n",
       "    </tr>\n",
       "    <tr>\n",
       "      <td>9</td>\n",
       "      <td>0</td>\n",
       "      <td>1</td>\n",
       "      <td>1</td>\n",
       "      <td>1</td>\n",
       "      <td>1</td>\n",
       "      <td>0</td>\n",
       "      <td>0</td>\n",
       "      <td>1</td>\n",
       "      <td>0</td>\n",
       "      <td>0</td>\n",
       "      <td>1</td>\n",
       "      <td>0</td>\n",
       "      <td>1</td>\n",
       "    </tr>\n",
       "    <tr>\n",
       "      <td>10</td>\n",
       "      <td>0</td>\n",
       "      <td>0</td>\n",
       "      <td>1</td>\n",
       "      <td>1</td>\n",
       "      <td>1</td>\n",
       "      <td>1</td>\n",
       "      <td>0</td>\n",
       "      <td>0</td>\n",
       "      <td>1</td>\n",
       "      <td>0</td>\n",
       "      <td>0</td>\n",
       "      <td>1</td>\n",
       "      <td>0</td>\n",
       "    </tr>\n",
       "    <tr>\n",
       "      <td>11</td>\n",
       "      <td>1</td>\n",
       "      <td>0</td>\n",
       "      <td>0</td>\n",
       "      <td>1</td>\n",
       "      <td>1</td>\n",
       "      <td>1</td>\n",
       "      <td>1</td>\n",
       "      <td>0</td>\n",
       "      <td>0</td>\n",
       "      <td>1</td>\n",
       "      <td>0</td>\n",
       "      <td>0</td>\n",
       "      <td>1</td>\n",
       "    </tr>\n",
       "    <tr>\n",
       "      <td>12</td>\n",
       "      <td>0</td>\n",
       "      <td>1</td>\n",
       "      <td>0</td>\n",
       "      <td>0</td>\n",
       "      <td>1</td>\n",
       "      <td>1</td>\n",
       "      <td>1</td>\n",
       "      <td>1</td>\n",
       "      <td>0</td>\n",
       "      <td>0</td>\n",
       "      <td>1</td>\n",
       "      <td>0</td>\n",
       "      <td>0</td>\n",
       "    </tr>\n",
       "  </tbody>\n",
       "</table>\n",
       "</div>"
      ],
      "text/plain": [
       "    0  1  2  3  4  5  6  7  8  9  10  11  12\n",
       "0   0  1  0  1  1  0  0  0  0  1   1   0   1\n",
       "1   0  0  1  0  1  1  0  0  0  0   1   1   0\n",
       "2   1  0  0  1  0  1  1  0  0  0   0   1   1\n",
       "3   0  1  0  0  1  0  1  1  0  0   0   0   1\n",
       "4   0  0  1  0  0  1  0  1  1  0   0   0   0\n",
       "5   1  0  0  1  0  0  1  0  1  1   0   0   0\n",
       "6   1  1  0  0  1  0  0  1  0  1   1   0   0\n",
       "7   1  1  1  0  0  1  0  0  1  0   1   1   0\n",
       "8   1  1  1  1  0  0  1  0  0  1   0   1   1\n",
       "9   0  1  1  1  1  0  0  1  0  0   1   0   1\n",
       "10  0  0  1  1  1  1  0  0  1  0   0   1   0\n",
       "11  1  0  0  1  1  1  1  0  0  1   0   0   1\n",
       "12  0  1  0  0  1  1  1  1  0  0   1   0   0"
      ]
     },
     "execution_count": 175,
     "metadata": {},
     "output_type": "execute_result"
    }
   ],
   "source": [
    "data=open(\"../N-pal13\").read().split(\"\\n\")\n",
    "data=data[1:-1]\n",
    "dt = []\n",
    "for line in data:\n",
    "    dt.append([int(k) for k in line.split()])\n",
    "D_N_pal13 = pd.DataFrame(dt)\n",
    "D_N_pal13"
   ]
  },
  {
   "cell_type": "code",
   "execution_count": 179,
   "metadata": {},
   "outputs": [
    {
     "name": "stdout",
     "output_type": "stream",
     "text": [
      "Parameter OutputFlag unchanged\n",
      "   Value: 1  Min: 0  Max: 1  Default: 1\n",
      "Updating opjective in 0.0052 seconds\n",
      "Start optimization 0\n",
      "Optimize a model with 572 rows, 78 columns and 1716 nonzeros\n",
      "Variable types: 0 continuous, 78 integer (78 binary)\n",
      "Coefficient statistics:\n",
      "  Matrix range     [1e+00, 1e+00]\n",
      "  Objective range  [1e+00, 1e+00]\n",
      "  Bounds range     [1e+00, 1e+00]\n",
      "  RHS range        [1e+00, 1e+00]\n",
      "Found heuristic solution: objective 45.0000000\n",
      "Found heuristic solution: objective 50.0000000\n",
      "Presolve time: 0.00s\n",
      "Presolved: 572 rows, 78 columns, 1716 nonzeros\n",
      "Variable types: 0 continuous, 78 integer (78 binary)\n",
      "\n",
      "Root relaxation: objective 5.700000e+01, 49 iterations, 0.00 seconds\n",
      "\n",
      "    Nodes    |    Current Node    |     Objective Bounds      |     Work\n",
      " Expl Unexpl |  Obj  Depth IntInf | Incumbent    BestBd   Gap | It/Node Time\n",
      "\n",
      "*    0     0               0      57.0000000   57.00000  0.00%     -    0s\n",
      "\n",
      "Explored 0 nodes (49 simplex iterations) in 0.02 seconds\n",
      "Thread count was 8 (of 8 available processors)\n",
      "\n",
      "Solution count 3: 57 50 45 \n",
      "\n",
      "Optimal solution found (tolerance 1.00e-04)\n",
      "Best objective 5.700000000000e+01, best bound 5.700000000000e+01, gap 0.0000%\n",
      "Optimization in 0.0230 seconds\n",
      "End optimization 0\n",
      "Finished first optimization. Obj: 57.0\n",
      "Parameter OutputFlag unchanged\n",
      "   Value: 1  Min: 0  Max: 1  Default: 1\n",
      "Start optimization\n",
      "Optimize a model with 1302 rows, 312 columns and 4056 nonzeros\n",
      "Variable types: 0 continuous, 312 integer (312 binary)\n",
      "Coefficient statistics:\n",
      "  Matrix range     [1e+00, 1e+00]\n",
      "  Objective range  [1e+00, 1e+00]\n",
      "  Bounds range     [1e+00, 1e+00]\n",
      "  RHS range        [1e+00, 2e+01]\n",
      "Presolve time: 0.00s\n",
      "Presolved: 1302 rows, 312 columns, 4056 nonzeros\n",
      "Variable types: 0 continuous, 312 integer (312 binary)\n",
      "\n",
      "Root relaxation: objective 7.800000e+01, 340 iterations, 0.01 seconds\n",
      "\n",
      "    Nodes    |    Current Node    |     Objective Bounds      |     Work\n",
      " Expl Unexpl |  Obj  Depth IntInf | Incumbent    BestBd   Gap | It/Node Time\n",
      "\n",
      "     0     0   78.00000    0  116          -   78.00000      -     -    0s\n",
      "H    0     0                      20.0000000   78.00000   290%     -    0s\n",
      "     0     0   36.00000    0   44   20.00000   36.00000  80.0%     -    0s\n",
      "H    0     0                      34.0000000   36.00000  5.88%     -    0s\n",
      "     0     0   35.00000    0    2   34.00000   35.00000  2.94%     -    0s\n",
      "     0     0   35.00000    0    6   34.00000   35.00000  2.94%     -    0s\n",
      "     0     0 infeasible    0        34.00000   34.00000  0.00%     -    0s\n",
      "\n",
      "Cutting planes:\n",
      "  Gomory: 3\n",
      "  Clique: 8\n",
      "  Zero half: 2\n",
      "\n",
      "Explored 1 nodes (902 simplex iterations) in 0.13 seconds\n",
      "Thread count was 8 (of 8 available processors)\n",
      "\n",
      "Solution count 2: 34 20 \n",
      "\n",
      "Optimal solution found (tolerance 1.00e-04)\n",
      "Best objective 3.400000000000e+01, best bound 3.400000000000e+01, gap 0.0000%\n",
      "Optimization in 0.1381 seconds\n",
      "End optimization\n"
     ]
    },
    {
     "data": {
      "text/plain": [
       "34.0"
      ]
     },
     "execution_count": 179,
     "metadata": {},
     "output_type": "execute_result"
    }
   ],
   "source": [
    "k_two_distant,details_two_distant = pyrankability.search.solve_pair_max_tau(D_N_pal13.values,method='lop')\n",
    "\n",
    "k_two_distant"
   ]
  },
  {
   "cell_type": "markdown",
   "metadata": {},
   "source": [
    "For this example we've found the full P set:"
   ]
  },
  {
   "cell_type": "code",
   "execution_count": 180,
   "metadata": {},
   "outputs": [
    {
     "data": {
      "text/plain": [
       "((8, 11, 0, 9, 3, 12, 6, 7, 1, 10, 4, 2, 5),\n",
       " (7, 10, 8, 2, 11, 5, 6, 0, 9, 3, 12, 1, 4))"
      ]
     },
     "execution_count": 180,
     "metadata": {},
     "output_type": "execute_result"
    }
   ],
   "source": [
    "details_two_distant['perm_x'],details_two_distant['perm_y']"
   ]
  },
  {
   "cell_type": "code",
   "execution_count": 181,
   "metadata": {},
   "outputs": [
    {
     "data": {
      "text/plain": [
       "0.1282051282051282"
      ]
     },
     "execution_count": 181,
     "metadata": {},
     "output_type": "execute_result"
    }
   ],
   "source": [
    "pyrankability.common.tau(details_two_distant['perm_x'],details_two_distant['perm_y'])"
   ]
  },
  {
   "cell_type": "code",
   "execution_count": 182,
   "metadata": {},
   "outputs": [],
   "source": [
    "D2 = copy.deepcopy(D_N_pal13.values)\n",
    "D2[0,3] = 1\n",
    "D2[4,3] = 1\n",
    "D2[5,8] = 1\n",
    "D2[5,10] = 1\n",
    "D2[7,9] = 1\n",
    "D2[11,9] = 1"
   ]
  },
  {
   "cell_type": "code",
   "execution_count": 183,
   "metadata": {},
   "outputs": [
    {
     "data": {
      "text/plain": [
       "array([[0, 1, 0, 1, 1, 0, 0, 0, 0, 1, 1, 0, 1],\n",
       "       [0, 0, 1, 0, 1, 1, 0, 0, 0, 0, 1, 1, 0],\n",
       "       [1, 0, 0, 1, 0, 1, 1, 0, 0, 0, 0, 1, 1],\n",
       "       [0, 1, 0, 0, 1, 0, 1, 1, 0, 0, 0, 0, 1],\n",
       "       [0, 0, 1, 1, 0, 1, 0, 1, 1, 0, 0, 0, 0],\n",
       "       [1, 0, 0, 1, 0, 0, 1, 0, 1, 1, 1, 0, 0],\n",
       "       [1, 1, 0, 0, 1, 0, 0, 1, 0, 1, 1, 0, 0],\n",
       "       [1, 1, 1, 0, 0, 1, 0, 0, 1, 1, 1, 1, 0],\n",
       "       [1, 1, 1, 1, 0, 0, 1, 0, 0, 1, 0, 1, 1],\n",
       "       [0, 1, 1, 1, 1, 0, 0, 1, 0, 0, 1, 0, 1],\n",
       "       [0, 0, 1, 1, 1, 1, 0, 0, 1, 0, 0, 1, 0],\n",
       "       [1, 0, 0, 1, 1, 1, 1, 0, 0, 1, 0, 0, 1],\n",
       "       [0, 1, 0, 0, 1, 1, 1, 1, 0, 0, 1, 0, 0]])"
      ]
     },
     "execution_count": 183,
     "metadata": {},
     "output_type": "execute_result"
    }
   ],
   "source": [
    "D2"
   ]
  },
  {
   "cell_type": "code",
   "execution_count": 184,
   "metadata": {},
   "outputs": [
    {
     "name": "stdout",
     "output_type": "stream",
     "text": [
      "Parameter OutputFlag unchanged\n",
      "   Value: 1  Min: 0  Max: 1  Default: 1\n",
      "Updating opjective in 0.0059 seconds\n",
      "Start optimization 0\n",
      "Optimize a model with 572 rows, 78 columns and 1716 nonzeros\n",
      "Variable types: 0 continuous, 78 integer (78 binary)\n",
      "Coefficient statistics:\n",
      "  Matrix range     [1e+00, 1e+00]\n",
      "  Objective range  [1e+00, 1e+00]\n",
      "  Bounds range     [1e+00, 1e+00]\n",
      "  RHS range        [1e+00, 1e+00]\n",
      "Found heuristic solution: objective 46.0000000\n",
      "Found heuristic solution: objective 51.0000000\n",
      "Presolve time: 0.00s\n",
      "Presolved: 572 rows, 78 columns, 1716 nonzeros\n",
      "Variable types: 0 continuous, 78 integer (78 binary)\n",
      "\n",
      "Root relaxation: objective 5.900000e+01, 53 iterations, 0.00 seconds\n",
      "\n",
      "    Nodes    |    Current Node    |     Objective Bounds      |     Work\n",
      " Expl Unexpl |  Obj  Depth IntInf | Incumbent    BestBd   Gap | It/Node Time\n",
      "\n",
      "*    0     0               0      59.0000000   59.00000  0.00%     -    0s\n",
      "\n",
      "Explored 0 nodes (53 simplex iterations) in 0.02 seconds\n",
      "Thread count was 8 (of 8 available processors)\n",
      "\n",
      "Solution count 3: 59 51 46 \n",
      "\n",
      "Optimal solution found (tolerance 1.00e-04)\n",
      "Best objective 5.900000000000e+01, best bound 5.900000000000e+01, gap 0.0000%\n",
      "Optimization in 0.0225 seconds\n",
      "End optimization 0\n"
     ]
    },
    {
     "data": {
      "text/plain": [
       "59.0"
      ]
     },
     "execution_count": 184,
     "metadata": {},
     "output_type": "execute_result"
    }
   ],
   "source": [
    "k_D2,details_D2 = pyrankability.rank.solve(D2,method='lop',verbose=True)\n",
    "k_D2"
   ]
  },
  {
   "cell_type": "code",
   "execution_count": 186,
   "metadata": {},
   "outputs": [
    {
     "data": {
      "text/plain": [
       "57.0"
      ]
     },
     "execution_count": 186,
     "metadata": {},
     "output_type": "execute_result"
    }
   ],
   "source": [
    "k_pal13,detail_pad13 = pyrankability.rank.solve(D_N_pal13.values,method='lop')\n",
    "k_pal13"
   ]
  },
  {
   "cell_type": "code",
   "execution_count": 187,
   "metadata": {},
   "outputs": [
    {
     "name": "stdout",
     "output_type": "stream",
     "text": [
      "Parameter OutputFlag unchanged\n",
      "   Value: 1  Min: 0  Max: 1  Default: 1\n",
      "Updating opjective in 0.0048 seconds\n",
      "Start optimization 0\n",
      "Optimize a model with 572 rows, 78 columns and 1716 nonzeros\n",
      "Variable types: 0 continuous, 78 integer (78 binary)\n",
      "Coefficient statistics:\n",
      "  Matrix range     [1e+00, 1e+00]\n",
      "  Objective range  [1e+00, 1e+00]\n",
      "  Bounds range     [1e+00, 1e+00]\n",
      "  RHS range        [1e+00, 1e+00]\n",
      "Found heuristic solution: objective 45.0000000\n",
      "Found heuristic solution: objective 50.0000000\n",
      "Presolve time: 0.00s\n",
      "Presolved: 572 rows, 78 columns, 1716 nonzeros\n",
      "Variable types: 0 continuous, 78 integer (78 binary)\n",
      "\n",
      "Root relaxation: objective 5.700000e+01, 49 iterations, 0.00 seconds\n",
      "\n",
      "    Nodes    |    Current Node    |     Objective Bounds      |     Work\n",
      " Expl Unexpl |  Obj  Depth IntInf | Incumbent    BestBd   Gap | It/Node Time\n",
      "\n",
      "*    0     0               0      57.0000000   57.00000  0.00%     -    0s\n",
      "\n",
      "Explored 0 nodes (49 simplex iterations) in 0.02 seconds\n",
      "Thread count was 8 (of 8 available processors)\n",
      "\n",
      "Solution count 3: 57 50 45 \n",
      "\n",
      "Optimal solution found (tolerance 1.00e-04)\n",
      "Best objective 5.700000000000e+01, best bound 5.700000000000e+01, gap 0.0000%\n",
      "Optimization in 0.0246 seconds\n",
      "End optimization 0\n",
      "Finished first optimization. Obj: 57.0\n",
      "Parameter OutputFlag unchanged\n",
      "   Value: 1  Min: 0  Max: 1  Default: 1\n",
      "Updating opjective in 0.0055 seconds\n",
      "Start optimization 0\n",
      "Optimize a model with 572 rows, 78 columns and 1716 nonzeros\n",
      "Variable types: 0 continuous, 78 integer (78 binary)\n",
      "Coefficient statistics:\n",
      "  Matrix range     [1e+00, 1e+00]\n",
      "  Objective range  [1e+00, 1e+00]\n",
      "  Bounds range     [1e+00, 1e+00]\n",
      "  RHS range        [1e+00, 1e+00]\n",
      "Found heuristic solution: objective 46.0000000\n",
      "Found heuristic solution: objective 51.0000000\n",
      "Presolve time: 0.00s\n",
      "Presolved: 572 rows, 78 columns, 1716 nonzeros\n",
      "Variable types: 0 continuous, 78 integer (78 binary)\n",
      "\n",
      "Root relaxation: objective 5.900000e+01, 53 iterations, 0.00 seconds\n",
      "\n",
      "    Nodes    |    Current Node    |     Objective Bounds      |     Work\n",
      " Expl Unexpl |  Obj  Depth IntInf | Incumbent    BestBd   Gap | It/Node Time\n",
      "\n",
      "*    0     0               0      59.0000000   59.00000  0.00%     -    0s\n",
      "\n",
      "Explored 0 nodes (53 simplex iterations) in 0.02 seconds\n",
      "Thread count was 8 (of 8 available processors)\n",
      "\n",
      "Solution count 3: 59 51 46 \n",
      "\n",
      "Optimal solution found (tolerance 1.00e-04)\n",
      "Best objective 5.900000000000e+01, best bound 5.900000000000e+01, gap 0.0000%\n",
      "Optimization in 0.0229 seconds\n",
      "End optimization 0\n",
      "Parameter OutputFlag unchanged\n",
      "   Value: 1  Min: 0  Max: 1  Default: 1\n",
      "Start optimization\n",
      "Optimize a model with 1302 rows, 312 columns and 4053 nonzeros\n",
      "Variable types: 0 continuous, 312 integer (312 binary)\n",
      "Coefficient statistics:\n",
      "  Matrix range     [1e+00, 1e+00]\n",
      "  Objective range  [1e+00, 1e+00]\n",
      "  Bounds range     [1e+00, 1e+00]\n",
      "  RHS range        [1e+00, 2e+01]\n",
      "Presolve time: 0.01s\n",
      "Presolved: 1302 rows, 312 columns, 4053 nonzeros\n",
      "Variable types: 0 continuous, 312 integer (312 binary)\n",
      "\n",
      "Root relaxation: objective 7.800000e+01, 312 iterations, 0.01 seconds\n",
      "\n",
      "    Nodes    |    Current Node    |     Objective Bounds      |     Work\n",
      " Expl Unexpl |  Obj  Depth IntInf | Incumbent    BestBd   Gap | It/Node Time\n",
      "\n",
      "     0     0   78.00000    0  100          -   78.00000      -     -    0s\n",
      "H    0     0                      28.0000000   78.00000   179%     -    0s\n",
      "     0     0     cutoff    0        28.00000   28.00000  0.00%     -    0s\n",
      "\n",
      "Cutting planes:\n",
      "  Gomory: 26\n",
      "  Clique: 100\n",
      "\n",
      "Explored 1 nodes (829 simplex iterations) in 0.10 seconds\n",
      "Thread count was 8 (of 8 available processors)\n",
      "\n",
      "Solution count 1: 28 \n",
      "\n",
      "Optimal solution found (tolerance 1.00e-04)\n",
      "Best objective 2.800000000000e+01, best bound 2.800000000000e+01, gap 0.0000%\n",
      "Optimization in 0.1063 seconds\n",
      "End optimization\n"
     ]
    },
    {
     "data": {
      "text/plain": [
       "28.0"
      ]
     },
     "execution_count": 187,
     "metadata": {},
     "output_type": "execute_result"
    }
   ],
   "source": [
    "k_two_distant_D2,details_two_distant_D2 = pyrankability.search.solve_pair_max_tau(D_N_pal13.values,D2=D2,method='lop',verbose=True)\n",
    "k_two_distant_D2"
   ]
  },
  {
   "cell_type": "code",
   "execution_count": 188,
   "metadata": {},
   "outputs": [
    {
     "data": {
      "text/plain": [
       "0.28205128205128205"
      ]
     },
     "execution_count": 188,
     "metadata": {},
     "output_type": "execute_result"
    }
   ],
   "source": [
    "pyrankability.common.tau(details_two_distant_D2['perm_x'],details_two_distant_D2['perm_y'])"
   ]
  },
  {
   "cell_type": "markdown",
   "metadata": {},
   "source": [
    "# Haven't updated below (yet)\n",
    "Everything is working. And the rest is really just redundant but I'll update later"
   ]
  },
  {
   "cell_type": "code",
   "execution_count": 189,
   "metadata": {},
   "outputs": [
    {
     "ename": "AttributeError",
     "evalue": "module 'pyrankability' has no attribute 'lop'",
     "output_type": "error",
     "traceback": [
      "\u001b[0;31m---------------------------------------------------------------------------\u001b[0m",
      "\u001b[0;31mAttributeError\u001b[0m                            Traceback (most recent call last)",
      "\u001b[0;32m<ipython-input-189-8b96209e78d0>\u001b[0m in \u001b[0;36m<module>\u001b[0;34m\u001b[0m\n\u001b[0;32m----> 1\u001b[0;31m \u001b[0mk_two_distant_jonad\u001b[0m\u001b[0;34m,\u001b[0m\u001b[0mdetails_two_distant_jonad\u001b[0m \u001b[0;34m=\u001b[0m \u001b[0mpyrankability\u001b[0m\u001b[0;34m.\u001b[0m\u001b[0mlop\u001b[0m\u001b[0;34m.\u001b[0m\u001b[0mbilp_two_most_distant_jonad\u001b[0m\u001b[0;34m(\u001b[0m\u001b[0mD_N_pal13\u001b[0m\u001b[0;34m.\u001b[0m\u001b[0mvalues\u001b[0m\u001b[0;34m,\u001b[0m\u001b[0mverbose\u001b[0m\u001b[0;34m=\u001b[0m\u001b[0;32mTrue\u001b[0m\u001b[0;34m)\u001b[0m\u001b[0;34m\u001b[0m\u001b[0;34m\u001b[0m\u001b[0m\n\u001b[0m\u001b[1;32m      2\u001b[0m \u001b[0mk_two_distant_jonad\u001b[0m\u001b[0;34m\u001b[0m\u001b[0;34m\u001b[0m\u001b[0m\n",
      "\u001b[0;31mAttributeError\u001b[0m: module 'pyrankability' has no attribute 'lop'"
     ]
    }
   ],
   "source": [
    "k_two_distant_jonad,details_two_distant_jonad = pyrankability.lop.bilp_two_most_distant_jonad(D_N_pal13.values,verbose=True)\n",
    "k_two_distant_jonad"
   ]
  },
  {
   "cell_type": "code",
   "execution_count": 35,
   "metadata": {},
   "outputs": [
    {
     "data": {
      "text/plain": [
       "((7, 10, 8, 2, 11, 5, 0, 9, 3, 12, 6, 1, 4),\n",
       " (8, 11, 6, 0, 9, 3, 12, 7, 1, 10, 4, 2, 5))"
      ]
     },
     "execution_count": 35,
     "metadata": {},
     "output_type": "execute_result"
    }
   ],
   "source": [
    "details_two_distant_jonad['perm_x'],details_two_distant_jonad['perm_y']"
   ]
  },
  {
   "cell_type": "code",
   "execution_count": 35,
   "metadata": {},
   "outputs": [
    {
     "ename": "NameError",
     "evalue": "name 'details_two_distant_jonad' is not defined",
     "output_type": "error",
     "traceback": [
      "\u001b[0;31m---------------------------------------------------------------------------\u001b[0m",
      "\u001b[0;31mNameError\u001b[0m                                 Traceback (most recent call last)",
      "\u001b[0;32m<ipython-input-35-3d699a3721b2>\u001b[0m in \u001b[0;36m<module>\u001b[0;34m\u001b[0m\n\u001b[0;32m----> 1\u001b[0;31m \u001b[0mcalc_con_dis\u001b[0m\u001b[0;34m(\u001b[0m\u001b[0mdetails_two_distant_jonad\u001b[0m\u001b[0;34m[\u001b[0m\u001b[0;34m'perm_x'\u001b[0m\u001b[0;34m]\u001b[0m\u001b[0;34m,\u001b[0m\u001b[0mdetails_two_distant_jonad\u001b[0m\u001b[0;34m[\u001b[0m\u001b[0;34m'perm_y'\u001b[0m\u001b[0;34m]\u001b[0m\u001b[0;34m)\u001b[0m\u001b[0;34m\u001b[0m\u001b[0;34m\u001b[0m\u001b[0m\n\u001b[0m",
      "\u001b[0;31mNameError\u001b[0m: name 'details_two_distant_jonad' is not defined"
     ]
    }
   ],
   "source": [
    "calc_con_dis(details_two_distant_jonad['perm_x'],details_two_distant_jonad['perm_y'])"
   ]
  },
  {
   "cell_type": "code",
   "execution_count": 38,
   "metadata": {},
   "outputs": [
    {
     "data": {
      "text/plain": [
       "(44, 34)"
      ]
     },
     "execution_count": 38,
     "metadata": {},
     "output_type": "execute_result"
    }
   ],
   "source": [
    "calc_con_dis(details_two_distant['perm_x'],details_two_distant['perm_y'])"
   ]
  },
  {
   "cell_type": "code",
   "execution_count": 86,
   "metadata": {},
   "outputs": [
    {
     "data": {
      "text/plain": [
       "array([1, 2, 0])"
      ]
     },
     "execution_count": 86,
     "metadata": {},
     "output_type": "execute_result"
    }
   ],
   "source": [
    "np.argsort([3,1,2]) "
   ]
  },
  {
   "cell_type": "code",
   "execution_count": 39,
   "metadata": {},
   "outputs": [
    {
     "data": {
      "text/plain": [
       "[[7, 8, 2, 11, 5, 6, 0, 9, 3, 12, 1, 10, 4],\n",
       " [7, 10, 8, 2, 11, 5, 6, 0, 9, 3, 12, 1, 4],\n",
       " [7, 10, 8, 2, 11, 5, 0, 9, 3, 12, 6, 1, 4],\n",
       " [7, 8, 2, 11, 5, 0, 9, 3, 12, 6, 1, 10, 4],\n",
       " [7, 8, 2, 11, 0, 9, 3, 12, 6, 1, 10, 4, 5],\n",
       " [7, 8, 2, 11, 6, 0, 9, 3, 12, 1, 10, 4, 5],\n",
       " [8, 2, 11, 0, 9, 3, 12, 6, 7, 1, 10, 4, 5],\n",
       " [8, 2, 11, 6, 0, 9, 3, 12, 7, 1, 10, 4, 5],\n",
       " [8, 11, 6, 0, 9, 3, 12, 7, 1, 10, 4, 2, 5],\n",
       " [8, 11, 0, 9, 3, 12, 6, 7, 1, 10, 4, 2, 5]]"
      ]
     },
     "execution_count": 39,
     "metadata": {},
     "output_type": "execute_result"
    }
   ],
   "source": [
    "full_P = [[4, 10, 1, 12, 3, 9, 0, 6, 5, 11, 2, 8, 7],\n",
    "[4, 1, 12, 3, 9, 0, 6, 5, 11, 2, 8, 10, 7],\n",
    "[4, 1, 6, 12, 3, 9, 0, 5, 11, 2, 8, 10, 7],\n",
    "[4, 10, 1, 6, 12, 3, 9, 0, 5, 11, 2, 8, 7],\n",
    "[5, 4, 10, 1, 6, 12, 3, 9, 0, 11, 2, 8, 7],\n",
    "[5, 4, 10, 1, 12, 3, 9, 0, 6, 11, 2, 8, 7],\n",
    "[5, 4, 10, 1, 7, 6, 12, 3, 9, 0, 11, 2, 8],\n",
    "[5, 4, 10, 1, 7, 12, 3, 9, 0, 6, 11, 2, 8],\n",
    "[5, 2, 4, 10, 1, 7, 12, 3, 9, 0, 6, 11, 8],\n",
    "[5, 2, 4, 10, 1, 7, 6, 12, 3, 9, 0, 11, 8]]\n",
    "for i in range(len(full_P)):\n",
    "    full_P[i] = full_P[i][::-1]\n",
    "full_P"
   ]
  },
  {
   "cell_type": "code",
   "execution_count": 40,
   "metadata": {},
   "outputs": [
    {
     "data": {
      "text/plain": [
       "10"
      ]
     },
     "execution_count": 40,
     "metadata": {},
     "output_type": "execute_result"
    }
   ],
   "source": [
    "len(full_P)"
   ]
  },
  {
   "cell_type": "markdown",
   "metadata": {},
   "source": [
    "Find all concordant pairs and discordant pairs"
   ]
  },
  {
   "cell_type": "code",
   "execution_count": 41,
   "metadata": {},
   "outputs": [],
   "source": [
    "uc=np.zeros((n,n))\n",
    "vc=np.zeros((n,n))\n",
    "ncons = np.zeros((len(full_P),len(full_P)))\n",
    "ndiss = np.zeros((len(full_P),len(full_P)))\n",
    "for k,perm_x in enumerate(full_P):\n",
    "    for z,perm_y in enumerate(full_P):\n",
    "        ncon = 0\n",
    "        ndis = 0\n",
    "        for i in range(n): # i is an item\n",
    "            i_x = np.where(np.array(perm_x)==i)[0] # location of i in perm_x\n",
    "            i_y = np.where(np.array(perm_y)==i)[0] # location of i in perm_y\n",
    "            for j in range(i+1,n): # j is another item\n",
    "                j_x = np.where(np.array(perm_x)==j)[0] # location of j in perm_x\n",
    "                j_y = np.where(np.array(perm_y)==j)[0] # location of j in perm_y\n",
    "                if i_x-j_x > 0 and i_y-j_y < 0:\n",
    "                    vc[i,j] = 1\n",
    "                    ndis += 1\n",
    "                elif i_x-j_x < 0 and i_y-j_y > 0:\n",
    "                    uc[i,j] = 1\n",
    "                    ndis += 1\n",
    "                elif i_x-j_x > 0 and i_y-j_y > 0:\n",
    "                    ncon += 1\n",
    "                elif i_x-j_x < 0 and i_y-j_y < 0:\n",
    "                    ncon += 1\n",
    "        ncons[k,z] = ncon\n",
    "        ndiss[k,z] = ndis\n",
    "ncons = pd.DataFrame(ncons).astype(int)\n",
    "ndiss = pd.DataFrame(ndiss).astype(int)"
   ]
  },
  {
   "cell_type": "code",
   "execution_count": 42,
   "metadata": {},
   "outputs": [
    {
     "data": {
      "text/html": [
       "<div>\n",
       "<style scoped>\n",
       "    .dataframe tbody tr th:only-of-type {\n",
       "        vertical-align: middle;\n",
       "    }\n",
       "\n",
       "    .dataframe tbody tr th {\n",
       "        vertical-align: top;\n",
       "    }\n",
       "\n",
       "    .dataframe thead th {\n",
       "        text-align: right;\n",
       "    }\n",
       "</style>\n",
       "<table border=\"1\" class=\"dataframe\">\n",
       "  <thead>\n",
       "    <tr style=\"text-align: right;\">\n",
       "      <th></th>\n",
       "      <th>0</th>\n",
       "      <th>1</th>\n",
       "      <th>2</th>\n",
       "      <th>3</th>\n",
       "      <th>4</th>\n",
       "      <th>5</th>\n",
       "      <th>6</th>\n",
       "      <th>7</th>\n",
       "      <th>8</th>\n",
       "      <th>9</th>\n",
       "    </tr>\n",
       "  </thead>\n",
       "  <tbody>\n",
       "    <tr>\n",
       "      <td>0</td>\n",
       "      <td>28</td>\n",
       "      <td>28</td>\n",
       "      <td>26</td>\n",
       "      <td>26</td>\n",
       "      <td>21</td>\n",
       "      <td>23</td>\n",
       "      <td>17</td>\n",
       "      <td>19</td>\n",
       "      <td>15</td>\n",
       "      <td>13</td>\n",
       "    </tr>\n",
       "    <tr>\n",
       "      <td>1</td>\n",
       "      <td>28</td>\n",
       "      <td>28</td>\n",
       "      <td>26</td>\n",
       "      <td>26</td>\n",
       "      <td>21</td>\n",
       "      <td>23</td>\n",
       "      <td>17</td>\n",
       "      <td>19</td>\n",
       "      <td>15</td>\n",
       "      <td>13</td>\n",
       "    </tr>\n",
       "    <tr>\n",
       "      <td>2</td>\n",
       "      <td>26</td>\n",
       "      <td>26</td>\n",
       "      <td>28</td>\n",
       "      <td>28</td>\n",
       "      <td>23</td>\n",
       "      <td>21</td>\n",
       "      <td>19</td>\n",
       "      <td>17</td>\n",
       "      <td>13</td>\n",
       "      <td>15</td>\n",
       "    </tr>\n",
       "    <tr>\n",
       "      <td>3</td>\n",
       "      <td>26</td>\n",
       "      <td>26</td>\n",
       "      <td>28</td>\n",
       "      <td>28</td>\n",
       "      <td>23</td>\n",
       "      <td>21</td>\n",
       "      <td>19</td>\n",
       "      <td>17</td>\n",
       "      <td>13</td>\n",
       "      <td>15</td>\n",
       "    </tr>\n",
       "    <tr>\n",
       "      <td>4</td>\n",
       "      <td>21</td>\n",
       "      <td>21</td>\n",
       "      <td>23</td>\n",
       "      <td>23</td>\n",
       "      <td>28</td>\n",
       "      <td>26</td>\n",
       "      <td>24</td>\n",
       "      <td>22</td>\n",
       "      <td>18</td>\n",
       "      <td>20</td>\n",
       "    </tr>\n",
       "    <tr>\n",
       "      <td>5</td>\n",
       "      <td>23</td>\n",
       "      <td>23</td>\n",
       "      <td>21</td>\n",
       "      <td>21</td>\n",
       "      <td>26</td>\n",
       "      <td>28</td>\n",
       "      <td>22</td>\n",
       "      <td>24</td>\n",
       "      <td>20</td>\n",
       "      <td>18</td>\n",
       "    </tr>\n",
       "    <tr>\n",
       "      <td>6</td>\n",
       "      <td>17</td>\n",
       "      <td>17</td>\n",
       "      <td>19</td>\n",
       "      <td>19</td>\n",
       "      <td>24</td>\n",
       "      <td>22</td>\n",
       "      <td>28</td>\n",
       "      <td>26</td>\n",
       "      <td>20</td>\n",
       "      <td>22</td>\n",
       "    </tr>\n",
       "    <tr>\n",
       "      <td>7</td>\n",
       "      <td>19</td>\n",
       "      <td>19</td>\n",
       "      <td>17</td>\n",
       "      <td>17</td>\n",
       "      <td>22</td>\n",
       "      <td>24</td>\n",
       "      <td>26</td>\n",
       "      <td>28</td>\n",
       "      <td>22</td>\n",
       "      <td>20</td>\n",
       "    </tr>\n",
       "    <tr>\n",
       "      <td>8</td>\n",
       "      <td>15</td>\n",
       "      <td>15</td>\n",
       "      <td>13</td>\n",
       "      <td>13</td>\n",
       "      <td>18</td>\n",
       "      <td>20</td>\n",
       "      <td>20</td>\n",
       "      <td>22</td>\n",
       "      <td>28</td>\n",
       "      <td>26</td>\n",
       "    </tr>\n",
       "    <tr>\n",
       "      <td>9</td>\n",
       "      <td>13</td>\n",
       "      <td>13</td>\n",
       "      <td>15</td>\n",
       "      <td>15</td>\n",
       "      <td>20</td>\n",
       "      <td>18</td>\n",
       "      <td>22</td>\n",
       "      <td>20</td>\n",
       "      <td>26</td>\n",
       "      <td>28</td>\n",
       "    </tr>\n",
       "  </tbody>\n",
       "</table>\n",
       "</div>"
      ],
      "text/plain": [
       "    0   1   2   3   4   5   6   7   8   9\n",
       "0  28  28  26  26  21  23  17  19  15  13\n",
       "1  28  28  26  26  21  23  17  19  15  13\n",
       "2  26  26  28  28  23  21  19  17  13  15\n",
       "3  26  26  28  28  23  21  19  17  13  15\n",
       "4  21  21  23  23  28  26  24  22  18  20\n",
       "5  23  23  21  21  26  28  22  24  20  18\n",
       "6  17  17  19  19  24  22  28  26  20  22\n",
       "7  19  19  17  17  22  24  26  28  22  20\n",
       "8  15  15  13  13  18  20  20  22  28  26\n",
       "9  13  13  15  15  20  18  22  20  26  28"
      ]
     },
     "execution_count": 42,
     "metadata": {},
     "output_type": "execute_result"
    }
   ],
   "source": [
    "ncons"
   ]
  },
  {
   "cell_type": "code",
   "execution_count": 43,
   "metadata": {},
   "outputs": [
    {
     "data": {
      "text/html": [
       "<div>\n",
       "<style scoped>\n",
       "    .dataframe tbody tr th:only-of-type {\n",
       "        vertical-align: middle;\n",
       "    }\n",
       "\n",
       "    .dataframe tbody tr th {\n",
       "        vertical-align: top;\n",
       "    }\n",
       "\n",
       "    .dataframe thead th {\n",
       "        text-align: right;\n",
       "    }\n",
       "</style>\n",
       "<table border=\"1\" class=\"dataframe\">\n",
       "  <thead>\n",
       "    <tr style=\"text-align: right;\">\n",
       "      <th></th>\n",
       "      <th>0</th>\n",
       "      <th>1</th>\n",
       "      <th>2</th>\n",
       "      <th>3</th>\n",
       "      <th>4</th>\n",
       "      <th>5</th>\n",
       "      <th>6</th>\n",
       "      <th>7</th>\n",
       "      <th>8</th>\n",
       "      <th>9</th>\n",
       "    </tr>\n",
       "  </thead>\n",
       "  <tbody>\n",
       "    <tr>\n",
       "      <td>0</td>\n",
       "      <td>0</td>\n",
       "      <td>0</td>\n",
       "      <td>2</td>\n",
       "      <td>2</td>\n",
       "      <td>7</td>\n",
       "      <td>5</td>\n",
       "      <td>11</td>\n",
       "      <td>9</td>\n",
       "      <td>13</td>\n",
       "      <td>15</td>\n",
       "    </tr>\n",
       "    <tr>\n",
       "      <td>1</td>\n",
       "      <td>0</td>\n",
       "      <td>0</td>\n",
       "      <td>2</td>\n",
       "      <td>2</td>\n",
       "      <td>7</td>\n",
       "      <td>5</td>\n",
       "      <td>11</td>\n",
       "      <td>9</td>\n",
       "      <td>13</td>\n",
       "      <td>15</td>\n",
       "    </tr>\n",
       "    <tr>\n",
       "      <td>2</td>\n",
       "      <td>2</td>\n",
       "      <td>2</td>\n",
       "      <td>0</td>\n",
       "      <td>0</td>\n",
       "      <td>5</td>\n",
       "      <td>7</td>\n",
       "      <td>9</td>\n",
       "      <td>11</td>\n",
       "      <td>15</td>\n",
       "      <td>13</td>\n",
       "    </tr>\n",
       "    <tr>\n",
       "      <td>3</td>\n",
       "      <td>2</td>\n",
       "      <td>2</td>\n",
       "      <td>0</td>\n",
       "      <td>0</td>\n",
       "      <td>5</td>\n",
       "      <td>7</td>\n",
       "      <td>9</td>\n",
       "      <td>11</td>\n",
       "      <td>15</td>\n",
       "      <td>13</td>\n",
       "    </tr>\n",
       "    <tr>\n",
       "      <td>4</td>\n",
       "      <td>7</td>\n",
       "      <td>7</td>\n",
       "      <td>5</td>\n",
       "      <td>5</td>\n",
       "      <td>0</td>\n",
       "      <td>2</td>\n",
       "      <td>4</td>\n",
       "      <td>6</td>\n",
       "      <td>10</td>\n",
       "      <td>8</td>\n",
       "    </tr>\n",
       "    <tr>\n",
       "      <td>5</td>\n",
       "      <td>5</td>\n",
       "      <td>5</td>\n",
       "      <td>7</td>\n",
       "      <td>7</td>\n",
       "      <td>2</td>\n",
       "      <td>0</td>\n",
       "      <td>6</td>\n",
       "      <td>4</td>\n",
       "      <td>8</td>\n",
       "      <td>10</td>\n",
       "    </tr>\n",
       "    <tr>\n",
       "      <td>6</td>\n",
       "      <td>11</td>\n",
       "      <td>11</td>\n",
       "      <td>9</td>\n",
       "      <td>9</td>\n",
       "      <td>4</td>\n",
       "      <td>6</td>\n",
       "      <td>0</td>\n",
       "      <td>2</td>\n",
       "      <td>8</td>\n",
       "      <td>6</td>\n",
       "    </tr>\n",
       "    <tr>\n",
       "      <td>7</td>\n",
       "      <td>9</td>\n",
       "      <td>9</td>\n",
       "      <td>11</td>\n",
       "      <td>11</td>\n",
       "      <td>6</td>\n",
       "      <td>4</td>\n",
       "      <td>2</td>\n",
       "      <td>0</td>\n",
       "      <td>6</td>\n",
       "      <td>8</td>\n",
       "    </tr>\n",
       "    <tr>\n",
       "      <td>8</td>\n",
       "      <td>13</td>\n",
       "      <td>13</td>\n",
       "      <td>15</td>\n",
       "      <td>15</td>\n",
       "      <td>10</td>\n",
       "      <td>8</td>\n",
       "      <td>8</td>\n",
       "      <td>6</td>\n",
       "      <td>0</td>\n",
       "      <td>2</td>\n",
       "    </tr>\n",
       "    <tr>\n",
       "      <td>9</td>\n",
       "      <td>15</td>\n",
       "      <td>15</td>\n",
       "      <td>13</td>\n",
       "      <td>13</td>\n",
       "      <td>8</td>\n",
       "      <td>10</td>\n",
       "      <td>6</td>\n",
       "      <td>8</td>\n",
       "      <td>2</td>\n",
       "      <td>0</td>\n",
       "    </tr>\n",
       "  </tbody>\n",
       "</table>\n",
       "</div>"
      ],
      "text/plain": [
       "    0   1   2   3   4   5   6   7   8   9\n",
       "0   0   0   2   2   7   5  11   9  13  15\n",
       "1   0   0   2   2   7   5  11   9  13  15\n",
       "2   2   2   0   0   5   7   9  11  15  13\n",
       "3   2   2   0   0   5   7   9  11  15  13\n",
       "4   7   7   5   5   0   2   4   6  10   8\n",
       "5   5   5   7   7   2   0   6   4   8  10\n",
       "6  11  11   9   9   4   6   0   2   8   6\n",
       "7   9   9  11  11   6   4   2   0   6   8\n",
       "8  13  13  15  15  10   8   8   6   0   2\n",
       "9  15  15  13  13   8  10   6   8   2   0"
      ]
     },
     "execution_count": 43,
     "metadata": {},
     "output_type": "execute_result"
    }
   ],
   "source": [
    "ndiss"
   ]
  },
  {
   "cell_type": "markdown",
   "metadata": {},
   "source": [
    "What is the best pair? Best in this case being the farthest away."
   ]
  },
  {
   "cell_type": "code",
   "execution_count": 44,
   "metadata": {},
   "outputs": [
    {
     "data": {
      "text/plain": [
       "(0, 9)"
      ]
     },
     "execution_count": 44,
     "metadata": {},
     "output_type": "execute_result"
    }
   ],
   "source": [
    "best_pair = ndiss.stack().idxmax()\n",
    "best_pair"
   ]
  },
  {
   "cell_type": "code",
   "execution_count": 45,
   "metadata": {},
   "outputs": [
    {
     "name": "stdout",
     "output_type": "stream",
     "text": [
      "[7, 8, 2, 11, 5, 6, 0, 9, 3, 12, 1, 10, 4]\n",
      "[8, 11, 0, 9, 3, 12, 6, 7, 1, 10, 4, 2, 5]\n"
     ]
    }
   ],
   "source": [
    "print(full_P[best_pair[0]])\n",
    "print(full_P[best_pair[1]])"
   ]
  },
  {
   "cell_type": "markdown",
   "metadata": {},
   "source": [
    "What did we find using our algorithm?"
   ]
  },
  {
   "cell_type": "code",
   "execution_count": 46,
   "metadata": {},
   "outputs": [
    {
     "name": "stdout",
     "output_type": "stream",
     "text": [
      "(7, 10, 8, 2, 11, 5, 6, 0, 9, 3, 12, 1, 4)\n",
      "(8, 11, 0, 9, 3, 12, 6, 7, 1, 10, 4, 2, 5)\n"
     ]
    }
   ],
   "source": [
    "print(details_two_distant['perm_y'])\n",
    "print(details_two_distant['perm_x'])"
   ]
  },
  {
   "cell_type": "markdown",
   "metadata": {},
   "source": [
    "It's the same!"
   ]
  },
  {
   "cell_type": "markdown",
   "metadata": {},
   "source": [
    "### How does hillside compare?"
   ]
  },
  {
   "cell_type": "code",
   "execution_count": 47,
   "metadata": {},
   "outputs": [
    {
     "name": "stdout",
     "output_type": "stream",
     "text": [
      "Updating opjective in 0.0067 seconds\n",
      "Start optimization 0\n",
      "Optimization in 0.0075 seconds\n",
      "End optimization 0\n",
      "Finished first optimization. Obj: 436\n",
      "Parameter OutputFlag unchanged\n",
      "   Value: 1  Min: 0  Max: 1  Default: 1\n",
      "Start optimization\n",
      "Optimize a model with 1302 rows, 312 columns and 4024 nonzeros\n",
      "Variable types: 0 continuous, 312 integer (312 binary)\n",
      "Coefficient statistics:\n",
      "  Matrix range     [1e+00, 8e+00]\n",
      "  Objective range  [1e+00, 1e+00]\n",
      "  Bounds range     [1e+00, 1e+00]\n",
      "  RHS range        [1e+00, 4e+01]\n",
      "Found heuristic solution: objective -0.0000000\n",
      "Presolve removed 1242 rows and 272 columns\n",
      "Presolve time: 0.00s\n",
      "Presolved: 60 rows, 40 columns, 180 nonzeros\n",
      "Found heuristic solution: objective 16.0000000\n",
      "Variable types: 0 continuous, 40 integer (40 binary)\n",
      "\n",
      "Root relaxation: cutoff, 0 iterations, 0.00 seconds\n",
      "\n",
      "Explored 0 nodes (0 simplex iterations) in 0.01 seconds\n",
      "Thread count was 8 (of 8 available processors)\n",
      "\n",
      "Solution count 2: 16 6 \n",
      "\n",
      "Optimal solution found (tolerance 1.00e-04)\n",
      "Best objective 1.600000000000e+01, best bound 1.600000000000e+01, gap 0.0000%\n",
      "Optimization in 0.0158 seconds\n",
      "End optimization\n"
     ]
    },
    {
     "data": {
      "text/plain": [
       "436"
      ]
     },
     "execution_count": 47,
     "metadata": {},
     "output_type": "execute_result"
    }
   ],
   "source": [
    "k_two_distant_hillside,details_two_distant_hillside = pyrankability.hillside.bilp_two_most_distant(D_N_pal13.values,verbose=True)\n",
    "\n",
    "k_two_distant_hillside"
   ]
  },
  {
   "cell_type": "code",
   "execution_count": 48,
   "metadata": {},
   "outputs": [
    {
     "name": "stdout",
     "output_type": "stream",
     "text": [
      "(8, 11, 9, 7, 12, 10, 6, 2, 0, 5, 3, 1, 4)\n",
      "(8, 7, 9, 11, 0, 2, 6, 10, 12, 1, 3, 5, 4)\n"
     ]
    }
   ],
   "source": [
    "print(details_two_distant_hillside['perm_y'])\n",
    "print(details_two_distant_hillside['perm_x'])"
   ]
  }
 ],
 "metadata": {
  "kernelspec": {
   "display_name": "Python 3",
   "language": "python",
   "name": "python3"
  },
  "language_info": {
   "codemirror_mode": {
    "name": "ipython",
    "version": 3
   },
   "file_extension": ".py",
   "mimetype": "text/x-python",
   "name": "python",
   "nbconvert_exporter": "python",
   "pygments_lexer": "ipython3",
   "version": "3.6.9"
  }
 },
 "nbformat": 4,
 "nbformat_minor": 4
}
